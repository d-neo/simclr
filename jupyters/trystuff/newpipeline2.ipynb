{
 "cells": [
  {
   "cell_type": "code",
   "execution_count": 17,
   "metadata": {},
   "outputs": [],
   "source": [
    "# Import own modules\n",
    "# SelfSupervised\n",
    "import modules.selfsupervised.simclr_model as sm \n",
    "import modules.selfsupervised.simclr_train as smtr\n",
    "# Evaluation\n",
    "import modules.evaluation.lin_eval_testmoduls as let\n",
    "# Utils\n",
    "import modules.utils.transformations as t \n",
    "import modules.utils.loss_functions as lf\n",
    "import modules.utils.lars as lars\n",
    "# Settings\n",
    "import modules.utils.get_data as get \n",
    "# Reporting \n",
    "import modules.utils.reporting as report \n",
    "# Saving Model\n",
    "import modules.utils.save_model as savem\n",
    "# Get Model\n",
    "import modules.utils.get_model as gm \n",
    "# Import extern modules\n",
    "import argparse\n",
    "import torchvision\n",
    "import torch \n",
    "import torch.nn as nn\n",
    "from torch.nn.parallel import DataParallel\n",
    "import math \n",
    "import numpy as np\n",
    "\n",
    "import seaborn as sns\n",
    "import matplotlib.pyplot as plt\n"
   ]
  },
  {
   "cell_type": "code",
   "execution_count": 18,
   "metadata": {},
   "outputs": [],
   "source": [
    "# Create an Argparser\n",
    "parser = argparse.ArgumentParser(description='Train simCLRv1 on CIFAR-10')\n",
    "# Model-Architecture\n",
    "parser.add_argument('-a', '--arch', default='resnet18')\n",
    "# lr: 0.06 for batch 512 (or 0.03 for batch 256) 0.12 for 1024?\n",
    "parser.add_argument('--lr', '--learning-rate', default=1e-3, type=float, metavar='LR', help='initial learning rate', dest='lr')\n",
    "parser.add_argument('--epochs', default=20, type=int, metavar='N', help='number of total epochs to run')\n",
    "parser.add_argument('--schedule', default=[1020, 1060], nargs='*', type=int, help='learning rate schedule (when to drop lr by 10x); does not take effect if --cos is on')\n",
    "parser.add_argument('--cos', default=\"False\", type=str, help='use cosine lr schedule')\n",
    "parser.add_argument('--squared', default=\"False\", type=str, help='use square lr schedule')\n",
    "parser.add_argument('--batch-size', default=768, type=int, metavar='N', help='mini-batch size')\n",
    "parser.add_argument('--wd', default=1e-6, type=float, metavar='W', help='weight decay')\n",
    "parser.add_argument('--dataset', default=\"IMAGENET\", type=str, metavar='W', help='dataset')\n",
    "parser.add_argument('--dataset-dir', default=\"data/imagenet128\", type=str, metavar='W', help='dataset directory')\n",
    "parser.add_argument('--optimizer', default=\"adam\", type=str, metavar='W', help='Adam, SGD, Lars')\n",
    "# SIMCLR specific configs:\n",
    "parser.add_argument('--dim', default=128, type=int, help='feature dimension')\n",
    "parser.add_argument('--t', default=0.1, type=float, help='softmax temperature')\n",
    "parser.add_argument('--numberviews', default=2, type=int, help='Number of Views created for Avg.Loss')\n",
    "# Training/Test Settings\n",
    "parser.add_argument('--model-dir', default=\"\", type=str, metavar='W', help='if test true give model dir!')\n",
    "parser.add_argument('--model-name', default=\"\", type=str, metavar='W', help='if test true give model dir!')\n",
    "# Linear Evaluation\n",
    "parser.add_argument('--epochs-lineval', default=100, type=int, metavar='N', help='number of total epochs to run in linEval')\n",
    "# Labels\n",
    "parser.add_argument('--labels', default=\"full\", type=str, metavar='N', help='1%, 10% or full labelled data sets are supported')\n",
    "# Multiple GPUs\n",
    "parser.add_argument('--dataparallel', default=\"True\", type=str, metavar='W', help='multiple gpus true or false')\n",
    "# Reload\n",
    "parser.add_argument('--reload', default=\"False\", type=str, metavar='W', help='reload true or false')\n",
    "# Verbose\n",
    "parser.add_argument('--verbose', default=\"True\", type=str, help='True if you want to evaluate your representations after each epoch (obviously SLOWER!)')\n",
    "\n",
    "# Set up args\n",
    "args = parser.parse_args(\"\")"
   ]
  },
  {
   "cell_type": "code",
   "execution_count": 19,
   "metadata": {},
   "outputs": [],
   "source": [
    "# Convert \n",
    "args.dataparallel = True if str.lower(args.dataparallel) == \"true\" else False\n",
    "args.reload = True if str.lower(args.reload) == 'true' else False\n",
    "args.verbose = True if str.lower(args.verbose) == 'true' else False\n",
    "args.cos = True if str.lower(args.cos) == 'true' else False\n",
    "args.squared = True if str.lower(args.squared) == 'true' else False\n",
    "args.device = torch.device(\"cuda:0\" if torch.cuda.is_available() else \"cpu\")\n",
    "args.num_gpus = torch.cuda.device_count()"
   ]
  },
  {
   "cell_type": "code",
   "execution_count": 20,
   "metadata": {},
   "outputs": [],
   "source": [
    "args.dataset = \"CIFAR10\"\n",
    "#args.labels = \"10%\""
   ]
  },
  {
   "cell_type": "code",
   "execution_count": 21,
   "metadata": {},
   "outputs": [],
   "source": [
    "def plot(title, label, train_results, val_results, yscale='linear', save_path=None, \n",
    "         extra_pt=None, extra_pt_label=None):\n",
    "    \"\"\"Plot learning curves.\n",
    "\n",
    "    Args:\n",
    "        title (str): Title of plot\n",
    "        label (str): x-axis label\n",
    "        train_results (list): Results vector of training of length of number\n",
    "            of epochs trained. Could be loss or accuracy.\n",
    "        val_results (list): Results vector of validation of length of number\n",
    "            of epochs. Could be loss or accuracy.\n",
    "        yscale (str, optional): Matplotlib.pyplot.yscale parameter. \n",
    "            Defaults to 'linear'.\n",
    "        save_path (str, optional): If passed, figure will be saved at this path.\n",
    "            Defaults to None.\n",
    "        extra_pt (tuple, optional): Tuple of length 2, defining x and y coordinate\n",
    "            of where an additional black dot will be plotted. Defaults to None.\n",
    "        extra_pt_label (str, optional): Legend label of extra point. Defaults to None.\n",
    "    \"\"\"\n",
    "    \n",
    "    epoch_array = np.arange(len(train_results)) + 1\n",
    "    train_label, val_label = \"Training \"+label.lower(), \"Validation \"+label.lower()\n",
    "    \n",
    "    sns.set(style='ticks')\n",
    "\n",
    "    plt.plot(epoch_array, train_results, epoch_array, val_results, linestyle='dashed', marker='o')\n",
    "    legend = ['Train results', 'Validation results']\n",
    "    \n",
    "    if extra_pt:\n",
    "        ####################\n",
    "        ## YOUR CODE HERE ##\n",
    "        ####################\n",
    "        extra_point=plt.plot(extra_pt[0],extra_pt[1],'k.',label=extra_pt_label, markersize=16)\n",
    "        if extra_pt_label:\n",
    "            legend.append(extra_pt_label)\n",
    "\n",
    "        # END OF YOUR CODE #\n",
    "        \n",
    "    plt.vlines(20, 0, 1)\n",
    "        \n",
    "    plt.legend(legend)\n",
    "    plt.xlabel('Epoch')\n",
    "    plt.ylabel(label)\n",
    "    plt.yscale(yscale)\n",
    "    plt.title(title)\n",
    "    \n",
    "    sns.despine(trim=True, offset=5)\n",
    "    plt.title(title, fontsize=15)\n",
    "    if save_path:\n",
    "        plt.savefig(str(save_path), bbox_inches='tight')\n",
    "    plt.show()"
   ]
  },
  {
   "cell_type": "code",
   "execution_count": null,
   "metadata": {},
   "outputs": [],
   "source": []
  },
  {
   "cell_type": "code",
   "execution_count": null,
   "metadata": {},
   "outputs": [],
   "source": []
  },
  {
   "cell_type": "code",
   "execution_count": 22,
   "metadata": {},
   "outputs": [],
   "source": [
    "class modelSIMCLR(nn.Module):\n",
    "    \"\"\" SIMCLR MODEL\"\"\"\n",
    "\n",
    "    def __init__(self, encoder, n_features, loss_func, dim=128, T=0.1):\n",
    "        \"\"\" \n",
    "        Input:\n",
    "            encoder: Encoder you want to use to get feature representations (eg. resnet18)\n",
    "            n_features: Type int - The dimension of the encoder output, your feature dimension\n",
    "            loss_func: The loss function you want to use (from loss_functions.py)\n",
    "            eval_model: If you have labels, the model you want to evaluate your feature representations on\n",
    "            eval_optimizer: The optimizer for your eval_model\n",
    "            dim: Type int - The dimension the projection head outputs\n",
    "            T: Type int - The temperature parameter in the contrastive loss function\n",
    "\n",
    "            Creates a SIMCLR model\n",
    "        \"\"\"\n",
    "        # Inherit from nn module (standard)\n",
    "        super(modelSIMCLR, self).__init__()\n",
    "        self.T = T\n",
    "        self.n_features = n_features\n",
    "        self.loss_func = loss_func\n",
    "        # create the encoder\n",
    "        self.encoder_f = encoder\n",
    "        self.encoder_f.fc = torch.nn.Identity()\n",
    "        #self.encoder_f.fc = torch.nn.Linear(512, 512)\n",
    "        # Create Projection Head\n",
    "        self.mlp = nn.Sequential (\n",
    "            nn.Linear(self.n_features, self.n_features, bias=False),\n",
    "            nn.BatchNorm1d(num_features=self.n_features),\n",
    "            nn.ReLU(),\n",
    "            nn.Linear(self.n_features, dim, bias=False),\n",
    "            nn.BatchNorm1d(num_features=dim)\n",
    "        )\n",
    "        \n",
    "        self.switch = False\n",
    "        self.classifier = torch.nn.Linear(512,10)\n",
    "\n",
    "    def forward(self, im1, im2=None, args=None):\n",
    "        \"\"\"\n",
    "        Input:\n",
    "            im1: a batch of query images\n",
    "            im2: differently augmented query images\n",
    "\n",
    "            Runs the encoder, runs the projection head, normalizes the output of the projection head \n",
    "            and returns the contrastive loss given the loss_func from loss_functions.py \n",
    "        \"\"\"\n",
    "       \n",
    "        if self.switch:\n",
    "            h_i = self.encoder_f(im1)\n",
    "            return self.classifier(h_i)\n",
    "        else: \n",
    "             # Get Representations\n",
    "            h_i = self.encoder_f(im1)\n",
    "            h_j = self.encoder_f(im2)\n",
    "            z_i = self.mlp(h_i)\n",
    "            z_j = self.mlp(h_j)\n",
    "            # Normalize Feature Embeddings\n",
    "            z_i = nn.functional.normalize(z_i, p=2, dim=1)\n",
    "            z_j = nn.functional.normalize(z_j, p=2, dim=1) \n",
    "\n",
    "            return self.loss_func(z_i, z_j, self.T)\n"
   ]
  },
  {
   "cell_type": "code",
   "execution_count": 23,
   "metadata": {},
   "outputs": [
    {
     "name": "stdout",
     "output_type": "stream",
     "text": [
      "Files already downloaded and verified\n",
      "Files already downloaded and verified\n",
      "Files already downloaded and verified\n"
     ]
    }
   ],
   "source": [
    "# Set Reporting up\n",
    "#writer_train, writer_val, mkdirpath = report.setReportingUp_trainingSimclr(args)\n",
    "# Get Data\n",
    "train_loader, train_loader_nonaug, val_loader = get.data_trainingSimclr(args)\n",
    "# Get encoder\n",
    "encoder = get.encoder(args)\n",
    "args.featureDim, args.numberClasses, epoch_start = encoder.fc.in_features, get.numberClasses(args), 1\n",
    "# Choose Model\n",
    "model = modelSIMCLR(encoder, args.featureDim, lf.contrastive_loss_cosine_extra, dim=args.dim, T=args.t)\n",
    "# To device\n",
    "model = model.to(args.device)\n",
    "# Get Optimizer\n",
    "optimizer = get.optimizer_training(model, args)\n",
    "# Check Reload\n",
    "if args.reload: \n",
    "    checkpoint = torch.load(\"saved_models/selfsupervised/\"+args.model_dir+\"/\"+args.model_name, map_location=args.device.type)\n",
    "    model.load_state_dict(checkpoint['model_state_dict'])\n",
    "    optimizer.load_state_dict(checkpoint['optimizer_state_dict'])\n",
    "    epoch_start = checkpoint['epoch']+1\n",
    "# Check Dataparallel\n",
    "if args.dataparallel: model = DataParallel(model)\n",
    "    \n",
    "criterion = nn.CrossEntropyLoss()"
   ]
  },
  {
   "cell_type": "code",
   "execution_count": 25,
   "metadata": {},
   "outputs": [],
   "source": [
    "args.epochs = 20"
   ]
  },
  {
   "cell_type": "code",
   "execution_count": 26,
   "metadata": {},
   "outputs": [
    {
     "name": "stderr",
     "output_type": "stream",
     "text": [
      "  0%|          | 0/66 [00:00<?, ?it/s]/home/dustin/.conda/envs/usl/lib/python3.8/site-packages/torch/nn/parallel/_functions.py:64: UserWarning: Was asked to gather along dimension 0, but all input tensors were scalars; will instead unsqueeze and return a vector.\n",
      "  warnings.warn('Was asked to gather along dimension 0, but all '\n",
      "Train Epoch: [1/20], lr: 0.001000, Loss_Contrast: 5.2694, Nsim: 0.0299, Psim: 0.4709: 100%|██████████| 66/66 [00:38<00:00,  1.73it/s]\n",
      "Train Epoch: [2/20], lr: 0.001000, Loss_Contrast: 3.9092, Nsim: 0.0037, Psim: 0.5254: 100%|██████████| 66/66 [00:38<00:00,  1.71it/s]\n",
      "Train Epoch: [3/20], lr: 0.001000, Loss_Contrast: 3.3445, Nsim: 0.0039, Psim: 0.5593: 100%|██████████| 66/66 [00:39<00:00,  1.67it/s]\n",
      "Train Epoch: [4/20], lr: 0.001000, Loss_Contrast: 3.0185, Nsim: 0.0035, Psim: 0.5831: 100%|██████████| 66/66 [00:39<00:00,  1.68it/s]\n",
      "Train Epoch: [5/20], lr: 0.001000, Loss_Contrast: 2.7791, Nsim: 0.0027, Psim: 0.5992: 100%|██████████| 66/66 [00:39<00:00,  1.68it/s]\n",
      "Train Epoch: [6/20], lr: 0.001000, Loss_Contrast: 2.5909, Nsim: 0.0019, Psim: 0.6117: 100%|██████████| 66/66 [00:39<00:00,  1.68it/s]\n",
      "Train Epoch: [7/20], lr: 0.001000, Loss_Contrast: 2.4862, Nsim: 0.0013, Psim: 0.6192: 100%|██████████| 66/66 [00:39<00:00,  1.68it/s]\n",
      "Train Epoch: [8/20], lr: 0.001000, Loss_Contrast: 2.3793, Nsim: 0.0009, Psim: 0.6248: 100%|██████████| 66/66 [00:39<00:00,  1.67it/s]\n",
      "Train Epoch: [9/20], lr: 0.001000, Loss_Contrast: 2.2744, Nsim: 0.0007, Psim: 0.6346: 100%|██████████| 66/66 [00:39<00:00,  1.67it/s]\n",
      "Train Epoch: [10/20], lr: 0.001000, Loss_Contrast: 2.2020, Nsim: 0.0006, Psim: 0.6401: 100%|██████████| 66/66 [00:39<00:00,  1.67it/s]\n",
      "Train Epoch: [11/20], lr: 0.001000, Loss_Contrast: 2.1523, Nsim: 0.0005, Psim: 0.6441: 100%|██████████| 66/66 [00:39<00:00,  1.69it/s]\n",
      "Train Epoch: [12/20], lr: 0.001000, Loss_Contrast: 2.1128, Nsim: 0.0004, Psim: 0.6467: 100%|██████████| 66/66 [00:39<00:00,  1.68it/s]\n",
      "Train Epoch: [13/20], lr: 0.001000, Loss_Contrast: 2.0613, Nsim: 0.0004, Psim: 0.6520: 100%|██████████| 66/66 [00:39<00:00,  1.68it/s]\n",
      "Train Epoch: [14/20], lr: 0.001000, Loss_Contrast: 2.0171, Nsim: 0.0003, Psim: 0.6550: 100%|██████████| 66/66 [00:39<00:00,  1.67it/s]\n",
      "Train Epoch: [15/20], lr: 0.001000, Loss_Contrast: 1.9834, Nsim: 0.0003, Psim: 0.6573: 100%|██████████| 66/66 [00:39<00:00,  1.67it/s]\n",
      "Train Epoch: [16/20], lr: 0.001000, Loss_Contrast: 1.9420, Nsim: 0.0003, Psim: 0.6615: 100%|██████████| 66/66 [00:39<00:00,  1.67it/s]\n",
      "Train Epoch: [17/20], lr: 0.001000, Loss_Contrast: 1.9238, Nsim: 0.0003, Psim: 0.6621: 100%|██████████| 66/66 [00:39<00:00,  1.68it/s]\n",
      "Train Epoch: [18/20], lr: 0.001000, Loss_Contrast: 1.8849, Nsim: 0.0003, Psim: 0.6658: 100%|██████████| 66/66 [00:39<00:00,  1.68it/s]\n",
      "Train Epoch: [19/20], lr: 0.001000, Loss_Contrast: 1.8573, Nsim: 0.0002, Psim: 0.6673: 100%|██████████| 66/66 [00:39<00:00,  1.68it/s]\n",
      "Train Epoch: [20/20], lr: 0.001000, Loss_Contrast: 1.8395, Nsim: 0.0002, Psim: 0.6695: 100%|██████████| 66/66 [00:39<00:00,  1.68it/s]\n",
      "Train Epoch: [20/20], lr: 0.001000, Loss: 0.9539, Acc_Train: 0.6616: 100%|██████████| 66/66 [00:20<00:00,  3.16it/s]\n",
      "Val Epoch: [20/20], Loss: 0.6885, Acc_Val: 0.7552: 100%|██████████| 7/7 [00:00<00:00,  9.38it/s]\n",
      "Train Epoch: [20/20], lr: 0.001000, Loss: 0.5432, Acc_Train: 0.8087: 100%|██████████| 66/66 [00:20<00:00,  3.16it/s]\n",
      "Val Epoch: [20/20], Loss: 0.6294, Acc_Val: 0.7850: 100%|██████████| 7/7 [00:00<00:00,  9.75it/s]\n",
      "Train Epoch: [20/20], lr: 0.001000, Loss: 0.3853, Acc_Train: 0.8647: 100%|██████████| 66/66 [00:20<00:00,  3.15it/s]\n",
      "Val Epoch: [20/20], Loss: 0.8729, Acc_Val: 0.7306: 100%|██████████| 7/7 [00:00<00:00,  9.85it/s]\n",
      "Train Epoch: [20/20], lr: 0.001000, Loss: 0.2864, Acc_Train: 0.8994: 100%|██████████| 66/66 [00:20<00:00,  3.15it/s]\n",
      "Val Epoch: [20/20], Loss: 0.6106, Acc_Val: 0.8022: 100%|██████████| 7/7 [00:00<00:00,  9.83it/s]\n",
      "Train Epoch: [20/20], lr: 0.001000, Loss: 0.1874, Acc_Train: 0.9354: 100%|██████████| 66/66 [00:20<00:00,  3.16it/s]\n",
      "Val Epoch: [20/20], Loss: 0.8204, Acc_Val: 0.7832: 100%|██████████| 7/7 [00:00<00:00,  9.43it/s]\n",
      "Train Epoch: [20/20], lr: 0.001000, Loss: 0.1340, Acc_Train: 0.9537: 100%|██████████| 66/66 [00:20<00:00,  3.16it/s]\n",
      "Val Epoch: [20/20], Loss: 0.7993, Acc_Val: 0.8018: 100%|██████████| 7/7 [00:00<00:00,  9.63it/s]\n",
      "Train Epoch: [20/20], lr: 0.001000, Loss: 0.0946, Acc_Train: 0.9672: 100%|██████████| 66/66 [00:20<00:00,  3.16it/s]\n",
      "Val Epoch: [20/20], Loss: 0.7830, Acc_Val: 0.8056: 100%|██████████| 7/7 [00:00<00:00, 10.04it/s]\n",
      "Train Epoch: [20/20], lr: 0.001000, Loss: 0.0801, Acc_Train: 0.9719: 100%|██████████| 66/66 [00:20<00:00,  3.15it/s]\n",
      "Val Epoch: [20/20], Loss: 0.8589, Acc_Val: 0.8006: 100%|██████████| 7/7 [00:00<00:00,  9.49it/s]\n",
      "Train Epoch: [20/20], lr: 0.001000, Loss: 0.0703, Acc_Train: 0.9752: 100%|██████████| 66/66 [00:20<00:00,  3.16it/s]\n",
      "Val Epoch: [20/20], Loss: 0.8060, Acc_Val: 0.8170: 100%|██████████| 7/7 [00:00<00:00,  9.45it/s]\n",
      "Train Epoch: [20/20], lr: 0.001000, Loss: 0.0524, Acc_Train: 0.9828: 100%|██████████| 66/66 [00:20<00:00,  3.15it/s]\n",
      "Val Epoch: [20/20], Loss: 0.8296, Acc_Val: 0.8160: 100%|██████████| 7/7 [00:00<00:00,  9.64it/s]\n",
      "Train Epoch: [20/20], lr: 0.001000, Loss: 0.0497, Acc_Train: 0.9834: 100%|██████████| 66/66 [00:20<00:00,  3.16it/s]\n",
      "Val Epoch: [20/20], Loss: 0.7853, Acc_Val: 0.8238: 100%|██████████| 7/7 [00:00<00:00,  9.37it/s]\n",
      "Train Epoch: [20/20], lr: 0.001000, Loss: 0.0462, Acc_Train: 0.9851: 100%|██████████| 66/66 [00:21<00:00,  3.11it/s]\n",
      "Val Epoch: [20/20], Loss: 1.1066, Acc_Val: 0.7900: 100%|██████████| 7/7 [00:00<00:00,  9.41it/s]\n",
      "Train Epoch: [20/20], lr: 0.001000, Loss: 0.0539, Acc_Train: 0.9807: 100%|██████████| 66/66 [00:20<00:00,  3.16it/s]\n",
      "Val Epoch: [20/20], Loss: 0.8622, Acc_Val: 0.8174: 100%|██████████| 7/7 [00:00<00:00,  9.65it/s]\n",
      "Train Epoch: [20/20], lr: 0.001000, Loss: 0.0167, Acc_Train: 0.9950: 100%|██████████| 66/66 [00:20<00:00,  3.15it/s]\n",
      "Val Epoch: [20/20], Loss: 0.7648, Acc_Val: 0.8370: 100%|██████████| 7/7 [00:00<00:00,  9.67it/s]\n",
      "Train Epoch: [20/20], lr: 0.001000, Loss: 0.0056, Acc_Train: 0.9989: 100%|██████████| 66/66 [00:21<00:00,  3.13it/s]\n",
      "Val Epoch: [20/20], Loss: 0.7049, Acc_Val: 0.8556: 100%|██████████| 7/7 [00:00<00:00,  9.41it/s]\n",
      "Train Epoch: [20/20], lr: 0.001000, Loss: 0.0038, Acc_Train: 0.9992: 100%|██████████| 66/66 [00:20<00:00,  3.15it/s]\n",
      "Val Epoch: [20/20], Loss: 0.6923, Acc_Val: 0.8614: 100%|██████████| 7/7 [00:00<00:00,  9.38it/s]\n",
      "Train Epoch: [20/20], lr: 0.001000, Loss: 0.0020, Acc_Train: 0.9997: 100%|██████████| 66/66 [00:20<00:00,  3.15it/s]\n",
      "Val Epoch: [20/20], Loss: 0.6905, Acc_Val: 0.8596: 100%|██████████| 7/7 [00:00<00:00,  9.52it/s]\n",
      "Train Epoch: [20/20], lr: 0.001000, Loss: 0.0020, Acc_Train: 0.9996: 100%|██████████| 66/66 [00:20<00:00,  3.16it/s]\n",
      "Val Epoch: [20/20], Loss: 0.7258, Acc_Val: 0.8606: 100%|██████████| 7/7 [00:00<00:00,  9.40it/s]\n",
      "Train Epoch: [20/20], lr: 0.001000, Loss: 0.0005, Acc_Train: 1.0000: 100%|██████████| 66/66 [00:20<00:00,  3.14it/s]\n",
      "Val Epoch: [20/20], Loss: 0.6863, Acc_Val: 0.8688: 100%|██████████| 7/7 [00:00<00:00,  9.88it/s]\n",
      "Train Epoch: [20/20], lr: 0.001000, Loss: 0.0005, Acc_Train: 1.0000: 100%|██████████| 66/66 [00:20<00:00,  3.14it/s]\n",
      "Val Epoch: [20/20], Loss: 0.7029, Acc_Val: 0.8654: 100%|██████████| 7/7 [00:00<00:00,  9.69it/s]\n"
     ]
    }
   ],
   "source": [
    "# Start training\n",
    "train_losses =[]\n",
    "val_losses = []\n",
    "train_accs = []\n",
    "val_accs = []\n",
    "\n",
    "for epoch in range(epoch_start, args.epochs + 1):\n",
    "    train_loss, neg_sim, pos_sim, lr = smtr.train(model, train_loader, optimizer, epoch, args)\n",
    "    \"\"\"\n",
    "    if (epoch % 1) == 0:\n",
    "        model.module.switch = True\n",
    "        for _ in range(1):\n",
    "            train_loss, train_acc = let.train_lr(train_loader_nonaug, model, criterion, optimizer, epoch, args.epochs, args)\n",
    "            val_loss, val_acc = let.test_lr(val_loader, model, criterion, epoch, args.epochs, args)\n",
    "            train_losses.append(train_loss)\n",
    "            train_accs.append(train_acc)\n",
    "            val_losses.append(val_loss)\n",
    "            val_accs.append(val_acc)\n",
    "        model.module.switch = False\n",
    "       \"\"\"\n",
    "       \n",
    "model.module.switch = True\n",
    "for _ in range(20):\n",
    "    train_loss, train_acc = let.train_lr(train_loader_nonaug, model, criterion, optimizer, epoch, args.epochs, args)\n",
    "    val_loss, val_acc = let.test_lr(val_loader, model, criterion, epoch, args.epochs, args)\n",
    "    train_losses.append(train_loss)\n",
    "    train_accs.append(train_acc)\n",
    "    val_losses.append(val_loss)\n",
    "    val_accs.append(val_acc)"
   ]
  },
  {
   "cell_type": "code",
   "execution_count": 27,
   "metadata": {},
   "outputs": [
    {
     "data": {
      "image/png": "[encoded data removed]",
      "text/plain": [
       "<Figure size 432x288 with 1 Axes>"
      ]
     },
     "metadata": {},
     "output_type": "display_data"
    },
    {
     "name": "stdout",
     "output_type": "stream",
     "text": [
      "Best Loss-Value for Validation: 0.6105807253292629 at Epoch 4\n"
     ]
    },
    {
     "data": {
      "image/png": "[encoded data removed]",
      "text/plain": [
       "<Figure size 432x288 with 1 Axes>"
      ]
     },
     "metadata": {},
     "output_type": "display_data"
    },
    {
     "name": "stdout",
     "output_type": "stream",
     "text": [
      "Best Accuracy for Validation: 0.8688 at Epoch 19\n"
     ]
    }
   ],
   "source": [
    "min_value = min(val_losses)\n",
    "min_index = val_losses.index(min_value)+1\n",
    "\n",
    "plot(\"Loss vs Epoch\", \"Loss\", train_losses, val_losses, yscale='linear', save_path=None, \n",
    "         extra_pt=(min_index, min_value), extra_pt_label=\"Best Model\")\n",
    "print(f\"Best Loss-Value for Validation: {min_value} at Epoch {min_index}\")\n",
    "\n",
    "max_value = max(val_accs)\n",
    "max_index = val_accs.index(max_value)+1\n",
    "plot(\"Acc vs Epoch\", \"Accuracy\", train_accs, val_accs, yscale='linear', save_path=None, \n",
    "         extra_pt=(max_index, max_value), extra_pt_label=\"Best Model\")\n",
    "print(f\"Best Accuracy for Validation: {max_value} at Epoch {max_index}\")"
   ]
  },
  {
   "cell_type": "code",
   "execution_count": 65,
   "metadata": {},
   "outputs": [],
   "source": [
    "args.numberviews = 6\n",
    "args.batch_size = 256"
   ]
  },
  {
   "cell_type": "code",
   "execution_count": 66,
   "metadata": {},
   "outputs": [
    {
     "name": "stdout",
     "output_type": "stream",
     "text": [
      "Files already downloaded and verified\n",
      "Files already downloaded and verified\n"
     ]
    }
   ],
   "source": [
    "# Set Reporting up\n",
    "#writer_train, writer_val, mkdirpath = report.setReportingUp_trainingSimclr(args)\n",
    "# Get Data\n",
    "train_loader, train_loader_nonaug, val_loader = get.data_trainingSimclr(args)\n",
    "# Get encoder\n",
    "encoder = get.encoder(args)\n",
    "args.featureDim, args.numberClasses, epoch_start = encoder.fc.in_features, get.numberClasses(args), 1\n",
    "# Choose Model\n",
    "model = modelSIMCLR(encoder, args.featureDim, lf.contrastive_loss_cosine_extra, dim=args.dim, T=args.t)\n",
    "# To device\n",
    "model = model.to(args.device)\n",
    "# Get Optimizer\n",
    "optimizer = get.optimizer_training(model, args)\n",
    "# Check Reload\n",
    "if args.reload: \n",
    "    checkpoint = torch.load(\"saved_models/selfsupervised/\"+args.model_dir+\"/\"+args.model_name, map_location=args.device.type)\n",
    "    model.load_state_dict(checkpoint['model_state_dict'])\n",
    "    optimizer.load_state_dict(checkpoint['optimizer_state_dict'])\n",
    "    epoch_start = checkpoint['epoch']+1\n",
    "# Check Dataparallel\n",
    "if args.dataparallel: model = DataParallel(model)\n",
    "    \n",
    "criterion = nn.CrossEntropyLoss()"
   ]
  },
  {
   "cell_type": "code",
   "execution_count": 67,
   "metadata": {},
   "outputs": [
    {
     "name": "stderr",
     "output_type": "stream",
     "text": [
      "Train Epoch: [1/20], lr: 0.001000, Loss_Contrast: 3.1084, Nsim: 0.0047, Psim: 0.5141: 100%|██████████| 196/196 [02:21<00:00,  1.38it/s]\n",
      "Train Epoch: [1/20], lr: 0.001000, Loss: 1.8036, Acc_Train: 0.3460: 100%|██████████| 20/20 [00:03<00:00,  6.25it/s]\n",
      "Val Epoch: [1/20], Loss: 1.5349, Acc_Val: 0.4346: 100%|██████████| 20/20 [00:00<00:00, 22.27it/s]\n",
      "Train Epoch: [2/20], lr: 0.001000, Loss_Contrast: 2.0737, Nsim: 0.0056, Psim: 0.6051: 100%|██████████| 196/196 [02:24<00:00,  1.36it/s]\n",
      "Train Epoch: [2/20], lr: 0.001000, Loss: 1.4619, Acc_Train: 0.4774: 100%|██████████| 20/20 [00:03<00:00,  6.33it/s]\n",
      "Val Epoch: [2/20], Loss: 1.3032, Acc_Val: 0.5360: 100%|██████████| 20/20 [00:00<00:00, 22.34it/s]\n",
      "Train Epoch: [3/20], lr: 0.001000, Loss_Contrast: 1.7425, Nsim: 0.0025, Psim: 0.6308: 100%|██████████| 196/196 [02:24<00:00,  1.36it/s]\n",
      "Train Epoch: [3/20], lr: 0.001000, Loss: 1.4042, Acc_Train: 0.5122: 100%|██████████| 20/20 [00:03<00:00,  6.18it/s]\n",
      "Val Epoch: [3/20], Loss: 1.2276, Acc_Val: 0.5692: 100%|██████████| 20/20 [00:00<00:00, 22.33it/s]\n",
      "Train Epoch: [4/20], lr: 0.001000, Loss_Contrast: 1.5662, Nsim: 0.0013, Psim: 0.6452: 100%|██████████| 196/196 [02:24<00:00,  1.36it/s]\n",
      "Train Epoch: [4/20], lr: 0.001000, Loss: 1.0517, Acc_Train: 0.6306: 100%|██████████| 20/20 [00:03<00:00,  6.22it/s]\n",
      "Val Epoch: [4/20], Loss: 1.0331, Acc_Val: 0.6182: 100%|██████████| 20/20 [00:00<00:00, 21.43it/s]\n",
      "Train Epoch: [5/20], lr: 0.001000, Loss_Contrast: 1.4434, Nsim: 0.0009, Psim: 0.6553: 100%|██████████| 196/196 [02:24<00:00,  1.36it/s]\n",
      "Train Epoch: [5/20], lr: 0.001000, Loss: 0.9274, Acc_Train: 0.6636: 100%|██████████| 20/20 [00:03<00:00,  6.33it/s]\n",
      "Val Epoch: [5/20], Loss: 1.0739, Acc_Val: 0.6414: 100%|██████████| 20/20 [00:00<00:00, 22.13it/s]\n",
      "Train Epoch: [6/20], lr: 0.001000, Loss_Contrast: 1.3654, Nsim: 0.0007, Psim: 0.6638: 100%|██████████| 196/196 [02:24<00:00,  1.36it/s]\n",
      "Train Epoch: [6/20], lr: 0.001000, Loss: 0.8238, Acc_Train: 0.7008: 100%|██████████| 20/20 [00:03<00:00,  6.17it/s]\n",
      "Val Epoch: [6/20], Loss: 0.9358, Acc_Val: 0.6742: 100%|██████████| 20/20 [00:00<00:00, 21.49it/s]\n",
      "Train Epoch: [7/20], lr: 0.001000, Loss_Contrast: 1.3021, Nsim: 0.0006, Psim: 0.6701: 100%|██████████| 196/196 [02:23<00:00,  1.36it/s]\n",
      "Train Epoch: [7/20], lr: 0.001000, Loss: 0.7181, Acc_Train: 0.7440: 100%|██████████| 20/20 [00:03<00:00,  6.40it/s]\n",
      "Val Epoch: [7/20], Loss: 0.8861, Acc_Val: 0.7002: 100%|██████████| 20/20 [00:00<00:00, 22.81it/s]\n",
      "Train Epoch: [8/20], lr: 0.001000, Loss_Contrast: 1.2493, Nsim: 0.0005, Psim: 0.6742: 100%|██████████| 196/196 [02:24<00:00,  1.36it/s]\n",
      "Train Epoch: [8/20], lr: 0.001000, Loss: 0.6542, Acc_Train: 0.7632: 100%|██████████| 20/20 [00:03<00:00,  6.15it/s]\n",
      "Val Epoch: [8/20], Loss: 0.8810, Acc_Val: 0.7018: 100%|██████████| 20/20 [00:00<00:00, 21.95it/s]\n",
      "Train Epoch: [9/20], lr: 0.001000, Loss_Contrast: 1.2114, Nsim: 0.0005, Psim: 0.6786: 100%|██████████| 196/196 [02:23<00:00,  1.37it/s]\n",
      "Train Epoch: [9/20], lr: 0.001000, Loss: 0.5920, Acc_Train: 0.7818: 100%|██████████| 20/20 [00:03<00:00,  6.17it/s]\n",
      "Val Epoch: [9/20], Loss: 0.8091, Acc_Val: 0.7204: 100%|██████████| 20/20 [00:00<00:00, 21.77it/s]\n",
      "Train Epoch: [10/20], lr: 0.001000, Loss_Contrast: 1.1717, Nsim: 0.0004, Psim: 0.6824: 100%|██████████| 196/196 [02:24<00:00,  1.36it/s]\n",
      "Train Epoch: [10/20], lr: 0.001000, Loss: 0.5948, Acc_Train: 0.7884: 100%|██████████| 20/20 [00:03<00:00,  6.31it/s]\n",
      "Val Epoch: [10/20], Loss: 0.8142, Acc_Val: 0.7298: 100%|██████████| 20/20 [00:00<00:00, 21.70it/s]\n",
      "Train Epoch: [11/20], lr: 0.001000, Loss_Contrast: 1.1542, Nsim: 0.0004, Psim: 0.6843: 100%|██████████| 196/196 [02:23<00:00,  1.37it/s]\n",
      "Train Epoch: [11/20], lr: 0.001000, Loss: 0.4123, Acc_Train: 0.8476: 100%|██████████| 20/20 [00:03<00:00,  6.11it/s]\n",
      "Val Epoch: [11/20], Loss: 0.8115, Acc_Val: 0.7374: 100%|██████████| 20/20 [00:00<00:00, 22.09it/s]\n",
      "Train Epoch: [12/20], lr: 0.001000, Loss_Contrast: 1.1131, Nsim: 0.0003, Psim: 0.6889: 100%|██████████| 196/196 [02:23<00:00,  1.36it/s]\n",
      "Train Epoch: [12/20], lr: 0.001000, Loss: 0.2895, Acc_Train: 0.9070: 100%|██████████| 20/20 [00:03<00:00,  6.25it/s]\n",
      "Val Epoch: [12/20], Loss: 0.8119, Acc_Val: 0.7420: 100%|██████████| 20/20 [00:00<00:00, 22.47it/s]\n",
      "Train Epoch: [13/20], lr: 0.001000, Loss_Contrast: 1.0913, Nsim: 0.0003, Psim: 0.6912: 100%|██████████| 196/196 [02:23<00:00,  1.36it/s]\n",
      "Train Epoch: [13/20], lr: 0.001000, Loss: 0.2151, Acc_Train: 0.9402: 100%|██████████| 20/20 [00:03<00:00,  6.27it/s]\n",
      "Val Epoch: [13/20], Loss: 0.8219, Acc_Val: 0.7396: 100%|██████████| 20/20 [00:00<00:00, 21.76it/s]\n",
      "Train Epoch: [14/20], lr: 0.001000, Loss_Contrast: 1.0616, Nsim: 0.0003, Psim: 0.6942: 100%|██████████| 196/196 [02:24<00:00,  1.36it/s]\n",
      "Train Epoch: [14/20], lr: 0.001000, Loss: 0.1772, Acc_Train: 0.9460: 100%|██████████| 20/20 [00:03<00:00,  6.35it/s]\n",
      "Val Epoch: [14/20], Loss: 0.8433, Acc_Val: 0.7504: 100%|██████████| 20/20 [00:00<00:00, 23.76it/s]\n",
      "Train Epoch: [15/20], lr: 0.001000, Loss_Contrast: 1.0454, Nsim: 0.0003, Psim: 0.6962: 100%|██████████| 196/196 [02:23<00:00,  1.37it/s]\n",
      "Train Epoch: [15/20], lr: 0.001000, Loss: 0.1651, Acc_Train: 0.9536: 100%|██████████| 20/20 [00:03<00:00,  6.29it/s]\n",
      "Val Epoch: [15/20], Loss: 0.8637, Acc_Val: 0.7450: 100%|██████████| 20/20 [00:00<00:00, 21.99it/s]\n",
      "Train Epoch: [16/20], lr: 0.001000, Loss_Contrast: 1.0359, Nsim: 0.0003, Psim: 0.6974: 100%|██████████| 196/196 [02:23<00:00,  1.36it/s]\n",
      "Train Epoch: [16/20], lr: 0.001000, Loss: 0.1862, Acc_Train: 0.9400: 100%|██████████| 20/20 [00:03<00:00,  6.33it/s]\n",
      "Val Epoch: [16/20], Loss: 1.0335, Acc_Val: 0.7240: 100%|██████████| 20/20 [00:00<00:00, 22.71it/s]\n",
      "Train Epoch: [17/20], lr: 0.001000, Loss_Contrast: 1.0201, Nsim: 0.0002, Psim: 0.6992: 100%|██████████| 196/196 [02:24<00:00,  1.36it/s]\n",
      "Train Epoch: [17/20], lr: 0.001000, Loss: 0.1560, Acc_Train: 0.9498: 100%|██████████| 20/20 [00:03<00:00,  6.16it/s]\n",
      "Val Epoch: [17/20], Loss: 0.8731, Acc_Val: 0.7458: 100%|██████████| 20/20 [00:00<00:00, 21.98it/s]\n",
      "Train Epoch: [18/20], lr: 0.001000, Loss_Contrast: 1.0012, Nsim: 0.0002, Psim: 0.7011: 100%|██████████| 196/196 [02:24<00:00,  1.36it/s]\n",
      "Train Epoch: [18/20], lr: 0.001000, Loss: 0.1074, Acc_Train: 0.9676: 100%|██████████| 20/20 [00:03<00:00,  6.15it/s]\n",
      "Val Epoch: [18/20], Loss: 1.1192, Acc_Val: 0.7150: 100%|██████████| 20/20 [00:00<00:00, 21.48it/s]\n",
      "Train Epoch: [19/20], lr: 0.001000, Loss_Contrast: 0.9839, Nsim: 0.0002, Psim: 0.7032: 100%|██████████| 196/196 [02:24<00:00,  1.35it/s]\n",
      "Train Epoch: [19/20], lr: 0.001000, Loss: 0.0917, Acc_Train: 0.9734: 100%|██████████| 20/20 [00:03<00:00,  6.09it/s]\n",
      "Val Epoch: [19/20], Loss: 0.9424, Acc_Val: 0.7506: 100%|██████████| 20/20 [00:00<00:00, 22.01it/s]\n",
      "Train Epoch: [20/20], lr: 0.001000, Loss_Contrast: 0.9693, Nsim: 0.0002, Psim: 0.7051: 100%|██████████| 196/196 [02:23<00:00,  1.36it/s]\n",
      "Train Epoch: [20/20], lr: 0.001000, Loss: 0.0864, Acc_Train: 0.9786: 100%|██████████| 20/20 [00:03<00:00,  6.37it/s]\n",
      "Val Epoch: [20/20], Loss: 0.9041, Acc_Val: 0.7598: 100%|██████████| 20/20 [00:00<00:00, 22.77it/s]\n",
      "Train Epoch: [20/20], lr: 0.001000, Loss: 0.0316, Acc_Train: 0.9938: 100%|██████████| 20/20 [00:03<00:00,  6.30it/s]\n",
      "Val Epoch: [20/20], Loss: 0.8928, Acc_Val: 0.7720: 100%|██████████| 20/20 [00:00<00:00, 21.60it/s]\n",
      "Train Epoch: [20/20], lr: 0.001000, Loss: 0.0144, Acc_Train: 0.9978: 100%|██████████| 20/20 [00:03<00:00,  6.27it/s]\n",
      "Val Epoch: [20/20], Loss: 0.9549, Acc_Val: 0.7682: 100%|██████████| 20/20 [00:00<00:00, 22.03it/s]\n",
      "Train Epoch: [20/20], lr: 0.001000, Loss: 0.0078, Acc_Train: 0.9988: 100%|██████████| 20/20 [00:03<00:00,  6.24it/s]\n",
      "Val Epoch: [20/20], Loss: 0.9564, Acc_Val: 0.7736: 100%|██████████| 20/20 [00:00<00:00, 21.44it/s]\n",
      "Train Epoch: [20/20], lr: 0.001000, Loss: 0.0047, Acc_Train: 0.9994: 100%|██████████| 20/20 [00:03<00:00,  6.28it/s]\n",
      "Val Epoch: [20/20], Loss: 1.0282, Acc_Val: 0.7726: 100%|██████████| 20/20 [00:00<00:00, 21.99it/s]\n",
      "Train Epoch: [20/20], lr: 0.001000, Loss: 0.0043, Acc_Train: 0.9994: 100%|██████████| 20/20 [00:03<00:00,  6.36it/s]\n",
      "Val Epoch: [20/20], Loss: 1.0778, Acc_Val: 0.7674: 100%|██████████| 20/20 [00:00<00:00, 20.51it/s]\n",
      "Train Epoch: [20/20], lr: 0.001000, Loss: 0.0040, Acc_Train: 0.9992: 100%|██████████| 20/20 [00:03<00:00,  6.31it/s]\n",
      "Val Epoch: [20/20], Loss: 0.9625, Acc_Val: 0.7772: 100%|██████████| 20/20 [00:00<00:00, 21.26it/s]\n",
      "Train Epoch: [20/20], lr: 0.001000, Loss: 0.0040, Acc_Train: 0.9992: 100%|██████████| 20/20 [00:03<00:00,  6.38it/s]\n",
      "Val Epoch: [20/20], Loss: 0.9966, Acc_Val: 0.7758: 100%|██████████| 20/20 [00:00<00:00, 22.43it/s]\n",
      "Train Epoch: [20/20], lr: 0.001000, Loss: 0.0091, Acc_Train: 0.9978: 100%|██████████| 20/20 [00:03<00:00,  6.35it/s]\n",
      "Val Epoch: [20/20], Loss: 1.0641, Acc_Val: 0.7698: 100%|██████████| 20/20 [00:00<00:00, 22.17it/s]\n",
      "Train Epoch: [20/20], lr: 0.001000, Loss: 0.0195, Acc_Train: 0.9962: 100%|██████████| 20/20 [00:03<00:00,  6.35it/s]\n",
      "Val Epoch: [20/20], Loss: 1.0800, Acc_Val: 0.7640: 100%|██████████| 20/20 [00:00<00:00, 21.59it/s]\n",
      "Train Epoch: [20/20], lr: 0.001000, Loss: 0.0052, Acc_Train: 0.9990: 100%|██████████| 20/20 [00:03<00:00,  6.32it/s]\n",
      "Val Epoch: [20/20], Loss: 0.9970, Acc_Val: 0.7768: 100%|██████████| 20/20 [00:00<00:00, 21.94it/s]\n",
      "Train Epoch: [20/20], lr: 0.001000, Loss: 0.0019, Acc_Train: 1.0000: 100%|██████████| 20/20 [00:03<00:00,  6.30it/s]\n",
      "Val Epoch: [20/20], Loss: 0.9917, Acc_Val: 0.7764: 100%|██████████| 20/20 [00:00<00:00, 22.63it/s]\n",
      "Train Epoch: [20/20], lr: 0.001000, Loss: 0.0008, Acc_Train: 1.0000: 100%|██████████| 20/20 [00:03<00:00,  6.38it/s]\n",
      "Val Epoch: [20/20], Loss: 0.9871, Acc_Val: 0.7808: 100%|██████████| 20/20 [00:00<00:00, 22.53it/s]\n",
      "Train Epoch: [20/20], lr: 0.001000, Loss: 0.0005, Acc_Train: 1.0000: 100%|██████████| 20/20 [00:03<00:00,  6.30it/s]\n",
      "Val Epoch: [20/20], Loss: 1.0200, Acc_Val: 0.7868: 100%|██████████| 20/20 [00:00<00:00, 22.00it/s]\n",
      "Train Epoch: [20/20], lr: 0.001000, Loss: 0.0005, Acc_Train: 1.0000: 100%|██████████| 20/20 [00:03<00:00,  6.31it/s]\n",
      "Val Epoch: [20/20], Loss: 0.9850, Acc_Val: 0.7826: 100%|██████████| 20/20 [00:00<00:00, 22.17it/s]\n",
      "Train Epoch: [20/20], lr: 0.001000, Loss: 0.0005, Acc_Train: 1.0000: 100%|██████████| 20/20 [00:03<00:00,  6.28it/s]\n",
      "Val Epoch: [20/20], Loss: 1.0685, Acc_Val: 0.7714: 100%|██████████| 20/20 [00:00<00:00, 21.93it/s]\n",
      "Train Epoch: [20/20], lr: 0.001000, Loss: 0.0004, Acc_Train: 1.0000: 100%|██████████| 20/20 [00:03<00:00,  6.41it/s]\n",
      "Val Epoch: [20/20], Loss: 0.9968, Acc_Val: 0.7918: 100%|██████████| 20/20 [00:00<00:00, 21.74it/s]\n",
      "Train Epoch: [20/20], lr: 0.001000, Loss: 0.0004, Acc_Train: 1.0000: 100%|██████████| 20/20 [00:03<00:00,  6.38it/s]\n",
      "Val Epoch: [20/20], Loss: 1.0049, Acc_Val: 0.7822: 100%|██████████| 20/20 [00:00<00:00, 22.20it/s]\n",
      "Train Epoch: [20/20], lr: 0.001000, Loss: 0.0003, Acc_Train: 1.0000: 100%|██████████| 20/20 [00:03<00:00,  6.42it/s]\n",
      "Val Epoch: [20/20], Loss: 0.9610, Acc_Val: 0.7906: 100%|██████████| 20/20 [00:00<00:00, 21.09it/s]\n",
      "Train Epoch: [20/20], lr: 0.001000, Loss: 0.0003, Acc_Train: 1.0000: 100%|██████████| 20/20 [00:03<00:00,  6.40it/s]\n",
      "Val Epoch: [20/20], Loss: 0.9719, Acc_Val: 0.7858: 100%|██████████| 20/20 [00:00<00:00, 21.53it/s]\n",
      "Train Epoch: [20/20], lr: 0.001000, Loss: 0.0003, Acc_Train: 1.0000: 100%|██████████| 20/20 [00:03<00:00,  6.35it/s]\n",
      "Val Epoch: [20/20], Loss: 0.9944, Acc_Val: 0.7870: 100%|██████████| 20/20 [00:00<00:00, 22.33it/s]\n"
     ]
    }
   ],
   "source": [
    "# Start training\n",
    "train_losses =[]\n",
    "val_losses = []\n",
    "train_accs = []\n",
    "val_accs = []\n",
    "\n",
    "for epoch in range(epoch_start, args.epochs + 1):\n",
    "    train_loss, neg_sim, pos_sim, lr = smtr.train(model, train_loader, optimizer, epoch, args)\n",
    "    if (epoch % 1) == 0:\n",
    "        model.module.switch = True\n",
    "        for _ in range(1):\n",
    "            train_loss, train_acc = let.train_lr(train_loader_nonaug, model, criterion, optimizer, epoch, args.epochs, args)\n",
    "            val_loss, val_acc = let.test_lr(val_loader, model, criterion, epoch, args.epochs, args)\n",
    "            train_losses.append(train_loss)\n",
    "            train_accs.append(train_acc)\n",
    "            val_losses.append(val_loss)\n",
    "            val_accs.append(val_acc)\n",
    "        model.module.switch = False\n",
    "        \n",
    "model.module.switch = True\n",
    "for _ in range(20):\n",
    "    train_loss, train_acc = let.train_lr(train_loader_nonaug, model, criterion, optimizer, epoch, args.epochs, args)\n",
    "    val_loss, val_acc = let.test_lr(val_loader, model, criterion, epoch, args.epochs, args)\n",
    "    train_losses.append(train_loss)\n",
    "    train_accs.append(train_acc)\n",
    "    val_losses.append(val_loss)\n",
    "    val_accs.append(val_acc)"
   ]
  },
  {
   "cell_type": "code",
   "execution_count": 68,
   "metadata": {},
   "outputs": [
    {
     "data": {
      "image/png": "[encoded data removed]",
      "text/plain": [
       "<Figure size 432x288 with 1 Axes>"
      ]
     },
     "metadata": {},
     "output_type": "display_data"
    },
    {
     "name": "stdout",
     "output_type": "stream",
     "text": [
      "Best Loss-Value for Validation: 0.8091427475214005 at Epoch 9\n"
     ]
    },
    {
     "data": {
      "image/png": "[encoded data removed]",
      "text/plain": [
       "<Figure size 432x288 with 1 Axes>"
      ]
     },
     "metadata": {},
     "output_type": "display_data"
    },
    {
     "name": "stdout",
     "output_type": "stream",
     "text": [
      "Best Accuracy for Validation: 0.7918 at Epoch 36\n"
     ]
    }
   ],
   "source": [
    "min_value = min(val_losses)\n",
    "min_index = val_losses.index(min_value)+1\n",
    "\n",
    "plot(\"Loss vs Epoch\", \"Loss\", train_losses, val_losses, yscale='linear', save_path=None, \n",
    "         extra_pt=(min_index, min_value), extra_pt_label=\"Best Model\")\n",
    "print(f\"Best Loss-Value for Validation: {min_value} at Epoch {min_index}\")\n",
    "\n",
    "max_value = max(val_accs)\n",
    "max_index = val_accs.index(max_value)+1\n",
    "plot(\"Acc vs Epoch\", \"Accuracy\", train_accs, val_accs, yscale='linear', save_path=None, \n",
    "         extra_pt=(max_index, max_value), extra_pt_label=\"Best Model\")\n",
    "print(f\"Best Accuracy for Validation: {max_value} at Epoch {max_index}\")"
   ]
  },
  {
   "cell_type": "code",
   "execution_count": 7,
   "metadata": {},
   "outputs": [],
   "source": [
    "args.numberviews = 6\n",
    "args.batch_size = 256"
   ]
  },
  {
   "cell_type": "code",
   "execution_count": 8,
   "metadata": {},
   "outputs": [
    {
     "name": "stdout",
     "output_type": "stream",
     "text": [
      "Files already downloaded and verified\n",
      "Files already downloaded and verified\n"
     ]
    }
   ],
   "source": [
    "# Set Reporting up\n",
    "#writer_train, writer_val, mkdirpath = report.setReportingUp_trainingSimclr(args)\n",
    "# Get Data\n",
    "train_loader, train_loader_nonaug, val_loader = get.data_trainingSimclr(args)\n",
    "# Get encoder\n",
    "encoder = get.encoder(args)\n",
    "args.featureDim, args.numberClasses, epoch_start = encoder.fc.in_features, get.numberClasses(args), 1\n",
    "# Choose Model\n",
    "model = modelSIMCLR(encoder, args.featureDim, lf.contrastive_loss_cosine_extra, dim=args.dim, T=args.t)\n",
    "# To device\n",
    "model = model.to(args.device)\n",
    "# Get Optimizer\n",
    "optimizer = get.optimizer_training(model, args)\n",
    "# Check Reload\n",
    "if args.reload: \n",
    "    checkpoint = torch.load(\"saved_models/selfsupervised/\"+args.model_dir+\"/\"+args.model_name, map_location=args.device.type)\n",
    "    model.load_state_dict(checkpoint['model_state_dict'])\n",
    "    optimizer.load_state_dict(checkpoint['optimizer_state_dict'])\n",
    "    epoch_start = checkpoint['epoch']+1\n",
    "# Check Dataparallel\n",
    "if args.dataparallel: model = DataParallel(model)\n",
    "    \n",
    "criterion = nn.CrossEntropyLoss()"
   ]
  },
  {
   "cell_type": "code",
   "execution_count": 9,
   "metadata": {},
   "outputs": [
    {
     "name": "stderr",
     "output_type": "stream",
     "text": [
      "  0%|          | 0/196 [00:00<?, ?it/s]/home/dustin/.conda/envs/usl/lib/python3.8/site-packages/torch/nn/parallel/_functions.py:64: UserWarning: Was asked to gather along dimension 0, but all input tensors were scalars; will instead unsqueeze and return a vector.\n",
      "  warnings.warn('Was asked to gather along dimension 0, but all '\n",
      "Train Epoch: [1/20], lr: 0.001000, Loss_Contrast: 3.2142, Nsim: 0.0044, Psim: 0.5021: 100%|██████████| 196/196 [02:22<00:00,  1.38it/s]\n",
      "Train Epoch: [2/20], lr: 0.001000, Loss_Contrast: 2.0331, Nsim: 0.0046, Psim: 0.5976: 100%|██████████| 196/196 [02:23<00:00,  1.36it/s]\n",
      "Train Epoch: [3/20], lr: 0.001000, Loss_Contrast: 1.6901, Nsim: 0.0020, Psim: 0.6257: 100%|██████████| 196/196 [02:24<00:00,  1.36it/s]\n",
      "Train Epoch: [4/20], lr: 0.001000, Loss_Contrast: 1.5135, Nsim: 0.0010, Psim: 0.6418: 100%|██████████| 196/196 [02:24<00:00,  1.36it/s]\n",
      "Train Epoch: [5/20], lr: 0.001000, Loss_Contrast: 1.3882, Nsim: 0.0007, Psim: 0.6544: 100%|██████████| 196/196 [02:25<00:00,  1.35it/s]\n",
      "Train Epoch: [6/20], lr: 0.001000, Loss_Contrast: 1.3113, Nsim: 0.0006, Psim: 0.6621: 100%|██████████| 196/196 [02:25<00:00,  1.35it/s]\n",
      "Train Epoch: [7/20], lr: 0.001000, Loss_Contrast: 1.2534, Nsim: 0.0005, Psim: 0.6688: 100%|██████████| 196/196 [02:23<00:00,  1.36it/s]\n",
      "Train Epoch: [8/20], lr: 0.001000, Loss_Contrast: 1.2026, Nsim: 0.0004, Psim: 0.6737: 100%|██████████| 196/196 [02:24<00:00,  1.36it/s]\n",
      "Train Epoch: [9/20], lr: 0.001000, Loss_Contrast: 1.1631, Nsim: 0.0004, Psim: 0.6786: 100%|██████████| 196/196 [02:25<00:00,  1.35it/s]\n",
      "Train Epoch: [10/20], lr: 0.001000, Loss_Contrast: 1.1295, Nsim: 0.0004, Psim: 0.6823: 100%|██████████| 196/196 [02:24<00:00,  1.35it/s]\n",
      "Train Epoch: [11/20], lr: 0.001000, Loss_Contrast: 1.0974, Nsim: 0.0003, Psim: 0.6861: 100%|██████████| 196/196 [02:25<00:00,  1.35it/s]\n",
      "Train Epoch: [12/20], lr: 0.001000, Loss_Contrast: 1.0823, Nsim: 0.0003, Psim: 0.6882: 100%|██████████| 196/196 [02:24<00:00,  1.35it/s]\n",
      "Train Epoch: [13/20], lr: 0.001000, Loss_Contrast: 1.0528, Nsim: 0.0003, Psim: 0.6917: 100%|██████████| 196/196 [02:24<00:00,  1.36it/s]\n",
      "Train Epoch: [14/20], lr: 0.001000, Loss_Contrast: 1.0382, Nsim: 0.0003, Psim: 0.6930: 100%|██████████| 196/196 [02:24<00:00,  1.35it/s]\n",
      "Train Epoch: [15/20], lr: 0.001000, Loss_Contrast: 1.0129, Nsim: 0.0003, Psim: 0.6967: 100%|██████████| 196/196 [02:24<00:00,  1.36it/s]\n",
      "Train Epoch: [16/20], lr: 0.001000, Loss_Contrast: 0.9960, Nsim: 0.0002, Psim: 0.6981: 100%|██████████| 196/196 [02:24<00:00,  1.36it/s]\n",
      "Train Epoch: [17/20], lr: 0.001000, Loss_Contrast: 0.9825, Nsim: 0.0002, Psim: 0.7002: 100%|██████████| 196/196 [02:24<00:00,  1.35it/s]\n",
      "Train Epoch: [18/20], lr: 0.001000, Loss_Contrast: 0.9713, Nsim: 0.0002, Psim: 0.7017: 100%|██████████| 196/196 [02:24<00:00,  1.36it/s]\n",
      "Train Epoch: [19/20], lr: 0.001000, Loss_Contrast: 0.9583, Nsim: 0.0002, Psim: 0.7037: 100%|██████████| 196/196 [02:24<00:00,  1.35it/s]\n",
      "Train Epoch: [20/20], lr: 0.001000, Loss_Contrast: 0.9510, Nsim: 0.0002, Psim: 0.7039: 100%|██████████| 196/196 [02:24<00:00,  1.35it/s]\n",
      "Train Epoch: [20/20], lr: 0.001000, Loss: 1.4580, Acc_Train: 0.4494: 100%|██████████| 20/20 [00:03<00:00,  6.35it/s]\n",
      "Val Epoch: [20/20], Loss: 0.9650, Acc_Val: 0.6650: 100%|██████████| 20/20 [00:00<00:00, 21.62it/s]\n",
      "Train Epoch: [20/20], lr: 0.001000, Loss: 0.7016, Acc_Train: 0.7548: 100%|██████████| 20/20 [00:03<00:00,  6.34it/s]\n",
      "Val Epoch: [20/20], Loss: 0.7464, Acc_Val: 0.7382: 100%|██████████| 20/20 [00:00<00:00, 22.04it/s]\n",
      "Train Epoch: [20/20], lr: 0.001000, Loss: 0.4150, Acc_Train: 0.8528: 100%|██████████| 20/20 [00:03<00:00,  6.31it/s]\n",
      "Val Epoch: [20/20], Loss: 0.7546, Acc_Val: 0.7458: 100%|██████████| 20/20 [00:00<00:00, 22.09it/s]\n",
      "Train Epoch: [20/20], lr: 0.001000, Loss: 0.2196, Acc_Train: 0.9308: 100%|██████████| 20/20 [00:03<00:00,  6.33it/s]\n",
      "Val Epoch: [20/20], Loss: 0.9129, Acc_Val: 0.7438: 100%|██████████| 20/20 [00:00<00:00, 22.46it/s]\n",
      "Train Epoch: [20/20], lr: 0.001000, Loss: 0.1203, Acc_Train: 0.9604: 100%|██████████| 20/20 [00:03<00:00,  6.28it/s]\n",
      "Val Epoch: [20/20], Loss: 0.8746, Acc_Val: 0.7528: 100%|██████████| 20/20 [00:00<00:00, 22.06it/s]\n",
      "Train Epoch: [20/20], lr: 0.001000, Loss: 0.0683, Acc_Train: 0.9778: 100%|██████████| 20/20 [00:03<00:00,  6.24it/s]\n",
      "Val Epoch: [20/20], Loss: 0.9697, Acc_Val: 0.7638: 100%|██████████| 20/20 [00:00<00:00, 22.11it/s]\n",
      "Train Epoch: [20/20], lr: 0.001000, Loss: 0.0449, Acc_Train: 0.9862: 100%|██████████| 20/20 [00:03<00:00,  6.31it/s]\n",
      "Val Epoch: [20/20], Loss: 1.0750, Acc_Val: 0.7416: 100%|██████████| 20/20 [00:00<00:00, 22.26it/s]\n",
      "Train Epoch: [20/20], lr: 0.001000, Loss: 0.0260, Acc_Train: 0.9940: 100%|██████████| 20/20 [00:03<00:00,  6.29it/s]\n",
      "Val Epoch: [20/20], Loss: 1.2390, Acc_Val: 0.7434: 100%|██████████| 20/20 [00:00<00:00, 20.55it/s]\n",
      "Train Epoch: [20/20], lr: 0.001000, Loss: 0.0188, Acc_Train: 0.9938: 100%|██████████| 20/20 [00:03<00:00,  6.28it/s]\n",
      "Val Epoch: [20/20], Loss: 1.0128, Acc_Val: 0.7594: 100%|██████████| 20/20 [00:00<00:00, 22.21it/s]\n",
      "Train Epoch: [20/20], lr: 0.001000, Loss: 0.0152, Acc_Train: 0.9974: 100%|██████████| 20/20 [00:03<00:00,  6.33it/s]\n",
      "Val Epoch: [20/20], Loss: 1.0207, Acc_Val: 0.7736: 100%|██████████| 20/20 [00:00<00:00, 22.13it/s]\n",
      "Train Epoch: [20/20], lr: 0.001000, Loss: 0.0098, Acc_Train: 0.9986: 100%|██████████| 20/20 [00:03<00:00,  6.35it/s]\n",
      "Val Epoch: [20/20], Loss: 0.9816, Acc_Val: 0.7820: 100%|██████████| 20/20 [00:00<00:00, 22.17it/s]\n",
      "Train Epoch: [20/20], lr: 0.001000, Loss: 0.0046, Acc_Train: 0.9996: 100%|██████████| 20/20 [00:03<00:00,  6.22it/s]\n",
      "Val Epoch: [20/20], Loss: 1.1134, Acc_Val: 0.7676: 100%|██████████| 20/20 [00:00<00:00, 22.05it/s]\n",
      "Train Epoch: [20/20], lr: 0.001000, Loss: 0.0054, Acc_Train: 0.9988: 100%|██████████| 20/20 [00:03<00:00,  6.31it/s]\n",
      "Val Epoch: [20/20], Loss: 1.0986, Acc_Val: 0.7676: 100%|██████████| 20/20 [00:00<00:00, 22.26it/s]\n",
      "Train Epoch: [20/20], lr: 0.001000, Loss: 0.0097, Acc_Train: 0.9970: 100%|██████████| 20/20 [00:03<00:00,  6.26it/s]\n",
      "Val Epoch: [20/20], Loss: 1.1123, Acc_Val: 0.7694: 100%|██████████| 20/20 [00:00<00:00, 22.75it/s]\n",
      "Train Epoch: [20/20], lr: 0.001000, Loss: 0.0088, Acc_Train: 0.9976: 100%|██████████| 20/20 [00:03<00:00,  6.34it/s]\n",
      "Val Epoch: [20/20], Loss: 1.1040, Acc_Val: 0.7654: 100%|██████████| 20/20 [00:00<00:00, 22.18it/s]\n",
      "Train Epoch: [20/20], lr: 0.001000, Loss: 0.0059, Acc_Train: 0.9986: 100%|██████████| 20/20 [00:03<00:00,  6.30it/s]\n",
      "Val Epoch: [20/20], Loss: 1.1515, Acc_Val: 0.7706: 100%|██████████| 20/20 [00:00<00:00, 22.36it/s]\n",
      "Train Epoch: [20/20], lr: 0.001000, Loss: 0.0030, Acc_Train: 0.9998: 100%|██████████| 20/20 [00:03<00:00,  6.35it/s]\n",
      "Val Epoch: [20/20], Loss: 1.1434, Acc_Val: 0.7720: 100%|██████████| 20/20 [00:00<00:00, 21.67it/s]\n",
      "Train Epoch: [20/20], lr: 0.001000, Loss: 0.0017, Acc_Train: 0.9998: 100%|██████████| 20/20 [00:03<00:00,  6.30it/s]\n",
      "Val Epoch: [20/20], Loss: 1.0887, Acc_Val: 0.7812: 100%|██████████| 20/20 [00:00<00:00, 22.22it/s]\n",
      "Train Epoch: [20/20], lr: 0.001000, Loss: 0.0016, Acc_Train: 0.9996: 100%|██████████| 20/20 [00:03<00:00,  6.33it/s]\n",
      "Val Epoch: [20/20], Loss: 1.1391, Acc_Val: 0.7664: 100%|██████████| 20/20 [00:00<00:00, 21.54it/s]\n",
      "Train Epoch: [20/20], lr: 0.001000, Loss: 0.0009, Acc_Train: 1.0000: 100%|██████████| 20/20 [00:03<00:00,  6.30it/s]\n",
      "Val Epoch: [20/20], Loss: 1.1696, Acc_Val: 0.7602: 100%|██████████| 20/20 [00:00<00:00, 21.28it/s]\n"
     ]
    }
   ],
   "source": [
    "# Start training\n",
    "train_losses =[]\n",
    "val_losses = []\n",
    "train_accs = []\n",
    "val_accs = []\n",
    "\n",
    "for epoch in range(epoch_start, args.epochs + 1):\n",
    "    train_loss, neg_sim, pos_sim, lr = smtr.train(model, train_loader, optimizer, epoch, args)\n",
    "    if (epoch % 100) == 0:\n",
    "        model.module.switch = True\n",
    "        for _ in range(1):\n",
    "            train_loss, train_acc = let.train_lr(train_loader_nonaug, model, criterion, optimizer, epoch, args.epochs, args)\n",
    "            val_loss, val_acc = let.test_lr(val_loader, model, criterion, epoch, args.epochs, args)\n",
    "            train_losses.append(train_loss)\n",
    "            train_accs.append(train_acc)\n",
    "            val_losses.append(val_loss)\n",
    "            val_accs.append(val_acc)\n",
    "        model.module.switch = False\n",
    "        \n",
    "model.module.switch = True\n",
    "for _ in range(20):\n",
    "    train_loss, train_acc = let.train_lr(train_loader_nonaug, model, criterion, optimizer, epoch, args.epochs, args)\n",
    "    val_loss, val_acc = let.test_lr(val_loader, model, criterion, epoch, args.epochs, args)\n",
    "    train_losses.append(train_loss)\n",
    "    train_accs.append(train_acc)\n",
    "    val_losses.append(val_loss)\n",
    "    val_accs.append(val_acc)"
   ]
  },
  {
   "cell_type": "code",
   "execution_count": 10,
   "metadata": {},
   "outputs": [
    {
     "data": {
      "image/png": "[encoded data removed]",
      "text/plain": [
       "<Figure size 432x288 with 1 Axes>"
      ]
     },
     "metadata": {},
     "output_type": "display_data"
    },
    {
     "name": "stdout",
     "output_type": "stream",
     "text": [
      "Best Loss-Value for Validation: 0.7463997364044189 at Epoch 2\n"
     ]
    },
    {
     "data": {
      "image/png": "[encoded data removed]",
      "text/plain": [
       "<Figure size 432x288 with 1 Axes>"
      ]
     },
     "metadata": {},
     "output_type": "display_data"
    },
    {
     "name": "stdout",
     "output_type": "stream",
     "text": [
      "Best Accuracy for Validation: 0.782 at Epoch 11\n"
     ]
    }
   ],
   "source": [
    "min_value = min(val_losses)\n",
    "min_index = val_losses.index(min_value)+1\n",
    "\n",
    "plot(\"Loss vs Epoch\", \"Loss\", train_losses, val_losses, yscale='linear', save_path=None, \n",
    "         extra_pt=(min_index, min_value), extra_pt_label=\"Best Model\")\n",
    "print(f\"Best Loss-Value for Validation: {min_value} at Epoch {min_index}\")\n",
    "\n",
    "max_value = max(val_accs)\n",
    "max_index = val_accs.index(max_value)+1\n",
    "plot(\"Acc vs Epoch\", \"Accuracy\", train_accs, val_accs, yscale='linear', save_path=None, \n",
    "         extra_pt=(max_index, max_value), extra_pt_label=\"Best Model\")\n",
    "print(f\"Best Accuracy for Validation: {max_value} at Epoch {max_index}\")"
   ]
  },
  {
   "cell_type": "code",
   "execution_count": 19,
   "metadata": {},
   "outputs": [],
   "source": [
    "def featureEval(model, trainloader, valloader, epoch, args, extended=False ,maxepochs_nonextended=30):\n",
    "    \"\"\"\n",
    "    Input:\n",
    "        model: the simclr-model you trained\n",
    "        trainloader: Pytorch dataloader (training data)\n",
    "        valloader: Pytorch dataloader (validation data)\n",
    "        epoch: type int - epoch you are currently in\n",
    "        args: Args list\n",
    "        extended: Set to true for final evaluation on validation data (higher number of epochs), if false (lower number of epochs)\n",
    "        maxepochs_nonextended: type int - For extended, the epochs_lineval is used from the args-list, if not, it uses maxepochs_nonextended as the number of epochs to train\n",
    "                                            logistic regression\n",
    "    \"\"\"\n",
    "    if args.dataparallel: encoder = model.module.encoder_f  \n",
    "    else: encoder = model.encoder_f\n",
    "\n",
    "    # Logistig Regression \n",
    "    linear_model = let.LogisticRegression(args.featureDim, args.numberClasses).to(args.device)\n",
    "    optimizer_eval = torch.optim.Adam(linear_model.parameters(), lr=args.lr, weight_decay=args.wd)\n",
    "    criterion_eval = torch.nn.CrossEntropyLoss()\n",
    "\n",
    "    # Extract Features from encoder\n",
    "    (train_X, train_y, test_X, test_y) = let.get_features(encoder, trainloader, valloader)\n",
    "    arr_train_loader, arr_test_loader = let.create_data_loaders_from_arrays(train_X, train_y, test_X, test_y, args.batch_size)\n",
    "\n",
    "    # Check Feature Quality\n",
    "    all_valaccs = []\n",
    "    all_vallosses = []\n",
    "    all_trainaccs = []\n",
    "    all_trainlosses = []\n",
    "\n",
    "    if extended: \n",
    "        for epoch in range(1, args.epochs_lineval+1):\n",
    "            train_loss, train_acc = let.train_lr(arr_train_loader, linear_model, criterion_eval, optimizer_eval, epoch, args.epochs_lineval, args)\n",
    "            val_loss, val_or_test_acc = let.test_lr(arr_test_loader, linear_model, criterion_eval, epoch, args.epochs_lineval, args)  \n",
    "            all_valaccs.append(val_or_test_acc)\n",
    "            all_vallosses.append(val_loss)\n",
    "            all_trainaccs.append(train_acc)\n",
    "            all_trainlosses.append(train_loss)\n",
    "\n",
    "\n",
    "    else:\n",
    "        for epoch in range(1,maxepochs_nonextended+1):\n",
    "            train_loss, train_acc = let.train_lr(arr_train_loader, linear_model, criterion_eval, optimizer_eval, epoch, maxepochs_nonextended, args)\n",
    "            val_loss, val_or_test_acc = let.test_lr(arr_test_loader, linear_model, criterion_eval, epoch, maxepochs_nonextended, args)\n",
    "            all_valaccs.append(val_or_test_acc)\n",
    "            all_vallosses.append(val_loss)\n",
    "            all_trainaccs.append(train_acc)\n",
    "            all_trainlosses.append(train_loss)\n",
    "\n",
    "    \n",
    "\n",
    "\n",
    "    return (all_trainlosses, all_trainaccs, all_vallosses, all_valaccs)"
   ]
  },
  {
   "cell_type": "code",
   "execution_count": 20,
   "metadata": {},
   "outputs": [],
   "source": [
    "args.numberviews = 2\n",
    "args.batch_size = 768\n",
    "args.epochs = 1"
   ]
  },
  {
   "cell_type": "code",
   "execution_count": 21,
   "metadata": {},
   "outputs": [
    {
     "name": "stdout",
     "output_type": "stream",
     "text": [
      "Files already downloaded and verified\n",
      "Files already downloaded and verified\n"
     ]
    }
   ],
   "source": [
    "# Set Reporting up\n",
    "#writer_train, writer_val, mkdirpath = report.setReportingUp_trainingSimclr(args)\n",
    "# Get Data\n",
    "train_loader, train_loader_nonaug, val_loader = get.data_trainingSimclr(args)\n",
    "# Get encoder\n",
    "encoder = get.encoder(args)\n",
    "args.featureDim, args.numberClasses, epoch_start = encoder.fc.in_features, get.numberClasses(args), 1\n",
    "# Choose Model\n",
    "model = modelSIMCLR(encoder, args.featureDim, lf.contrastive_loss_cosine_extra, dim=args.dim, T=args.t)\n",
    "# To device\n",
    "model = model.to(args.device)\n",
    "# Get Optimizer\n",
    "optimizer = get.optimizer_training(model, args)\n",
    "# Check Reload\n",
    "if args.reload: \n",
    "    checkpoint = torch.load(\"saved_models/selfsupervised/\"+args.model_dir+\"/\"+args.model_name, map_location=args.device.type)\n",
    "    model.load_state_dict(checkpoint['model_state_dict'])\n",
    "    optimizer.load_state_dict(checkpoint['optimizer_state_dict'])\n",
    "    epoch_start = checkpoint['epoch']+1\n",
    "# Check Dataparallel\n",
    "if args.dataparallel: model = DataParallel(model)\n",
    "    \n",
    "criterion = nn.CrossEntropyLoss()"
   ]
  },
  {
   "cell_type": "code",
   "execution_count": 22,
   "metadata": {},
   "outputs": [
    {
     "name": "stderr",
     "output_type": "stream",
     "text": [
      "Train Epoch: [1/1], lr: 0.001000, Loss_Contrast: 5.2065, Nsim: 0.0079, Psim: 0.4372: 100%|██████████| 66/66 [00:38<00:00,  1.73it/s]\n"
     ]
    },
    {
     "name": "stdout",
     "output_type": "stream",
     "text": [
      "Computing features...\n",
      "Features shape (5000, 512)\n",
      "Computing features...\n"
     ]
    },
    {
     "name": "stderr",
     "output_type": "stream",
     "text": [
      "Train Epoch: [1/100], lr: 0.001000, Loss: 2.3391, Acc_Train: 0.0994: 100%|██████████| 7/7 [00:00<00:00, 142.99it/s]\n",
      "Val Epoch: [1/100], Loss: 2.2306, Acc_Val: 0.2010: 100%|██████████| 7/7 [00:00<00:00, 186.98it/s]\n",
      "Train Epoch: [2/100], lr: 0.001000, Loss: 2.1633, Acc_Train: 0.2208: 100%|██████████| 7/7 [00:00<00:00, 161.99it/s]\n",
      "Val Epoch: [2/100], Loss: 2.0743, Acc_Val: 0.2630: 100%|██████████| 7/7 [00:00<00:00, 187.20it/s]\n",
      "Train Epoch: [3/100], lr: 0.001000, Loss: 2.0430, Acc_Train: 0.2731:   0%|          | 0/7 [00:00<?, ?it/s]"
     ]
    },
    {
     "name": "stdout",
     "output_type": "stream",
     "text": [
      "Features shape (5000, 512)\n"
     ]
    },
    {
     "name": "stderr",
     "output_type": "stream",
     "text": [
      "Train Epoch: [3/100], lr: 0.001000, Loss: 2.0195, Acc_Train: 0.2920: 100%|██████████| 7/7 [00:00<00:00, 161.58it/s]\n",
      "Val Epoch: [3/100], Loss: 1.9698, Acc_Val: 0.3160: 100%|██████████| 7/7 [00:00<00:00, 188.29it/s]\n",
      "Train Epoch: [4/100], lr: 0.001000, Loss: 1.9210, Acc_Train: 0.3320: 100%|██████████| 7/7 [00:00<00:00, 162.26it/s]\n",
      "Val Epoch: [4/100], Loss: 1.8857, Acc_Val: 0.3444: 100%|██████████| 7/7 [00:00<00:00, 187.36it/s]\n",
      "Train Epoch: [5/100], lr: 0.001000, Loss: 1.8440, Acc_Train: 0.3668: 100%|██████████| 7/7 [00:00<00:00, 162.74it/s]\n",
      "Val Epoch: [5/100], Loss: 1.8274, Acc_Val: 0.3632: 100%|██████████| 7/7 [00:00<00:00, 68.90it/s]\n",
      "Train Epoch: [6/100], lr: 0.001000, Loss: 1.7883, Acc_Train: 0.3848: 100%|██████████| 7/7 [00:00<00:00, 160.06it/s]\n",
      "Val Epoch: [6/100], Loss: 1.7815, Acc_Val: 0.3838: 100%|██████████| 7/7 [00:00<00:00, 186.51it/s]\n",
      "Train Epoch: [7/100], lr: 0.001000, Loss: 1.7451, Acc_Train: 0.4026: 100%|██████████| 7/7 [00:00<00:00, 162.00it/s]\n",
      "Val Epoch: [7/100], Loss: 1.7465, Acc_Val: 0.3986: 100%|██████████| 7/7 [00:00<00:00, 185.86it/s]\n",
      "Train Epoch: [8/100], lr: 0.001000, Loss: 1.7111, Acc_Train: 0.4110: 100%|██████████| 7/7 [00:00<00:00, 160.17it/s]\n",
      "Val Epoch: [8/100], Loss: 1.7182, Acc_Val: 0.4092: 100%|██████████| 7/7 [00:00<00:00, 187.13it/s]\n",
      "Train Epoch: [9/100], lr: 0.001000, Loss: 1.6836, Acc_Train: 0.4152: 100%|██████████| 7/7 [00:00<00:00, 161.95it/s]\n",
      "Val Epoch: [9/100], Loss: 1.6951, Acc_Val: 0.4158: 100%|██████████| 7/7 [00:00<00:00, 187.82it/s]\n",
      "Train Epoch: [10/100], lr: 0.001000, Loss: 1.6609, Acc_Train: 0.4200: 100%|██████████| 7/7 [00:00<00:00, 161.50it/s]\n",
      "Val Epoch: [10/100], Loss: 1.6758, Acc_Val: 0.4214: 100%|██████████| 7/7 [00:00<00:00, 78.84it/s]\n",
      "Train Epoch: [11/100], lr: 0.001000, Loss: 1.6415, Acc_Train: 0.4256: 100%|██████████| 7/7 [00:00<00:00, 160.90it/s]\n",
      "Val Epoch: [11/100], Loss: 1.6593, Acc_Val: 0.4246: 100%|██████████| 7/7 [00:00<00:00, 187.54it/s]\n",
      "Train Epoch: [12/100], lr: 0.001000, Loss: 1.6250, Acc_Train: 0.4290: 100%|██████████| 7/7 [00:00<00:00, 161.25it/s]\n",
      "Val Epoch: [12/100], Loss: 1.6452, Acc_Val: 0.4252: 100%|██████████| 7/7 [00:00<00:00, 186.08it/s]\n",
      "Train Epoch: [13/100], lr: 0.001000, Loss: 1.6106, Acc_Train: 0.4330: 100%|██████████| 7/7 [00:00<00:00, 161.81it/s]\n",
      "Val Epoch: [13/100], Loss: 1.6328, Acc_Val: 0.4268: 100%|██████████| 7/7 [00:00<00:00, 188.28it/s]\n",
      "Train Epoch: [14/100], lr: 0.001000, Loss: 1.5980, Acc_Train: 0.4370: 100%|██████████| 7/7 [00:00<00:00, 161.85it/s]\n",
      "Val Epoch: [14/100], Loss: 1.6220, Acc_Val: 0.4300: 100%|██████████| 7/7 [00:00<00:00, 187.13it/s]\n",
      "Train Epoch: [15/100], lr: 0.001000, Loss: 1.5867, Acc_Train: 0.4402: 100%|██████████| 7/7 [00:00<00:00, 161.20it/s]\n",
      "Val Epoch: [15/100], Loss: 1.6125, Acc_Val: 0.4314: 100%|██████████| 7/7 [00:00<00:00, 188.77it/s]\n",
      "Train Epoch: [16/100], lr: 0.001000, Loss: 1.5767, Acc_Train: 0.4422: 100%|██████████| 7/7 [00:00<00:00, 161.55it/s]\n",
      "Val Epoch: [16/100], Loss: 1.6039, Acc_Val: 0.4318: 100%|██████████| 7/7 [00:00<00:00, 187.66it/s]\n",
      "Train Epoch: [17/100], lr: 0.001000, Loss: 1.5676, Acc_Train: 0.4448: 100%|██████████| 7/7 [00:00<00:00, 161.41it/s]\n",
      "Val Epoch: [17/100], Loss: 1.5963, Acc_Val: 0.4342: 100%|██████████| 7/7 [00:00<00:00, 188.53it/s]\n",
      "Train Epoch: [18/100], lr: 0.001000, Loss: 1.5594, Acc_Train: 0.4464: 100%|██████████| 7/7 [00:00<00:00, 73.32it/s]\n",
      "Val Epoch: [18/100], Loss: 1.5894, Acc_Val: 0.4362: 100%|██████████| 7/7 [00:00<00:00, 186.30it/s]\n",
      "Train Epoch: [19/100], lr: 0.001000, Loss: 1.5519, Acc_Train: 0.4484: 100%|██████████| 7/7 [00:00<00:00, 160.82it/s]\n",
      "Val Epoch: [19/100], Loss: 1.5831, Acc_Val: 0.4372: 100%|██████████| 7/7 [00:00<00:00, 187.47it/s]\n",
      "Train Epoch: [20/100], lr: 0.001000, Loss: 1.5450, Acc_Train: 0.4492: 100%|██████████| 7/7 [00:00<00:00, 160.44it/s]\n",
      "Val Epoch: [20/100], Loss: 1.5774, Acc_Val: 0.4408: 100%|██████████| 7/7 [00:00<00:00, 189.37it/s]\n",
      "Train Epoch: [21/100], lr: 0.001000, Loss: 1.5386, Acc_Train: 0.4500: 100%|██████████| 7/7 [00:00<00:00, 161.11it/s]\n",
      "Val Epoch: [21/100], Loss: 1.5722, Acc_Val: 0.4412: 100%|██████████| 7/7 [00:00<00:00, 187.16it/s]\n",
      "Train Epoch: [22/100], lr: 0.001000, Loss: 1.5327, Acc_Train: 0.4536: 100%|██████████| 7/7 [00:00<00:00, 161.76it/s]\n",
      "Val Epoch: [22/100], Loss: 1.5674, Acc_Val: 0.4424: 100%|██████████| 7/7 [00:00<00:00, 188.02it/s]\n",
      "Train Epoch: [23/100], lr: 0.001000, Loss: 1.5271, Acc_Train: 0.4562: 100%|██████████| 7/7 [00:00<00:00, 74.11it/s]\n",
      "Val Epoch: [23/100], Loss: 1.5629, Acc_Val: 0.4452: 100%|██████████| 7/7 [00:00<00:00, 185.73it/s]\n",
      "Train Epoch: [24/100], lr: 0.001000, Loss: 1.5220, Acc_Train: 0.4584: 100%|██████████| 7/7 [00:00<00:00, 161.19it/s]\n",
      "Val Epoch: [24/100], Loss: 1.5588, Acc_Val: 0.4462: 100%|██████████| 7/7 [00:00<00:00, 187.85it/s]\n",
      "Train Epoch: [25/100], lr: 0.001000, Loss: 1.5171, Acc_Train: 0.4600: 100%|██████████| 7/7 [00:00<00:00, 159.62it/s]\n",
      "Val Epoch: [25/100], Loss: 1.5550, Acc_Val: 0.4466: 100%|██████████| 7/7 [00:00<00:00, 187.35it/s]\n",
      "Train Epoch: [26/100], lr: 0.001000, Loss: 1.5125, Acc_Train: 0.4614: 100%|██████████| 7/7 [00:00<00:00, 162.15it/s]\n",
      "Val Epoch: [26/100], Loss: 1.5514, Acc_Val: 0.4468: 100%|██████████| 7/7 [00:00<00:00, 187.63it/s]\n",
      "Train Epoch: [27/100], lr: 0.001000, Loss: 1.5082, Acc_Train: 0.4628: 100%|██████████| 7/7 [00:00<00:00, 162.37it/s]\n",
      "Val Epoch: [27/100], Loss: 1.5480, Acc_Val: 0.4478: 100%|██████████| 7/7 [00:00<00:00, 187.03it/s]\n",
      "Train Epoch: [28/100], lr: 0.001000, Loss: 1.5041, Acc_Train: 0.4638: 100%|██████████| 7/7 [00:00<00:00, 161.84it/s]\n",
      "Val Epoch: [28/100], Loss: 1.5449, Acc_Val: 0.4478: 100%|██████████| 7/7 [00:00<00:00, 187.66it/s]\n",
      "Train Epoch: [29/100], lr: 0.001000, Loss: 1.5002, Acc_Train: 0.4648: 100%|██████████| 7/7 [00:00<00:00, 162.14it/s]\n",
      "Val Epoch: [29/100], Loss: 1.5419, Acc_Val: 0.4490: 100%|██████████| 7/7 [00:00<00:00, 187.39it/s]\n",
      "Train Epoch: [30/100], lr: 0.001000, Loss: 1.4965, Acc_Train: 0.4656: 100%|██████████| 7/7 [00:00<00:00, 161.68it/s]\n",
      "Val Epoch: [30/100], Loss: 1.5391, Acc_Val: 0.4484: 100%|██████████| 7/7 [00:00<00:00, 78.35it/s]\n",
      "Train Epoch: [31/100], lr: 0.001000, Loss: 1.4929, Acc_Train: 0.4656: 100%|██████████| 7/7 [00:00<00:00, 160.49it/s]\n",
      "Val Epoch: [31/100], Loss: 1.5364, Acc_Val: 0.4496: 100%|██████████| 7/7 [00:00<00:00, 187.05it/s]\n",
      "Train Epoch: [32/100], lr: 0.001000, Loss: 1.4895, Acc_Train: 0.4662: 100%|██████████| 7/7 [00:00<00:00, 161.61it/s]\n",
      "Val Epoch: [32/100], Loss: 1.5339, Acc_Val: 0.4510: 100%|██████████| 7/7 [00:00<00:00, 186.84it/s]\n",
      "Train Epoch: [33/100], lr: 0.001000, Loss: 1.4862, Acc_Train: 0.4670: 100%|██████████| 7/7 [00:00<00:00, 160.84it/s]\n",
      "Val Epoch: [33/100], Loss: 1.5315, Acc_Val: 0.4518: 100%|██████████| 7/7 [00:00<00:00, 186.91it/s]\n",
      "Train Epoch: [34/100], lr: 0.001000, Loss: 1.4830, Acc_Train: 0.4680: 100%|██████████| 7/7 [00:00<00:00, 161.96it/s]\n",
      "Val Epoch: [34/100], Loss: 1.5292, Acc_Val: 0.4524: 100%|██████████| 7/7 [00:00<00:00, 186.81it/s]\n",
      "Train Epoch: [35/100], lr: 0.001000, Loss: 1.4800, Acc_Train: 0.4706: 100%|██████████| 7/7 [00:00<00:00, 161.59it/s]\n",
      "Val Epoch: [35/100], Loss: 1.5270, Acc_Val: 0.4536: 100%|██████████| 7/7 [00:00<00:00, 79.12it/s]\n",
      "Train Epoch: [36/100], lr: 0.001000, Loss: 1.4771, Acc_Train: 0.4730: 100%|██████████| 7/7 [00:00<00:00, 160.00it/s]\n",
      "Val Epoch: [36/100], Loss: 1.5248, Acc_Val: 0.4552: 100%|██████████| 7/7 [00:00<00:00, 187.51it/s]\n",
      "Train Epoch: [37/100], lr: 0.001000, Loss: 1.4742, Acc_Train: 0.4742: 100%|██████████| 7/7 [00:00<00:00, 161.29it/s]\n",
      "Val Epoch: [37/100], Loss: 1.5228, Acc_Val: 0.4550: 100%|██████████| 7/7 [00:00<00:00, 186.86it/s]\n",
      "Train Epoch: [38/100], lr: 0.001000, Loss: 1.4715, Acc_Train: 0.4758: 100%|██████████| 7/7 [00:00<00:00, 160.97it/s]\n",
      "Val Epoch: [38/100], Loss: 1.5209, Acc_Val: 0.4570: 100%|██████████| 7/7 [00:00<00:00, 187.99it/s]\n",
      "Train Epoch: [39/100], lr: 0.001000, Loss: 1.4688, Acc_Train: 0.4760: 100%|██████████| 7/7 [00:00<00:00, 160.66it/s]\n",
      "Val Epoch: [39/100], Loss: 1.5190, Acc_Val: 0.4568: 100%|██████████| 7/7 [00:00<00:00, 187.28it/s]\n",
      "Train Epoch: [40/100], lr: 0.001000, Loss: 1.4662, Acc_Train: 0.4762: 100%|██████████| 7/7 [00:00<00:00, 161.84it/s]\n",
      "Val Epoch: [40/100], Loss: 1.5172, Acc_Val: 0.4578: 100%|██████████| 7/7 [00:00<00:00, 188.60it/s]\n",
      "Train Epoch: [41/100], lr: 0.001000, Loss: 1.4637, Acc_Train: 0.4772: 100%|██████████| 7/7 [00:00<00:00, 161.63it/s]\n",
      "Val Epoch: [41/100], Loss: 1.5155, Acc_Val: 0.4570: 100%|██████████| 7/7 [00:00<00:00, 187.93it/s]\n",
      "Train Epoch: [42/100], lr: 0.001000, Loss: 1.4613, Acc_Train: 0.4772: 100%|██████████| 7/7 [00:00<00:00, 161.39it/s]\n",
      "Val Epoch: [42/100], Loss: 1.5138, Acc_Val: 0.4574: 100%|██████████| 7/7 [00:00<00:00, 188.51it/s]\n",
      "Train Epoch: [43/100], lr: 0.001000, Loss: 1.4589, Acc_Train: 0.4782: 100%|██████████| 7/7 [00:00<00:00, 73.16it/s]\n",
      "Val Epoch: [43/100], Loss: 1.5122, Acc_Val: 0.4590: 100%|██████████| 7/7 [00:00<00:00, 187.59it/s]\n",
      "Train Epoch: [44/100], lr: 0.001000, Loss: 1.4566, Acc_Train: 0.4782: 100%|██████████| 7/7 [00:00<00:00, 160.97it/s]\n",
      "Val Epoch: [44/100], Loss: 1.5106, Acc_Val: 0.4598: 100%|██████████| 7/7 [00:00<00:00, 188.51it/s]\n",
      "Train Epoch: [45/100], lr: 0.001000, Loss: 1.4543, Acc_Train: 0.4790: 100%|██████████| 7/7 [00:00<00:00, 159.95it/s]\n",
      "Val Epoch: [45/100], Loss: 1.5091, Acc_Val: 0.4606: 100%|██████████| 7/7 [00:00<00:00, 187.34it/s]\n",
      "Train Epoch: [46/100], lr: 0.001000, Loss: 1.4521, Acc_Train: 0.4798: 100%|██████████| 7/7 [00:00<00:00, 160.60it/s]\n",
      "Val Epoch: [46/100], Loss: 1.5077, Acc_Val: 0.4614: 100%|██████████| 7/7 [00:00<00:00, 186.70it/s]\n",
      "Train Epoch: [47/100], lr: 0.001000, Loss: 1.4499, Acc_Train: 0.4802: 100%|██████████| 7/7 [00:00<00:00, 160.95it/s]\n",
      "Val Epoch: [47/100], Loss: 1.5062, Acc_Val: 0.4616: 100%|██████████| 7/7 [00:00<00:00, 187.94it/s]\n",
      "Train Epoch: [48/100], lr: 0.001000, Loss: 1.4478, Acc_Train: 0.4810: 100%|██████████| 7/7 [00:00<00:00, 73.68it/s]\n",
      "Val Epoch: [48/100], Loss: 1.5048, Acc_Val: 0.4626: 100%|██████████| 7/7 [00:00<00:00, 186.74it/s]\n",
      "Train Epoch: [49/100], lr: 0.001000, Loss: 1.4457, Acc_Train: 0.4816: 100%|██████████| 7/7 [00:00<00:00, 161.55it/s]\n",
      "Val Epoch: [49/100], Loss: 1.5035, Acc_Val: 0.4628: 100%|██████████| 7/7 [00:00<00:00, 187.27it/s]\n",
      "Train Epoch: [50/100], lr: 0.001000, Loss: 1.4436, Acc_Train: 0.4824: 100%|██████████| 7/7 [00:00<00:00, 161.94it/s]\n",
      "Val Epoch: [50/100], Loss: 1.5022, Acc_Val: 0.4640: 100%|██████████| 7/7 [00:00<00:00, 187.11it/s]\n",
      "Train Epoch: [51/100], lr: 0.001000, Loss: 1.4416, Acc_Train: 0.4844: 100%|██████████| 7/7 [00:00<00:00, 162.61it/s]\n",
      "Val Epoch: [51/100], Loss: 1.5009, Acc_Val: 0.4642: 100%|██████████| 7/7 [00:00<00:00, 187.88it/s]\n",
      "Train Epoch: [52/100], lr: 0.001000, Loss: 1.4397, Acc_Train: 0.4850: 100%|██████████| 7/7 [00:00<00:00, 161.63it/s]\n",
      "Val Epoch: [52/100], Loss: 1.4996, Acc_Val: 0.4642: 100%|██████████| 7/7 [00:00<00:00, 188.18it/s]\n",
      "Train Epoch: [53/100], lr: 0.001000, Loss: 1.4377, Acc_Train: 0.4862: 100%|██████████| 7/7 [00:00<00:00, 161.75it/s]\n",
      "Val Epoch: [53/100], Loss: 1.4984, Acc_Val: 0.4638: 100%|██████████| 7/7 [00:00<00:00, 187.10it/s]\n",
      "Train Epoch: [54/100], lr: 0.001000, Loss: 1.4358, Acc_Train: 0.4870: 100%|██████████| 7/7 [00:00<00:00, 162.01it/s]\n",
      "Val Epoch: [54/100], Loss: 1.4972, Acc_Val: 0.4650: 100%|██████████| 7/7 [00:00<00:00, 187.61it/s]\n",
      "Train Epoch: [55/100], lr: 0.001000, Loss: 1.4340, Acc_Train: 0.4870: 100%|██████████| 7/7 [00:00<00:00, 162.45it/s]\n",
      "Val Epoch: [55/100], Loss: 1.4961, Acc_Val: 0.4660: 100%|██████████| 7/7 [00:00<00:00, 77.91it/s]\n",
      "Train Epoch: [56/100], lr: 0.001000, Loss: 1.4321, Acc_Train: 0.4872: 100%|██████████| 7/7 [00:00<00:00, 160.66it/s]\n",
      "Val Epoch: [56/100], Loss: 1.4949, Acc_Val: 0.4664: 100%|██████████| 7/7 [00:00<00:00, 187.83it/s]\n",
      "Train Epoch: [57/100], lr: 0.001000, Loss: 1.4303, Acc_Train: 0.4882: 100%|██████████| 7/7 [00:00<00:00, 161.14it/s]\n",
      "Val Epoch: [57/100], Loss: 1.4938, Acc_Val: 0.4660: 100%|██████████| 7/7 [00:00<00:00, 185.80it/s]\n",
      "Train Epoch: [58/100], lr: 0.001000, Loss: 1.4286, Acc_Train: 0.4884: 100%|██████████| 7/7 [00:00<00:00, 161.17it/s]\n",
      "Val Epoch: [58/100], Loss: 1.4927, Acc_Val: 0.4658: 100%|██████████| 7/7 [00:00<00:00, 187.11it/s]\n",
      "Train Epoch: [59/100], lr: 0.001000, Loss: 1.4268, Acc_Train: 0.4896: 100%|██████████| 7/7 [00:00<00:00, 161.54it/s]\n",
      "Val Epoch: [59/100], Loss: 1.4917, Acc_Val: 0.4658: 100%|██████████| 7/7 [00:00<00:00, 185.82it/s]\n",
      "Train Epoch: [60/100], lr: 0.001000, Loss: 1.4251, Acc_Train: 0.4898: 100%|██████████| 7/7 [00:00<00:00, 162.08it/s]\n",
      "Val Epoch: [60/100], Loss: 1.4906, Acc_Val: 0.4650: 100%|██████████| 7/7 [00:00<00:00, 78.73it/s]\n",
      "Train Epoch: [61/100], lr: 0.001000, Loss: 1.4234, Acc_Train: 0.4908: 100%|██████████| 7/7 [00:00<00:00, 160.17it/s]\n",
      "Val Epoch: [61/100], Loss: 1.4896, Acc_Val: 0.4646: 100%|██████████| 7/7 [00:00<00:00, 187.91it/s]\n",
      "Train Epoch: [62/100], lr: 0.001000, Loss: 1.4217, Acc_Train: 0.4922: 100%|██████████| 7/7 [00:00<00:00, 161.54it/s]\n",
      "Val Epoch: [62/100], Loss: 1.4886, Acc_Val: 0.4650: 100%|██████████| 7/7 [00:00<00:00, 187.35it/s]\n",
      "Train Epoch: [63/100], lr: 0.001000, Loss: 1.4201, Acc_Train: 0.4924: 100%|██████████| 7/7 [00:00<00:00, 161.47it/s]\n",
      "Val Epoch: [63/100], Loss: 1.4876, Acc_Val: 0.4650: 100%|██████████| 7/7 [00:00<00:00, 188.32it/s]\n",
      "Train Epoch: [64/100], lr: 0.001000, Loss: 1.4184, Acc_Train: 0.4928: 100%|██████████| 7/7 [00:00<00:00, 161.26it/s]\n",
      "Val Epoch: [64/100], Loss: 1.4867, Acc_Val: 0.4656: 100%|██████████| 7/7 [00:00<00:00, 188.27it/s]\n",
      "Train Epoch: [65/100], lr: 0.001000, Loss: 1.4168, Acc_Train: 0.4932: 100%|██████████| 7/7 [00:00<00:00, 161.28it/s]\n",
      "Val Epoch: [65/100], Loss: 1.4857, Acc_Val: 0.4658: 100%|██████████| 7/7 [00:00<00:00, 188.48it/s]\n",
      "Train Epoch: [66/100], lr: 0.001000, Loss: 1.4152, Acc_Train: 0.4934: 100%|██████████| 7/7 [00:00<00:00, 161.55it/s]\n",
      "Val Epoch: [66/100], Loss: 1.4848, Acc_Val: 0.4672: 100%|██████████| 7/7 [00:00<00:00, 187.60it/s]\n",
      "Train Epoch: [67/100], lr: 0.001000, Loss: 1.4137, Acc_Train: 0.4940: 100%|██████████| 7/7 [00:00<00:00, 161.65it/s]\n",
      "Val Epoch: [67/100], Loss: 1.4839, Acc_Val: 0.4676: 100%|██████████| 7/7 [00:00<00:00, 188.46it/s]\n",
      "Train Epoch: [68/100], lr: 0.001000, Loss: 1.4121, Acc_Train: 0.4946: 100%|██████████| 7/7 [00:00<00:00, 73.31it/s]\n",
      "Val Epoch: [68/100], Loss: 1.4830, Acc_Val: 0.4690: 100%|██████████| 7/7 [00:00<00:00, 187.40it/s]\n",
      "Train Epoch: [69/100], lr: 0.001000, Loss: 1.4106, Acc_Train: 0.4958: 100%|██████████| 7/7 [00:00<00:00, 160.85it/s]\n",
      "Val Epoch: [69/100], Loss: 1.4821, Acc_Val: 0.4694: 100%|██████████| 7/7 [00:00<00:00, 186.59it/s]\n",
      "Train Epoch: [70/100], lr: 0.001000, Loss: 1.4091, Acc_Train: 0.4968: 100%|██████████| 7/7 [00:00<00:00, 160.60it/s]\n",
      "Val Epoch: [70/100], Loss: 1.4812, Acc_Val: 0.4696: 100%|██████████| 7/7 [00:00<00:00, 187.81it/s]\n",
      "Train Epoch: [71/100], lr: 0.001000, Loss: 1.4076, Acc_Train: 0.4976: 100%|██████████| 7/7 [00:00<00:00, 161.16it/s]\n",
      "Val Epoch: [71/100], Loss: 1.4804, Acc_Val: 0.4706: 100%|██████████| 7/7 [00:00<00:00, 187.73it/s]\n",
      "Train Epoch: [72/100], lr: 0.001000, Loss: 1.4061, Acc_Train: 0.4986: 100%|██████████| 7/7 [00:00<00:00, 161.22it/s]\n",
      "Val Epoch: [72/100], Loss: 1.4795, Acc_Val: 0.4704: 100%|██████████| 7/7 [00:00<00:00, 188.71it/s]\n",
      "Train Epoch: [73/100], lr: 0.001000, Loss: 1.4046, Acc_Train: 0.4984: 100%|██████████| 7/7 [00:00<00:00, 73.59it/s]\n",
      "Val Epoch: [73/100], Loss: 1.4787, Acc_Val: 0.4714: 100%|██████████| 7/7 [00:00<00:00, 186.85it/s]\n",
      "Train Epoch: [74/100], lr: 0.001000, Loss: 1.4032, Acc_Train: 0.4984: 100%|██████████| 7/7 [00:00<00:00, 161.73it/s]\n",
      "Val Epoch: [74/100], Loss: 1.4779, Acc_Val: 0.4716: 100%|██████████| 7/7 [00:00<00:00, 187.63it/s]\n",
      "Train Epoch: [75/100], lr: 0.001000, Loss: 1.4017, Acc_Train: 0.4996: 100%|██████████| 7/7 [00:00<00:00, 162.00it/s]\n",
      "Val Epoch: [75/100], Loss: 1.4771, Acc_Val: 0.4714: 100%|██████████| 7/7 [00:00<00:00, 187.90it/s]\n",
      "Train Epoch: [76/100], lr: 0.001000, Loss: 1.4003, Acc_Train: 0.5002: 100%|██████████| 7/7 [00:00<00:00, 161.68it/s]\n",
      "Val Epoch: [76/100], Loss: 1.4763, Acc_Val: 0.4714: 100%|██████████| 7/7 [00:00<00:00, 187.48it/s]\n",
      "Train Epoch: [77/100], lr: 0.001000, Loss: 1.3989, Acc_Train: 0.5004: 100%|██████████| 7/7 [00:00<00:00, 161.46it/s]\n",
      "Val Epoch: [77/100], Loss: 1.4755, Acc_Val: 0.4718: 100%|██████████| 7/7 [00:00<00:00, 188.40it/s]\n",
      "Train Epoch: [78/100], lr: 0.001000, Loss: 1.3975, Acc_Train: 0.5014: 100%|██████████| 7/7 [00:00<00:00, 162.22it/s]\n"
     ]
    },
    {
     "name": "stderr",
     "output_type": "stream",
     "text": [
      "Val Epoch: [78/100], Loss: 1.4748, Acc_Val: 0.4720: 100%|██████████| 7/7 [00:00<00:00, 187.87it/s]\n",
      "Train Epoch: [79/100], lr: 0.001000, Loss: 1.3961, Acc_Train: 0.5020: 100%|██████████| 7/7 [00:00<00:00, 162.02it/s]\n",
      "Val Epoch: [79/100], Loss: 1.4740, Acc_Val: 0.4722: 100%|██████████| 7/7 [00:00<00:00, 187.64it/s]\n",
      "Train Epoch: [80/100], lr: 0.001000, Loss: 1.3948, Acc_Train: 0.5028: 100%|██████████| 7/7 [00:00<00:00, 160.75it/s]\n",
      "Val Epoch: [80/100], Loss: 1.4733, Acc_Val: 0.4712: 100%|██████████| 7/7 [00:00<00:00, 78.37it/s]\n",
      "Train Epoch: [81/100], lr: 0.001000, Loss: 1.3934, Acc_Train: 0.5036: 100%|██████████| 7/7 [00:00<00:00, 160.69it/s]\n",
      "Val Epoch: [81/100], Loss: 1.4726, Acc_Val: 0.4706: 100%|██████████| 7/7 [00:00<00:00, 186.90it/s]\n",
      "Train Epoch: [82/100], lr: 0.001000, Loss: 1.3921, Acc_Train: 0.5040: 100%|██████████| 7/7 [00:00<00:00, 161.76it/s]\n",
      "Val Epoch: [82/100], Loss: 1.4718, Acc_Val: 0.4700: 100%|██████████| 7/7 [00:00<00:00, 185.75it/s]\n",
      "Train Epoch: [83/100], lr: 0.001000, Loss: 1.3907, Acc_Train: 0.5042: 100%|██████████| 7/7 [00:00<00:00, 160.73it/s]\n",
      "Val Epoch: [83/100], Loss: 1.4711, Acc_Val: 0.4704: 100%|██████████| 7/7 [00:00<00:00, 187.70it/s]\n",
      "Train Epoch: [84/100], lr: 0.001000, Loss: 1.3894, Acc_Train: 0.5050: 100%|██████████| 7/7 [00:00<00:00, 161.37it/s]\n",
      "Val Epoch: [84/100], Loss: 1.4704, Acc_Val: 0.4704: 100%|██████████| 7/7 [00:00<00:00, 186.12it/s]\n",
      "Train Epoch: [85/100], lr: 0.001000, Loss: 1.3881, Acc_Train: 0.5058: 100%|██████████| 7/7 [00:00<00:00, 161.15it/s]\n",
      "Val Epoch: [85/100], Loss: 1.4697, Acc_Val: 0.4708: 100%|██████████| 7/7 [00:00<00:00, 78.74it/s]\n",
      "Train Epoch: [86/100], lr: 0.001000, Loss: 1.3868, Acc_Train: 0.5062: 100%|██████████| 7/7 [00:00<00:00, 160.22it/s]\n",
      "Val Epoch: [86/100], Loss: 1.4690, Acc_Val: 0.4710: 100%|██████████| 7/7 [00:00<00:00, 188.47it/s]\n",
      "Train Epoch: [87/100], lr: 0.001000, Loss: 1.3856, Acc_Train: 0.5058: 100%|██████████| 7/7 [00:00<00:00, 160.61it/s]\n",
      "Val Epoch: [87/100], Loss: 1.4684, Acc_Val: 0.4712: 100%|██████████| 7/7 [00:00<00:00, 186.68it/s]\n",
      "Train Epoch: [88/100], lr: 0.001000, Loss: 1.3843, Acc_Train: 0.5064: 100%|██████████| 7/7 [00:00<00:00, 161.48it/s]\n",
      "Val Epoch: [88/100], Loss: 1.4677, Acc_Val: 0.4702: 100%|██████████| 7/7 [00:00<00:00, 188.47it/s]\n",
      "Train Epoch: [89/100], lr: 0.001000, Loss: 1.3830, Acc_Train: 0.5064: 100%|██████████| 7/7 [00:00<00:00, 161.64it/s]\n",
      "Val Epoch: [89/100], Loss: 1.4670, Acc_Val: 0.4700: 100%|██████████| 7/7 [00:00<00:00, 187.93it/s]\n",
      "Train Epoch: [90/100], lr: 0.001000, Loss: 1.3818, Acc_Train: 0.5066: 100%|██████████| 7/7 [00:00<00:00, 160.28it/s]\n",
      "Val Epoch: [90/100], Loss: 1.4664, Acc_Val: 0.4702: 100%|██████████| 7/7 [00:00<00:00, 188.07it/s]\n",
      "Train Epoch: [91/100], lr: 0.001000, Loss: 1.3805, Acc_Train: 0.5066: 100%|██████████| 7/7 [00:00<00:00, 161.61it/s]\n",
      "Val Epoch: [91/100], Loss: 1.4658, Acc_Val: 0.4700: 100%|██████████| 7/7 [00:00<00:00, 187.96it/s]\n",
      "Train Epoch: [92/100], lr: 0.001000, Loss: 1.3793, Acc_Train: 0.5068: 100%|██████████| 7/7 [00:00<00:00, 162.29it/s]\n",
      "Val Epoch: [92/100], Loss: 1.4651, Acc_Val: 0.4704: 100%|██████████| 7/7 [00:00<00:00, 188.43it/s]\n",
      "Train Epoch: [93/100], lr: 0.001000, Loss: 1.3781, Acc_Train: 0.5070: 100%|██████████| 7/7 [00:00<00:00, 73.22it/s]\n",
      "Val Epoch: [93/100], Loss: 1.4645, Acc_Val: 0.4712: 100%|██████████| 7/7 [00:00<00:00, 187.81it/s]\n",
      "Train Epoch: [94/100], lr: 0.001000, Loss: 1.3769, Acc_Train: 0.5072: 100%|██████████| 7/7 [00:00<00:00, 160.56it/s]\n",
      "Val Epoch: [94/100], Loss: 1.4639, Acc_Val: 0.4714: 100%|██████████| 7/7 [00:00<00:00, 186.47it/s]\n",
      "Train Epoch: [95/100], lr: 0.001000, Loss: 1.3757, Acc_Train: 0.5082: 100%|██████████| 7/7 [00:00<00:00, 161.19it/s]\n",
      "Val Epoch: [95/100], Loss: 1.4633, Acc_Val: 0.4714: 100%|██████████| 7/7 [00:00<00:00, 187.18it/s]\n",
      "Train Epoch: [96/100], lr: 0.001000, Loss: 1.3745, Acc_Train: 0.5080: 100%|██████████| 7/7 [00:00<00:00, 160.68it/s]\n",
      "Val Epoch: [96/100], Loss: 1.4627, Acc_Val: 0.4712: 100%|██████████| 7/7 [00:00<00:00, 186.39it/s]\n",
      "Train Epoch: [97/100], lr: 0.001000, Loss: 1.3733, Acc_Train: 0.5078: 100%|██████████| 7/7 [00:00<00:00, 161.11it/s]\n",
      "Val Epoch: [97/100], Loss: 1.4621, Acc_Val: 0.4722: 100%|██████████| 7/7 [00:00<00:00, 188.13it/s]\n",
      "Train Epoch: [98/100], lr: 0.001000, Loss: 1.3721, Acc_Train: 0.5076: 100%|██████████| 7/7 [00:00<00:00, 73.96it/s]\n",
      "Val Epoch: [98/100], Loss: 1.4615, Acc_Val: 0.4718: 100%|██████████| 7/7 [00:00<00:00, 185.74it/s]\n",
      "Train Epoch: [99/100], lr: 0.001000, Loss: 1.3710, Acc_Train: 0.5078: 100%|██████████| 7/7 [00:00<00:00, 161.38it/s]\n",
      "Val Epoch: [99/100], Loss: 1.4609, Acc_Val: 0.4718: 100%|██████████| 7/7 [00:00<00:00, 187.19it/s]\n",
      "Train Epoch: [100/100], lr: 0.001000, Loss: 1.3698, Acc_Train: 0.5082: 100%|██████████| 7/7 [00:00<00:00, 161.53it/s]\n",
      "Val Epoch: [100/100], Loss: 1.4603, Acc_Val: 0.4720: 100%|██████████| 7/7 [00:00<00:00, 187.62it/s]\n"
     ]
    }
   ],
   "source": [
    "for epoch in range(epoch_start, args.epochs + 1):\n",
    "    train_loss, neg_sim, pos_sim, lr = smtr.train(model, train_loader, optimizer, epoch, args)\n",
    "    if (epoch % 100) == 0:\n",
    "        model.module.switch = True\n",
    "        for _ in range(1):\n",
    "            train_loss, train_acc = let.train_lr(train_loader_nonaug, model, criterion, optimizer, epoch, args.epochs, args)\n",
    "            val_loss, val_acc = let.test_lr(val_loader, model, criterion, epoch, args.epochs, args)\n",
    "            train_losses.append(train_loss)\n",
    "            train_accs.append(train_acc)\n",
    "            val_losses.append(val_loss)\n",
    "            val_accs.append(val_acc)\n",
    "        model.module.switch = False\n",
    "        \n",
    "train_losses, train_accs, val_losses, val_accs = featureEval(model, train_loader_nonaug, val_loader, epoch, args, extended=True)"
   ]
  },
  {
   "cell_type": "code",
   "execution_count": 23,
   "metadata": {},
   "outputs": [
    {
     "data": {
      "image/png": "[encoded data removed]",
      "text/plain": [
       "<Figure size 432x288 with 1 Axes>"
      ]
     },
     "metadata": {},
     "output_type": "display_data"
    },
    {
     "name": "stdout",
     "output_type": "stream",
     "text": [
      "Best Loss-Value for Validation: 1.4603163174220495 at Epoch 100\n"
     ]
    },
    {
     "data": {
      "image/png": "[encoded data removed]",
      "text/plain": [
       "<Figure size 432x288 with 1 Axes>"
      ]
     },
     "metadata": {},
     "output_type": "display_data"
    },
    {
     "name": "stdout",
     "output_type": "stream",
     "text": [
      "Best Accuracy for Validation: 0.4722 at Epoch 79\n"
     ]
    }
   ],
   "source": [
    "min_value = min(val_losses)\n",
    "min_index = val_losses.index(min_value)+1\n",
    "\n",
    "plot(\"Loss vs Epoch\", \"Loss\", train_losses, val_losses, yscale='linear', save_path=None, \n",
    "         extra_pt=(min_index, min_value), extra_pt_label=\"Best Model\")\n",
    "print(f\"Best Loss-Value for Validation: {min_value} at Epoch {min_index}\")\n",
    "\n",
    "max_value = max(val_accs)\n",
    "max_index = val_accs.index(max_value)+1\n",
    "plot(\"Acc vs Epoch\", \"Accuracy\", train_accs, val_accs, yscale='linear', save_path=None, \n",
    "         extra_pt=(max_index, max_value), extra_pt_label=\"Best Model\")\n",
    "print(f\"Best Accuracy for Validation: {max_value} at Epoch {max_index}\")"
   ]
  },
  {
   "cell_type": "code",
   "execution_count": 15,
   "metadata": {},
   "outputs": [
    {
     "data": {
      "text/plain": [
       "1.4321908780506678"
      ]
     },
     "execution_count": 15,
     "metadata": {},
     "output_type": "execute_result"
    }
   ],
   "source": [
    "train_losses"
   ]
  },
  {
   "cell_type": "code",
   "execution_count": null,
   "metadata": {},
   "outputs": [],
   "source": []
  }
 ],
 "metadata": {
  "kernelspec": {
   "display_name": "Python 3",
   "language": "python",
   "name": "python3"
  },
  "language_info": {
   "codemirror_mode": {
    "name": "ipython",
    "version": 3
   },
   "file_extension": ".py",
   "mimetype": "text/x-python",
   "name": "python",
   "nbconvert_exporter": "python",
   "pygments_lexer": "ipython3",
   "version": "3.8.2"
  }
 },
 "nbformat": 4,
 "nbformat_minor": 4
}
