{
 "cells": [
  {
   "cell_type": "code",
   "execution_count": 1,
   "metadata": {},
   "outputs": [],
   "source": [
    "# Import own modules\n",
    "# SelfSupervised\n",
    "import modules.selfsupervised.simclr_model as sm \n",
    "import modules.selfsupervised.simclr_train as smtr\n",
    "# Evaluation\n",
    "import modules.evaluation.lin_eval_testmoduls as let\n",
    "# Utils\n",
    "import modules.utils.transformations as t \n",
    "import modules.utils.loss_functions as lf\n",
    "import modules.utils.lars as lars\n",
    "# Settings\n",
    "import modules.utils.get_data as get \n",
    "# Reporting \n",
    "import modules.utils.reporting as report \n",
    "# Saving Model\n",
    "import modules.utils.save_model as savem\n",
    "# Get Model\n",
    "import modules.utils.get_model as gm \n",
    "# Import extern modules\n",
    "import argparse\n",
    "import torchvision\n",
    "import torch \n",
    "import torch.nn as nn\n",
    "from torch.nn.parallel import DataParallel\n",
    "import math \n",
    "import numpy as np\n",
    "\n",
    "import seaborn as sns\n",
    "import matplotlib.pyplot as plt\n"
   ]
  },
  {
   "cell_type": "code",
   "execution_count": 2,
   "metadata": {},
   "outputs": [],
   "source": [
    "# Create an Argparser\n",
    "parser = argparse.ArgumentParser(description='Train simCLRv1 on CIFAR-10')\n",
    "# Model-Architecture\n",
    "parser.add_argument('-a', '--arch', default='resnet18')\n",
    "# lr: 0.06 for batch 512 (or 0.03 for batch 256) 0.12 for 1024?\n",
    "parser.add_argument('--lr', '--learning-rate', default=1e-3, type=float, metavar='LR', help='initial learning rate', dest='lr')\n",
    "parser.add_argument('--epochs', default=20, type=int, metavar='N', help='number of total epochs to run')\n",
    "parser.add_argument('--schedule', default=[1020, 1060], nargs='*', type=int, help='learning rate schedule (when to drop lr by 10x); does not take effect if --cos is on')\n",
    "parser.add_argument('--cos', default=\"False\", type=str, help='use cosine lr schedule')\n",
    "parser.add_argument('--squared', default=\"False\", type=str, help='use square lr schedule')\n",
    "parser.add_argument('--batch-size', default=768, type=int, metavar='N', help='mini-batch size')\n",
    "parser.add_argument('--wd', default=1e-6, type=float, metavar='W', help='weight decay')\n",
    "parser.add_argument('--dataset', default=\"IMAGENET\", type=str, metavar='W', help='dataset')\n",
    "parser.add_argument('--dataset-dir', default=\"data/imagenet128\", type=str, metavar='W', help='dataset directory')\n",
    "parser.add_argument('--optimizer', default=\"adam\", type=str, metavar='W', help='Adam, SGD, Lars')\n",
    "# SIMCLR specific configs:\n",
    "parser.add_argument('--dim', default=128, type=int, help='feature dimension')\n",
    "parser.add_argument('--t', default=0.1, type=float, help='softmax temperature')\n",
    "parser.add_argument('--numberviews', default=2, type=int, help='Number of Views created for Avg.Loss')\n",
    "# Training/Test Settings\n",
    "parser.add_argument('--model-dir', default=\"\", type=str, metavar='W', help='if test true give model dir!')\n",
    "parser.add_argument('--model-name', default=\"\", type=str, metavar='W', help='if test true give model dir!')\n",
    "# Linear Evaluation\n",
    "parser.add_argument('--epochs-lineval', default=100, type=int, metavar='N', help='number of total epochs to run in linEval')\n",
    "# Labels\n",
    "parser.add_argument('--labels', default=\"full\", type=str, metavar='N', help='1%, 10% or full labelled data sets are supported')\n",
    "# Multiple GPUs\n",
    "parser.add_argument('--dataparallel', default=\"True\", type=str, metavar='W', help='multiple gpus true or false')\n",
    "# Reload\n",
    "parser.add_argument('--reload', default=\"False\", type=str, metavar='W', help='reload true or false')\n",
    "# Verbose\n",
    "parser.add_argument('--verbose', default=\"True\", type=str, help='True if you want to evaluate your representations after each epoch (obviously SLOWER!)')\n",
    "\n",
    "# Set up args\n",
    "args = parser.parse_args(\"\")"
   ]
  },
  {
   "cell_type": "code",
   "execution_count": 3,
   "metadata": {},
   "outputs": [],
   "source": [
    "# Convert \n",
    "args.dataparallel = True if str.lower(args.dataparallel) == \"true\" else False\n",
    "args.reload = True if str.lower(args.reload) == 'true' else False\n",
    "args.verbose = True if str.lower(args.verbose) == 'true' else False\n",
    "args.cos = True if str.lower(args.cos) == 'true' else False\n",
    "args.squared = True if str.lower(args.squared) == 'true' else False\n",
    "args.device = torch.device(\"cuda:0\" if torch.cuda.is_available() else \"cpu\")\n",
    "args.num_gpus = torch.cuda.device_count()"
   ]
  },
  {
   "cell_type": "code",
   "execution_count": 4,
   "metadata": {},
   "outputs": [],
   "source": [
    "args.dataset = \"CIFAR10\"\n",
    "args.labels = \"10%\""
   ]
  },
  {
   "cell_type": "code",
   "execution_count": 5,
   "metadata": {},
   "outputs": [],
   "source": [
    "def plot(title, label, train_results, val_results, yscale='linear', save_path=None, \n",
    "         extra_pt=None, extra_pt_label=None):\n",
    "    \"\"\"Plot learning curves.\n",
    "\n",
    "    Args:\n",
    "        title (str): Title of plot\n",
    "        label (str): x-axis label\n",
    "        train_results (list): Results vector of training of length of number\n",
    "            of epochs trained. Could be loss or accuracy.\n",
    "        val_results (list): Results vector of validation of length of number\n",
    "            of epochs. Could be loss or accuracy.\n",
    "        yscale (str, optional): Matplotlib.pyplot.yscale parameter. \n",
    "            Defaults to 'linear'.\n",
    "        save_path (str, optional): If passed, figure will be saved at this path.\n",
    "            Defaults to None.\n",
    "        extra_pt (tuple, optional): Tuple of length 2, defining x and y coordinate\n",
    "            of where an additional black dot will be plotted. Defaults to None.\n",
    "        extra_pt_label (str, optional): Legend label of extra point. Defaults to None.\n",
    "    \"\"\"\n",
    "    \n",
    "    epoch_array = np.arange(len(train_results)) + 1\n",
    "    train_label, val_label = \"Training \"+label.lower(), \"Validation \"+label.lower()\n",
    "    \n",
    "    sns.set(style='ticks')\n",
    "\n",
    "    plt.plot(epoch_array, train_results, epoch_array, val_results, linestyle='dashed', marker='o')\n",
    "    legend = ['Train results', 'Validation results']\n",
    "    \n",
    "    if extra_pt:\n",
    "        ####################\n",
    "        ## YOUR CODE HERE ##\n",
    "        ####################\n",
    "        extra_point=plt.plot(extra_pt[0],extra_pt[1],'k.',label=extra_pt_label, markersize=16)\n",
    "        if extra_pt_label:\n",
    "            legend.append(extra_pt_label)\n",
    "\n",
    "        # END OF YOUR CODE #\n",
    "        \n",
    "    plt.vlines(20, 0, 1)\n",
    "        \n",
    "    plt.legend(legend)\n",
    "    plt.xlabel('Epoch')\n",
    "    plt.ylabel(label)\n",
    "    plt.yscale(yscale)\n",
    "    plt.title(title)\n",
    "    \n",
    "    sns.despine(trim=True, offset=5)\n",
    "    plt.title(title, fontsize=15)\n",
    "    if save_path:\n",
    "        plt.savefig(str(save_path), bbox_inches='tight')\n",
    "    plt.show()"
   ]
  },
  {
   "cell_type": "code",
   "execution_count": 6,
   "metadata": {},
   "outputs": [],
   "source": [
    "class modelSIMCLR(nn.Module):\n",
    "    \"\"\" SIMCLR MODEL\"\"\"\n",
    "\n",
    "    def __init__(self, encoder, n_features, loss_func, dim=128, T=0.1):\n",
    "        \"\"\" \n",
    "        Input:\n",
    "            encoder: Encoder you want to use to get feature representations (eg. resnet18)\n",
    "            n_features: Type int - The dimension of the encoder output, your feature dimension\n",
    "            loss_func: The loss function you want to use (from loss_functions.py)\n",
    "            eval_model: If you have labels, the model you want to evaluate your feature representations on\n",
    "            eval_optimizer: The optimizer for your eval_model\n",
    "            dim: Type int - The dimension the projection head outputs\n",
    "            T: Type int - The temperature parameter in the contrastive loss function\n",
    "\n",
    "            Creates a SIMCLR model\n",
    "        \"\"\"\n",
    "        # Inherit from nn module (standard)\n",
    "        super(modelSIMCLR, self).__init__()\n",
    "        self.T = T\n",
    "        self.n_features = n_features\n",
    "        self.loss_func = loss_func\n",
    "        # create the encoder\n",
    "        self.encoder_f = encoder\n",
    "        self.encoder_f.fc = torch.nn.Identity()\n",
    "        #self.encoder_f.fc = torch.nn.Linear(512, 512)\n",
    "        # Create Projection Head\n",
    "        self.mlp = nn.Sequential (\n",
    "            nn.Linear(self.n_features, self.n_features, bias=False),\n",
    "            nn.BatchNorm1d(num_features=self.n_features),\n",
    "            nn.ReLU(),\n",
    "            nn.Linear(self.n_features, dim, bias=False),\n",
    "            nn.BatchNorm1d(num_features=dim)\n",
    "        )\n",
    "        \n",
    "        self.switch = False\n",
    "        self.classifier = torch.nn.Linear(512,10)\n",
    "\n",
    "    def forward(self, im1, im2=None, args=None):\n",
    "        \"\"\"\n",
    "        Input:\n",
    "            im1: a batch of query images\n",
    "            im2: differently augmented query images\n",
    "\n",
    "            Runs the encoder, runs the projection head, normalizes the output of the projection head \n",
    "            and returns the contrastive loss given the loss_func from loss_functions.py \n",
    "        \"\"\"\n",
    "       \n",
    "        if self.switch:\n",
    "            h_i = self.encoder_f(im1)\n",
    "            return self.classifier(h_i)\n",
    "        else: \n",
    "             # Get Representations\n",
    "            h_i = self.encoder_f(im1)\n",
    "            h_j = self.encoder_f(im2)\n",
    "            z_i = self.mlp(h_i)\n",
    "            z_j = self.mlp(h_j)\n",
    "            # Normalize Feature Embeddings\n",
    "            z_i = nn.functional.normalize(z_i, p=2, dim=1)\n",
    "            z_j = nn.functional.normalize(z_j, p=2, dim=1) \n",
    "\n",
    "            return self.loss_func(z_i, z_j, self.T)\n"
   ]
  },
  {
   "cell_type": "code",
   "execution_count": 7,
   "metadata": {},
   "outputs": [
    {
     "name": "stdout",
     "output_type": "stream",
     "text": [
      "Files already downloaded and verified\n",
      "Files already downloaded and verified\n"
     ]
    }
   ],
   "source": [
    "# Set Reporting up\n",
    "#writer_train, writer_val, mkdirpath = report.setReportingUp_trainingSimclr(args)\n",
    "# Get Data\n",
    "train_loader, train_loader_nonaug, val_loader = get.data_trainingSimclr(args)\n",
    "# Get encoder\n",
    "encoder = get.encoder(args)\n",
    "args.featureDim, args.numberClasses, epoch_start = encoder.fc.in_features, get.numberClasses(args), 1\n",
    "# Choose Model\n",
    "model = modelSIMCLR(encoder, args.featureDim, lf.contrastive_loss_cosine_extra, dim=args.dim, T=args.t)\n",
    "# To device\n",
    "model = model.to(args.device)\n",
    "# Get Optimizer\n",
    "optimizer = get.optimizer_training(model, args)\n",
    "# Check Reload\n",
    "if args.reload: \n",
    "    checkpoint = torch.load(\"saved_models/selfsupervised/\"+args.model_dir+\"/\"+args.model_name, map_location=args.device.type)\n",
    "    model.load_state_dict(checkpoint['model_state_dict'])\n",
    "    optimizer.load_state_dict(checkpoint['optimizer_state_dict'])\n",
    "    epoch_start = checkpoint['epoch']+1\n",
    "# Check Dataparallel\n",
    "if args.dataparallel: model = DataParallel(model)\n",
    "    \n",
    "criterion = nn.CrossEntropyLoss()"
   ]
  },
  {
   "cell_type": "code",
   "execution_count": 8,
   "metadata": {},
   "outputs": [
    {
     "name": "stdout",
     "output_type": "stream",
     "text": [
      "2\n"
     ]
    }
   ],
   "source": [
    "for data,labels in train_loader:\n",
    "    print(len(data))\n",
    "    break"
   ]
  },
  {
   "cell_type": "code",
   "execution_count": 26,
   "metadata": {},
   "outputs": [],
   "source": [
    "testimg = data[0][0]"
   ]
  },
  {
   "cell_type": "code",
   "execution_count": 28,
   "metadata": {},
   "outputs": [],
   "source": [
    "testimg1 = testimg[0]\n",
    "testimg2 = testimg[1]\n",
    "testimg3 = testimg[2]"
   ]
  },
  {
   "cell_type": "code",
   "execution_count": 22,
   "metadata": {},
   "outputs": [],
   "source": [
    "U, s, V = torch.svd(testimg)"
   ]
  },
  {
   "cell_type": "code",
   "execution_count": 23,
   "metadata": {},
   "outputs": [],
   "source": [
    "S = torch.zeros((testimg.shape[0], testimg.shape[1]))\n",
    "S[:testimg.shape[0], :testimg.shape[0]] = torch.diag(s)\n",
    "n_component = 2\n",
    "S = S[:, :n_component]"
   ]
  },
  {
   "cell_type": "code",
   "execution_count": 25,
   "metadata": {},
   "outputs": [
    {
     "data": {
      "text/plain": [
       "tensor([[19.5261,  2.5220],\n",
       "        [19.5261,  2.5220],\n",
       "        [19.5261,  2.5220]])"
      ]
     },
     "execution_count": 25,
     "metadata": {},
     "output_type": "execute_result"
    }
   ],
   "source": [
    "S"
   ]
  },
  {
   "cell_type": "code",
   "execution_count": 24,
   "metadata": {},
   "outputs": [
    {
     "ename": "RuntimeError",
     "evalue": "1D tensors expected, but got 3D and 2D tensors",
     "output_type": "error",
     "traceback": [
      "\u001b[0;31m---------------------------------------------------------------------------\u001b[0m",
      "\u001b[0;31mRuntimeError\u001b[0m                              Traceback (most recent call last)",
      "\u001b[0;32m<ipython-input-24-82e533518c11>\u001b[0m in \u001b[0;36m<module>\u001b[0;34m\u001b[0m\n\u001b[0;32m----> 1\u001b[0;31m \u001b[0mU\u001b[0m\u001b[0;34m.\u001b[0m\u001b[0mdot\u001b[0m\u001b[0;34m(\u001b[0m\u001b[0mS\u001b[0m\u001b[0;34m)\u001b[0m\u001b[0;34m\u001b[0m\u001b[0;34m\u001b[0m\u001b[0m\n\u001b[0m",
      "\u001b[0;31mRuntimeError\u001b[0m: 1D tensors expected, but got 3D and 2D tensors"
     ]
    }
   ],
   "source": [
    "U.dot(S)"
   ]
  },
  {
   "cell_type": "code",
   "execution_count": null,
   "metadata": {},
   "outputs": [],
   "source": []
  },
  {
   "cell_type": "code",
   "execution_count": null,
   "metadata": {},
   "outputs": [],
   "source": []
  },
  {
   "cell_type": "code",
   "execution_count": null,
   "metadata": {},
   "outputs": [],
   "source": []
  },
  {
   "cell_type": "code",
   "execution_count": 46,
   "metadata": {},
   "outputs": [
    {
     "name": "stderr",
     "output_type": "stream",
     "text": [
      "Train Epoch: [1/20], lr: 0.001000, Loss_Contrast: 5.0725, Nsim: 0.0047, Psim: 0.4410: 100%|██████████| 66/66 [00:38<00:00,  1.74it/s]\n",
      "Train Epoch: [1/20], lr: 0.001000, Loss: 2.1831, Acc_Train: 0.1884: 100%|██████████| 7/7 [00:02<00:00,  3.11it/s]\n",
      "Val Epoch: [1/20], Loss: 1.9717, Acc_Val: 0.3404: 100%|██████████| 7/7 [00:00<00:00, 10.33it/s]\n",
      "Train Epoch: [2/20], lr: 0.001000, Loss_Contrast: 3.9978, Nsim: 0.0042, Psim: 0.5316: 100%|██████████| 66/66 [00:38<00:00,  1.72it/s]\n",
      "Train Epoch: [2/20], lr: 0.001000, Loss: 2.2349, Acc_Train: 0.2854: 100%|██████████| 7/7 [00:02<00:00,  3.08it/s]\n",
      "Val Epoch: [2/20], Loss: 2.1403, Acc_Val: 0.3030: 100%|██████████| 7/7 [00:00<00:00, 10.25it/s]\n",
      "Train Epoch: [3/20], lr: 0.001000, Loss_Contrast: 3.5064, Nsim: 0.0057, Psim: 0.5653: 100%|██████████| 66/66 [00:39<00:00,  1.69it/s]\n",
      "Train Epoch: [3/20], lr: 0.001000, Loss: 2.3793, Acc_Train: 0.3038: 100%|██████████| 7/7 [00:02<00:00,  3.08it/s]\n",
      "Val Epoch: [3/20], Loss: 1.8389, Acc_Val: 0.3686: 100%|██████████| 7/7 [00:00<00:00,  9.98it/s]\n",
      "Train Epoch: [4/20], lr: 0.001000, Loss_Contrast: 3.1525, Nsim: 0.0055, Psim: 0.5854: 100%|██████████| 66/66 [00:39<00:00,  1.69it/s]\n",
      "Train Epoch: [4/20], lr: 0.001000, Loss: 3.7740, Acc_Train: 0.2054: 100%|██████████| 7/7 [00:02<00:00,  3.06it/s]\n",
      "Val Epoch: [4/20], Loss: 2.1855, Acc_Val: 0.3556: 100%|██████████| 7/7 [00:00<00:00,  9.63it/s]\n",
      "Train Epoch: [5/20], lr: 0.001000, Loss_Contrast: 3.0035, Nsim: 0.0042, Psim: 0.5996: 100%|██████████| 66/66 [00:38<00:00,  1.70it/s]\n",
      "Train Epoch: [5/20], lr: 0.001000, Loss: 4.7530, Acc_Train: 0.3106: 100%|██████████| 7/7 [00:02<00:00,  2.92it/s]\n",
      "Val Epoch: [5/20], Loss: 3.3459, Acc_Val: 0.3192: 100%|██████████| 7/7 [00:00<00:00, 10.16it/s]\n",
      "Train Epoch: [6/20], lr: 0.001000, Loss_Contrast: 2.8649, Nsim: 0.0033, Psim: 0.6086: 100%|██████████| 66/66 [00:39<00:00,  1.69it/s]\n",
      "Train Epoch: [6/20], lr: 0.001000, Loss: 4.8972, Acc_Train: 0.2070: 100%|██████████| 7/7 [00:02<00:00,  2.99it/s]\n",
      "Val Epoch: [6/20], Loss: 2.4992, Acc_Val: 0.2906: 100%|██████████| 7/7 [00:00<00:00, 10.11it/s]\n",
      "Train Epoch: [7/20], lr: 0.001000, Loss_Contrast: 2.8175, Nsim: 0.0030, Psim: 0.6189: 100%|██████████| 66/66 [00:39<00:00,  1.69it/s]\n",
      "Train Epoch: [7/20], lr: 0.001000, Loss: 3.2006, Acc_Train: 0.3710: 100%|██████████| 7/7 [00:02<00:00,  3.05it/s]\n",
      "Val Epoch: [7/20], Loss: 2.1391, Acc_Val: 0.4412: 100%|██████████| 7/7 [00:00<00:00,  9.84it/s]\n",
      "Train Epoch: [8/20], lr: 0.001000, Loss_Contrast: 2.5793, Nsim: 0.0020, Psim: 0.6289: 100%|██████████| 66/66 [00:39<00:00,  1.68it/s]\n",
      "Train Epoch: [8/20], lr: 0.001000, Loss: 2.2457, Acc_Train: 0.3712: 100%|██████████| 7/7 [00:02<00:00,  3.05it/s]\n",
      "Val Epoch: [8/20], Loss: 1.8448, Acc_Val: 0.4486: 100%|██████████| 7/7 [00:00<00:00,  9.62it/s]\n",
      "Train Epoch: [9/20], lr: 0.001000, Loss_Contrast: 2.5623, Nsim: 0.0014, Psim: 0.6299: 100%|██████████| 66/66 [00:39<00:00,  1.69it/s]\n",
      "Train Epoch: [9/20], lr: 0.001000, Loss: 1.8067, Acc_Train: 0.4648: 100%|██████████| 7/7 [00:02<00:00,  3.07it/s]\n",
      "Val Epoch: [9/20], Loss: 1.3289, Acc_Val: 0.5150: 100%|██████████| 7/7 [00:00<00:00,  9.96it/s]\n",
      "Train Epoch: [10/20], lr: 0.001000, Loss_Contrast: 2.4092, Nsim: 0.0011, Psim: 0.6404: 100%|██████████| 66/66 [00:39<00:00,  1.68it/s]\n",
      "Train Epoch: [10/20], lr: 0.001000, Loss: 1.2501, Acc_Train: 0.5444: 100%|██████████| 7/7 [00:02<00:00,  3.03it/s]\n",
      "Val Epoch: [10/20], Loss: 1.2289, Acc_Val: 0.5506: 100%|██████████| 7/7 [00:00<00:00, 10.09it/s]\n",
      "Train Epoch: [11/20], lr: 0.001000, Loss_Contrast: 2.3077, Nsim: 0.0008, Psim: 0.6425: 100%|██████████| 66/66 [00:39<00:00,  1.68it/s]\n",
      "Train Epoch: [11/20], lr: 0.001000, Loss: 1.1442, Acc_Train: 0.5654: 100%|██████████| 7/7 [00:02<00:00,  3.07it/s]\n",
      "Val Epoch: [11/20], Loss: 1.1859, Acc_Val: 0.5642: 100%|██████████| 7/7 [00:00<00:00,  9.71it/s]\n",
      "Train Epoch: [12/20], lr: 0.001000, Loss_Contrast: 2.2043, Nsim: 0.0006, Psim: 0.6493: 100%|██████████| 66/66 [00:39<00:00,  1.68it/s]\n",
      "Train Epoch: [12/20], lr: 0.001000, Loss: 1.2255, Acc_Train: 0.5808: 100%|██████████| 7/7 [00:02<00:00,  3.07it/s]\n",
      "Val Epoch: [12/20], Loss: 1.1801, Acc_Val: 0.5744: 100%|██████████| 7/7 [00:00<00:00, 10.06it/s]\n",
      "Train Epoch: [13/20], lr: 0.001000, Loss_Contrast: 2.1804, Nsim: 0.0005, Psim: 0.6506: 100%|██████████| 66/66 [00:39<00:00,  1.67it/s]\n",
      "Train Epoch: [13/20], lr: 0.001000, Loss: 1.1427, Acc_Train: 0.5874: 100%|██████████| 7/7 [00:02<00:00,  3.05it/s]\n",
      "Val Epoch: [13/20], Loss: 1.1584, Acc_Val: 0.5802: 100%|██████████| 7/7 [00:00<00:00, 10.18it/s]\n",
      "Train Epoch: [14/20], lr: 0.001000, Loss_Contrast: 2.1044, Nsim: 0.0005, Psim: 0.6572: 100%|██████████| 66/66 [00:39<00:00,  1.68it/s]\n",
      "Train Epoch: [14/20], lr: 0.001000, Loss: 1.2634, Acc_Train: 0.5826: 100%|██████████| 7/7 [00:02<00:00,  3.08it/s]\n",
      "Val Epoch: [14/20], Loss: 1.1906, Acc_Val: 0.5856: 100%|██████████| 7/7 [00:00<00:00,  9.97it/s]\n",
      "Train Epoch: [15/20], lr: 0.001000, Loss_Contrast: 2.1032, Nsim: 0.0004, Psim: 0.6562: 100%|██████████| 66/66 [00:39<00:00,  1.69it/s]\n",
      "Train Epoch: [15/20], lr: 0.001000, Loss: 1.1803, Acc_Train: 0.5996: 100%|██████████| 7/7 [00:02<00:00,  3.08it/s]\n",
      "Val Epoch: [15/20], Loss: 1.0803, Acc_Val: 0.6166: 100%|██████████| 7/7 [00:00<00:00,  9.86it/s]\n",
      "Train Epoch: [16/20], lr: 0.001000, Loss_Contrast: 2.0451, Nsim: 0.0004, Psim: 0.6597: 100%|██████████| 66/66 [00:39<00:00,  1.68it/s]\n",
      "Train Epoch: [16/20], lr: 0.001000, Loss: 1.1567, Acc_Train: 0.6076: 100%|██████████| 7/7 [00:02<00:00,  3.06it/s]\n",
      "Val Epoch: [16/20], Loss: 1.1623, Acc_Val: 0.6032: 100%|██████████| 7/7 [00:00<00:00, 10.25it/s]\n",
      "Train Epoch: [17/20], lr: 0.001000, Loss_Contrast: 2.0347, Nsim: 0.0004, Psim: 0.6620: 100%|██████████| 66/66 [00:39<00:00,  1.68it/s]\n",
      "Train Epoch: [17/20], lr: 0.001000, Loss: 1.1171, Acc_Train: 0.6280: 100%|██████████| 7/7 [00:02<00:00,  3.07it/s]\n",
      "Val Epoch: [17/20], Loss: 1.0585, Acc_Val: 0.6232: 100%|██████████| 7/7 [00:00<00:00, 10.12it/s]\n",
      "Train Epoch: [18/20], lr: 0.001000, Loss_Contrast: 2.0036, Nsim: 0.0004, Psim: 0.6631: 100%|██████████| 66/66 [00:39<00:00,  1.69it/s]\n",
      "Train Epoch: [18/20], lr: 0.001000, Loss: 1.0576, Acc_Train: 0.6340: 100%|██████████| 7/7 [00:02<00:00,  3.08it/s]\n",
      "Val Epoch: [18/20], Loss: 1.0569, Acc_Val: 0.6324: 100%|██████████| 7/7 [00:00<00:00,  9.79it/s]\n",
      "Train Epoch: [19/20], lr: 0.001000, Loss_Contrast: 1.9635, Nsim: 0.0004, Psim: 0.6685: 100%|██████████| 66/66 [00:39<00:00,  1.68it/s]\n",
      "Train Epoch: [19/20], lr: 0.001000, Loss: 1.0064, Acc_Train: 0.6660: 100%|██████████| 7/7 [00:02<00:00,  3.04it/s]\n",
      "Val Epoch: [19/20], Loss: 1.0616, Acc_Val: 0.6324: 100%|██████████| 7/7 [00:00<00:00, 10.00it/s]\n",
      "Train Epoch: [20/20], lr: 0.001000, Loss_Contrast: 1.9127, Nsim: 0.0003, Psim: 0.6705: 100%|██████████| 66/66 [00:39<00:00,  1.68it/s]\n",
      "Train Epoch: [20/20], lr: 0.001000, Loss: 0.9780, Acc_Train: 0.6596: 100%|██████████| 7/7 [00:02<00:00,  3.06it/s]\n",
      "Val Epoch: [20/20], Loss: 1.0281, Acc_Val: 0.6520: 100%|██████████| 7/7 [00:00<00:00,  9.80it/s]\n",
      "Train Epoch: [20/20], lr: 0.001000, Loss: 0.6811, Acc_Train: 0.7444: 100%|██████████| 7/7 [00:02<00:00,  3.09it/s]\n",
      "Val Epoch: [20/20], Loss: 0.8856, Acc_Val: 0.6758: 100%|██████████| 7/7 [00:00<00:00, 10.15it/s]\n",
      "Train Epoch: [20/20], lr: 0.001000, Loss: 0.5146, Acc_Train: 0.8226: 100%|██████████| 7/7 [00:02<00:00,  3.05it/s]\n",
      "Val Epoch: [20/20], Loss: 0.8158, Acc_Val: 0.7064: 100%|██████████| 7/7 [00:00<00:00, 10.14it/s]\n",
      "Train Epoch: [20/20], lr: 0.001000, Loss: 0.4117, Acc_Train: 0.8770: 100%|██████████| 7/7 [00:02<00:00,  3.06it/s]\n",
      "Val Epoch: [20/20], Loss: 0.8255, Acc_Val: 0.7092: 100%|██████████| 7/7 [00:00<00:00, 10.23it/s]\n",
      "Train Epoch: [20/20], lr: 0.001000, Loss: 0.3120, Acc_Train: 0.9098: 100%|██████████| 7/7 [00:02<00:00,  2.91it/s]\n",
      "Val Epoch: [20/20], Loss: 0.7965, Acc_Val: 0.7228: 100%|██████████| 7/7 [00:00<00:00,  9.99it/s]\n",
      "Train Epoch: [20/20], lr: 0.001000, Loss: 0.2312, Acc_Train: 0.9410: 100%|██████████| 7/7 [00:02<00:00,  3.06it/s]\n",
      "Val Epoch: [20/20], Loss: 0.8103, Acc_Val: 0.7308: 100%|██████████| 7/7 [00:00<00:00,  9.19it/s]\n",
      "Train Epoch: [20/20], lr: 0.001000, Loss: 0.1678, Acc_Train: 0.9660: 100%|██████████| 7/7 [00:02<00:00,  3.00it/s]\n",
      "Val Epoch: [20/20], Loss: 0.8083, Acc_Val: 0.7332: 100%|██████████| 7/7 [00:00<00:00,  9.95it/s]\n",
      "Train Epoch: [20/20], lr: 0.001000, Loss: 0.1126, Acc_Train: 0.9844: 100%|██████████| 7/7 [00:02<00:00,  3.05it/s]\n",
      "Val Epoch: [20/20], Loss: 0.8706, Acc_Val: 0.7142: 100%|██████████| 7/7 [00:00<00:00,  9.70it/s]\n",
      "Train Epoch: [20/20], lr: 0.001000, Loss: 0.0747, Acc_Train: 0.9962: 100%|██████████| 7/7 [00:02<00:00,  2.94it/s]\n",
      "Val Epoch: [20/20], Loss: 0.8446, Acc_Val: 0.7294: 100%|██████████| 7/7 [00:00<00:00, 10.17it/s]\n",
      "Train Epoch: [20/20], lr: 0.001000, Loss: 0.0502, Acc_Train: 0.9994: 100%|██████████| 7/7 [00:02<00:00,  3.08it/s]\n",
      "Val Epoch: [20/20], Loss: 0.8616, Acc_Val: 0.7268: 100%|██████████| 7/7 [00:00<00:00, 10.22it/s]\n",
      "Train Epoch: [20/20], lr: 0.001000, Loss: 0.0339, Acc_Train: 0.9994: 100%|██████████| 7/7 [00:02<00:00,  2.98it/s]\n",
      "Val Epoch: [20/20], Loss: 0.9098, Acc_Val: 0.7264: 100%|██████████| 7/7 [00:00<00:00, 10.22it/s]\n",
      "Train Epoch: [20/20], lr: 0.001000, Loss: 0.0258, Acc_Train: 0.9996: 100%|██████████| 7/7 [00:02<00:00,  3.07it/s]\n",
      "Val Epoch: [20/20], Loss: 0.9285, Acc_Val: 0.7262: 100%|██████████| 7/7 [00:00<00:00, 10.08it/s]\n",
      "Train Epoch: [20/20], lr: 0.001000, Loss: 0.0190, Acc_Train: 1.0000: 100%|██████████| 7/7 [00:02<00:00,  3.09it/s]\n",
      "Val Epoch: [20/20], Loss: 0.9735, Acc_Val: 0.7192: 100%|██████████| 7/7 [00:00<00:00, 10.14it/s]\n",
      "Train Epoch: [20/20], lr: 0.001000, Loss: 0.0151, Acc_Train: 1.0000: 100%|██████████| 7/7 [00:02<00:00,  3.10it/s]\n",
      "Val Epoch: [20/20], Loss: 0.9722, Acc_Val: 0.7258: 100%|██████████| 7/7 [00:00<00:00, 10.08it/s]\n",
      "Train Epoch: [20/20], lr: 0.001000, Loss: 0.0118, Acc_Train: 1.0000: 100%|██████████| 7/7 [00:02<00:00,  3.07it/s]\n",
      "Val Epoch: [20/20], Loss: 0.9639, Acc_Val: 0.7238: 100%|██████████| 7/7 [00:00<00:00, 10.21it/s]\n",
      "Train Epoch: [20/20], lr: 0.001000, Loss: 0.0098, Acc_Train: 1.0000: 100%|██████████| 7/7 [00:02<00:00,  3.08it/s]\n",
      "Val Epoch: [20/20], Loss: 0.9783, Acc_Val: 0.7214: 100%|██████████| 7/7 [00:00<00:00, 10.16it/s]\n",
      "Train Epoch: [20/20], lr: 0.001000, Loss: 0.0083, Acc_Train: 1.0000: 100%|██████████| 7/7 [00:02<00:00,  3.09it/s]\n",
      "Val Epoch: [20/20], Loss: 0.9784, Acc_Val: 0.7294: 100%|██████████| 7/7 [00:00<00:00, 10.15it/s]\n",
      "Train Epoch: [20/20], lr: 0.001000, Loss: 0.0070, Acc_Train: 1.0000: 100%|██████████| 7/7 [00:02<00:00,  3.07it/s]\n",
      "Val Epoch: [20/20], Loss: 0.9741, Acc_Val: 0.7286: 100%|██████████| 7/7 [00:00<00:00, 10.29it/s]\n",
      "Train Epoch: [20/20], lr: 0.001000, Loss: 0.0066, Acc_Train: 1.0000: 100%|██████████| 7/7 [00:02<00:00,  3.10it/s]\n",
      "Val Epoch: [20/20], Loss: 0.9864, Acc_Val: 0.7242: 100%|██████████| 7/7 [00:00<00:00, 10.18it/s]\n",
      "Train Epoch: [20/20], lr: 0.001000, Loss: 0.0056, Acc_Train: 1.0000: 100%|██████████| 7/7 [00:02<00:00,  3.07it/s]\n",
      "Val Epoch: [20/20], Loss: 1.0050, Acc_Val: 0.7248: 100%|██████████| 7/7 [00:00<00:00, 10.32it/s]\n",
      "Train Epoch: [20/20], lr: 0.001000, Loss: 0.0052, Acc_Train: 1.0000: 100%|██████████| 7/7 [00:02<00:00,  3.08it/s]\n",
      "Val Epoch: [20/20], Loss: 1.0051, Acc_Val: 0.7270: 100%|██████████| 7/7 [00:00<00:00, 10.15it/s]\n"
     ]
    }
   ],
   "source": [
    "# Start training\n",
    "train_losses =[]\n",
    "val_losses = []\n",
    "train_accs = []\n",
    "val_accs = []\n",
    "\n",
    "for epoch in range(epoch_start, args.epochs + 1):\n",
    "    train_loss, neg_sim, pos_sim, lr = smtr.train(model, train_loader, optimizer, epoch, args)\n",
    "    if (epoch % 1) == 0:\n",
    "        model.module.switch = True\n",
    "        for _ in range(1):\n",
    "            train_loss, train_acc = let.train_lr(train_loader_nonaug, model, criterion, optimizer, epoch, args.epochs, args)\n",
    "            val_loss, val_acc = let.test_lr(val_loader, model, criterion, epoch, args.epochs, args)\n",
    "            train_losses.append(train_loss)\n",
    "            train_accs.append(train_acc)\n",
    "            val_losses.append(val_loss)\n",
    "            val_accs.append(val_acc)\n",
    "        model.module.switch = False\n",
    "        \n",
    "model.module.switch = True\n",
    "for _ in range(20):\n",
    "    train_loss, train_acc = let.train_lr(train_loader_nonaug, model, criterion, optimizer, epoch, args.epochs, args)\n",
    "    val_loss, val_acc = let.test_lr(val_loader, model, criterion, epoch, args.epochs, args)\n",
    "    train_losses.append(train_loss)\n",
    "    train_accs.append(train_acc)\n",
    "    val_losses.append(val_loss)\n",
    "    val_accs.append(val_acc)"
   ]
  },
  {
   "cell_type": "code",
   "execution_count": 59,
   "metadata": {},
   "outputs": [
    {
     "data": {
      "image/png": "[encoded data removed]",
      "text/plain": [
       "<Figure size 432x288 with 1 Axes>"
      ]
     },
     "metadata": {},
     "output_type": "display_data"
    },
    {
     "name": "stdout",
     "output_type": "stream",
     "text": [
      "Best Loss-Value for Validation: 0.7965126718793597 at Epoch 24\n"
     ]
    },
    {
     "data": {
      "image/png": "[encoded data removed]",
      "text/plain": [
       "<Figure size 432x288 with 1 Axes>"
      ]
     },
     "metadata": {},
     "output_type": "display_data"
    },
    {
     "name": "stdout",
     "output_type": "stream",
     "text": [
      "Best Accuracy for Validation: 0.7332 at Epoch 26\n"
     ]
    }
   ],
   "source": [
    "min_value = min(val_losses)\n",
    "min_index = val_losses.index(min_value)+1\n",
    "\n",
    "plot(\"Loss vs Epoch\", \"Loss\", train_losses, val_losses, yscale='linear', save_path=None, \n",
    "         extra_pt=(min_index, min_value), extra_pt_label=\"Best Model\")\n",
    "print(f\"Best Loss-Value for Validation: {min_value} at Epoch {min_index}\")\n",
    "\n",
    "max_value = max(val_accs)\n",
    "max_index = val_accs.index(max_value)+1\n",
    "plot(\"Acc vs Epoch\", \"Accuracy\", train_accs, val_accs, yscale='linear', save_path=None, \n",
    "         extra_pt=(max_index, max_value), extra_pt_label=\"Best Model\")\n",
    "print(f\"Best Accuracy for Validation: {max_value} at Epoch {max_index}\")"
   ]
  }
 ],
 "metadata": {
  "kernelspec": {
   "display_name": "Python 3",
   "language": "python",
   "name": "python3"
  },
  "language_info": {
   "codemirror_mode": {
    "name": "ipython",
    "version": 3
   },
   "file_extension": ".py",
   "mimetype": "text/x-python",
   "name": "python",
   "nbconvert_exporter": "python",
   "pygments_lexer": "ipython3",
   "version": "3.8.2"
  }
 },
 "nbformat": 4,
 "nbformat_minor": 4
}
