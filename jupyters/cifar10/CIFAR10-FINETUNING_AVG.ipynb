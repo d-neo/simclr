{
 "cells": [
  {
   "cell_type": "code",
   "execution_count": 26,
   "metadata": {},
   "outputs": [],
   "source": [
    "# Import own modules\n",
    "# SelfSupervised\n",
    "import modules.selfsupervised.simclr_model as sm \n",
    "import modules.selfsupervised.simclr_train as smtr\n",
    "# Evaluation\n",
    "import modules.evaluation.lin_eval_testmoduls as let\n",
    "# Utils\n",
    "import modules.utils.transformations as t \n",
    "import modules.utils.loss_functions as lf\n",
    "import modules.utils.lars as lars\n",
    "# Settings\n",
    "import modules.utils.get_data as get \n",
    "# Reporting \n",
    "import modules.utils.reporting as report \n",
    "# Saving Model\n",
    "import modules.utils.save_model as savem\n",
    "# Get Model\n",
    "import modules.utils.get_model as gm \n",
    "# Import extern modules\n",
    "import argparse\n",
    "import torchvision\n",
    "import torch \n",
    "import torch.nn as nn\n",
    "from torch.nn.parallel import DataParallel\n",
    "import math \n",
    "import numpy as np\n",
    "\n",
    "import seaborn as sns\n",
    "import matplotlib.pyplot as plt\n"
   ]
  },
  {
   "cell_type": "code",
   "execution_count": 27,
   "metadata": {},
   "outputs": [],
   "source": [
    "# Create an Argparser\n",
    "parser = argparse.ArgumentParser(description='Train simCLRv1 on CIFAR-10')\n",
    "# Model-Architecture\n",
    "parser.add_argument('-a', '--arch', default='resnet18')\n",
    "# lr: 0.06 for batch 512 (or 0.03 for batch 256) 0.12 for 1024?\n",
    "parser.add_argument('--lr', '--learning-rate', default=1e-3, type=float, metavar='LR', help='initial learning rate', dest='lr')\n",
    "parser.add_argument('--epochs', default=20, type=int, metavar='N', help='number of total epochs to run')\n",
    "parser.add_argument('--schedule', default=[1020, 1060], nargs='*', type=int, help='learning rate schedule (when to drop lr by 10x); does not take effect if --cos is on')\n",
    "parser.add_argument('--cos', default=\"False\", type=str, help='use cosine lr schedule')\n",
    "parser.add_argument('--squared', default=\"False\", type=str, help='use square lr schedule')\n",
    "parser.add_argument('--batch-size', default=768, type=int, metavar='N', help='mini-batch size')\n",
    "parser.add_argument('--wd', default=1e-6, type=float, metavar='W', help='weight decay')\n",
    "parser.add_argument('--dataset', default=\"IMAGENET\", type=str, metavar='W', help='dataset')\n",
    "parser.add_argument('--dataset-dir', default=\"data/imagenet128\", type=str, metavar='W', help='dataset directory')\n",
    "parser.add_argument('--optimizer', default=\"adam\", type=str, metavar='W', help='Adam, SGD, Lars')\n",
    "# SIMCLR specific configs:\n",
    "parser.add_argument('--dim', default=128, type=int, help='feature dimension')\n",
    "parser.add_argument('--t', default=0.1, type=float, help='softmax temperature')\n",
    "parser.add_argument('--numberviews', default=2, type=int, help='Number of Views created for Avg.Loss')\n",
    "# Training/Test Settings\n",
    "parser.add_argument('--model-dir', default=\"\", type=str, metavar='W', help='if test true give model dir!')\n",
    "parser.add_argument('--model-name', default=\"\", type=str, metavar='W', help='if test true give model dir!')\n",
    "# Linear Evaluation\n",
    "parser.add_argument('--epochs-lineval', default=100, type=int, metavar='N', help='number of total epochs to run in linEval')\n",
    "# Labels\n",
    "parser.add_argument('--labels', default=\"full\", type=str, metavar='N', help='1%, 10% or full labelled data sets are supported')\n",
    "# Multiple GPUs\n",
    "parser.add_argument('--dataparallel', default=\"True\", type=str, metavar='W', help='multiple gpus true or false')\n",
    "# Reload\n",
    "parser.add_argument('--reload', default=\"False\", type=str, metavar='W', help='reload true or false')\n",
    "# Verbose\n",
    "parser.add_argument('--verbose', default=\"True\", type=str, help='True if you want to evaluate your representations after each epoch (obviously SLOWER!)')\n",
    "\n",
    "# Set up args\n",
    "args = parser.parse_args(\"\")\n",
    "\n",
    "# Convert \n",
    "args.dataparallel = True if str.lower(args.dataparallel) == \"true\" else False\n",
    "args.reload = True if str.lower(args.reload) == 'true' else False\n",
    "args.verbose = True if str.lower(args.verbose) == 'true' else False\n",
    "args.cos = True if str.lower(args.cos) == 'true' else False\n",
    "args.squared = True if str.lower(args.squared) == 'true' else False\n",
    "args.device = torch.device(\"cuda:0\" if torch.cuda.is_available() else \"cpu\")\n",
    "args.num_gpus = torch.cuda.device_count()"
   ]
  },
  {
   "cell_type": "code",
   "execution_count": 28,
   "metadata": {},
   "outputs": [],
   "source": [
    "args.dataset = \"CIFAR10\""
   ]
  },
  {
   "cell_type": "code",
   "execution_count": 29,
   "metadata": {},
   "outputs": [],
   "source": [
    "def plot(title, label, train_results, val_results, yscale='linear', save_path=None, \n",
    "         extra_pt=None, extra_pt_label=None):\n",
    "    \"\"\"Plot learning curves.\n",
    "\n",
    "    Args:\n",
    "        title (str): Title of plot\n",
    "        label (str): x-axis label\n",
    "        train_results (list): Results vector of training of length of number\n",
    "            of epochs trained. Could be loss or accuracy.\n",
    "        val_results (list): Results vector of validation of length of number\n",
    "            of epochs. Could be loss or accuracy.\n",
    "        yscale (str, optional): Matplotlib.pyplot.yscale parameter. \n",
    "            Defaults to 'linear'.\n",
    "        save_path (str, optional): If passed, figure will be saved at this path.\n",
    "            Defaults to None.\n",
    "        extra_pt (tuple, optional): Tuple of length 2, defining x and y coordinate\n",
    "            of where an additional black dot will be plotted. Defaults to None.\n",
    "        extra_pt_label (str, optional): Legend label of extra point. Defaults to None.\n",
    "    \"\"\"\n",
    "    \n",
    "    epoch_array = np.arange(len(train_results)) + 1\n",
    "    train_label, val_label = \"Training \"+label.lower(), \"Validation \"+label.lower()\n",
    "    \n",
    "    sns.set(style='ticks')\n",
    "\n",
    "    plt.plot(epoch_array, train_results, epoch_array, val_results, linestyle='dashed', marker='o')\n",
    "    legend = ['Train results', 'Validation results']\n",
    "    \n",
    "    if extra_pt:\n",
    "        ####################\n",
    "        ## YOUR CODE HERE ##\n",
    "        ####################\n",
    "        extra_point=plt.plot(extra_pt[0],extra_pt[1],'k.',label=extra_pt_label, markersize=16)\n",
    "        if extra_pt_label:\n",
    "            legend.append(extra_pt_label)\n",
    "\n",
    "        # END OF YOUR CODE #\n",
    "        \n",
    "    plt.vlines(20, 0, 1)\n",
    "        \n",
    "    plt.legend(legend)\n",
    "    plt.xlabel('Epoch')\n",
    "    plt.ylabel(label)\n",
    "    plt.yscale(yscale)\n",
    "    plt.title(title)\n",
    "    \n",
    "    sns.despine(trim=True, offset=5)\n",
    "    plt.title(title, fontsize=15)\n",
    "    if save_path:\n",
    "        plt.savefig(str(save_path), bbox_inches='tight')\n",
    "    plt.show()"
   ]
  },
  {
   "cell_type": "code",
   "execution_count": 30,
   "metadata": {},
   "outputs": [
    {
     "name": "stdout",
     "output_type": "stream",
     "text": [
      "Files already downloaded and verified\n",
      "Files already downloaded and verified\n",
      "Files already downloaded and verified\n"
     ]
    }
   ],
   "source": [
    "# Set Reporting up\n",
    "#writer_train, writer_val, mkdirpath = report.setReportingUp_trainingSimclr(args)\n",
    "# Get Data\n",
    "train_loader, train_loader_nonaug, val_loader = get.data_trainingSimclr(args)\n",
    "# Get encoder\n",
    "encoder = get.encoder(args)\n",
    "args.featureDim, args.numberClasses, epoch_start = encoder.fc.in_features, get.numberClasses(args), 1\n",
    "# Choose Model\n",
    "model = sm.modelSIMCLR(encoder, args.featureDim, lf.contrastive_loss_cosine_extra, dim=args.dim, T=args.t)\n",
    "# Get Optimizer\n",
    "optimizer = get.optimizer_training(model, args)\n",
    "# Check Reload\n",
    "checkpoint = torch.load(\"saved_models/selfsupervised/cifar10/100ep_256AVG/checkpoint_100.tar\", map_location=args.device.type)\n",
    "model = model.cuda()\n",
    "model.load_state_dict(checkpoint['model_state_dict'])\n",
    "optimizer.load_state_dict(checkpoint['optimizer_state_dict'])\n",
    "epoch_start = checkpoint['epoch']+1\n",
    "    \n",
    "criterion = nn.CrossEntropyLoss()"
   ]
  },
  {
   "cell_type": "code",
   "execution_count": 62,
   "metadata": {},
   "outputs": [],
   "source": [
    "#optimizer = get.optimizer_training(model, args)"
   ]
  },
  {
   "cell_type": "code",
   "execution_count": 31,
   "metadata": {},
   "outputs": [],
   "source": [
    "trainedEncoder = model.encoder_f\n",
    "trainedEncoder.fc = torch.nn.Linear(512,10)\n",
    "model = trainedEncoder.cuda()"
   ]
  },
  {
   "cell_type": "code",
   "execution_count": 32,
   "metadata": {},
   "outputs": [
    {
     "name": "stderr",
     "output_type": "stream",
     "text": [
      "Train Epoch: [0/20], lr: 0.001000, Loss: 0.9747, Acc_Train: 0.7108: 100%|██████████| 66/66 [00:33<00:00,  1.99it/s]\n",
      "Val Epoch: [0/20], Loss: 0.5089, Acc_Val: 0.8446: 100%|██████████| 7/7 [00:00<00:00,  7.07it/s]\n",
      "Train Epoch: [1/20], lr: 0.001000, Loss: 0.3378, Acc_Train: 0.8946: 100%|██████████| 66/66 [00:33<00:00,  1.97it/s]\n",
      "Val Epoch: [1/20], Loss: 0.3744, Acc_Val: 0.8758: 100%|██████████| 7/7 [00:00<00:00,  7.02it/s]\n",
      "Train Epoch: [2/20], lr: 0.001000, Loss: 0.1909, Acc_Train: 0.9456: 100%|██████████| 66/66 [00:33<00:00,  1.96it/s]\n",
      "Val Epoch: [2/20], Loss: 0.3465, Acc_Val: 0.8838: 100%|██████████| 7/7 [00:01<00:00,  6.98it/s]\n",
      "Train Epoch: [3/20], lr: 0.001000, Loss: 0.0995, Acc_Train: 0.9771: 100%|██████████| 66/66 [00:33<00:00,  1.96it/s]\n",
      "Val Epoch: [3/20], Loss: 0.4053, Acc_Val: 0.8706: 100%|██████████| 7/7 [00:01<00:00,  6.99it/s]\n",
      "Train Epoch: [4/20], lr: 0.001000, Loss: 0.0590, Acc_Train: 0.9879: 100%|██████████| 66/66 [00:33<00:00,  1.97it/s]\n",
      "Val Epoch: [4/20], Loss: 0.3399, Acc_Val: 0.8954: 100%|██████████| 7/7 [00:00<00:00,  7.02it/s]\n",
      "Train Epoch: [5/20], lr: 0.001000, Loss: 0.0291, Acc_Train: 0.9958: 100%|██████████| 66/66 [00:33<00:00,  1.96it/s]\n",
      "Val Epoch: [5/20], Loss: 0.3557, Acc_Val: 0.8970: 100%|██████████| 7/7 [00:01<00:00,  6.84it/s]\n",
      "Train Epoch: [6/20], lr: 0.001000, Loss: 0.0158, Acc_Train: 0.9983: 100%|██████████| 66/66 [00:33<00:00,  1.95it/s]\n",
      "Val Epoch: [6/20], Loss: 0.3339, Acc_Val: 0.9010: 100%|██████████| 7/7 [00:00<00:00,  7.01it/s]\n",
      "Train Epoch: [7/20], lr: 0.001000, Loss: 0.0089, Acc_Train: 0.9997: 100%|██████████| 66/66 [00:33<00:00,  1.96it/s]\n",
      "Val Epoch: [7/20], Loss: 0.3157, Acc_Val: 0.9014: 100%|██████████| 7/7 [00:00<00:00,  7.03it/s]\n",
      "Train Epoch: [8/20], lr: 0.001000, Loss: 0.0066, Acc_Train: 0.9998: 100%|██████████| 66/66 [00:33<00:00,  1.96it/s]\n",
      "Val Epoch: [8/20], Loss: 0.3168, Acc_Val: 0.9036: 100%|██████████| 7/7 [00:01<00:00,  6.95it/s]\n",
      "Train Epoch: [9/20], lr: 0.001000, Loss: 0.0034, Acc_Train: 1.0000: 100%|██████████| 66/66 [00:33<00:00,  1.96it/s]\n",
      "Val Epoch: [9/20], Loss: 0.3230, Acc_Val: 0.9054: 100%|██████████| 7/7 [00:01<00:00,  6.97it/s]\n",
      "Train Epoch: [10/20], lr: 0.001000, Loss: 0.0026, Acc_Train: 1.0000: 100%|██████████| 66/66 [00:33<00:00,  1.96it/s]\n",
      "Val Epoch: [10/20], Loss: 0.3245, Acc_Val: 0.9066: 100%|██████████| 7/7 [00:00<00:00,  7.09it/s]\n",
      "Train Epoch: [11/20], lr: 0.001000, Loss: 0.0022, Acc_Train: 1.0000: 100%|██████████| 66/66 [00:33<00:00,  1.96it/s]\n",
      "Val Epoch: [11/20], Loss: 0.3372, Acc_Val: 0.9054: 100%|██████████| 7/7 [00:00<00:00,  7.03it/s]\n",
      "Train Epoch: [12/20], lr: 0.001000, Loss: 0.0026, Acc_Train: 0.9998: 100%|██████████| 66/66 [00:33<00:00,  1.97it/s]\n",
      "Val Epoch: [12/20], Loss: 0.3461, Acc_Val: 0.9036: 100%|██████████| 7/7 [00:01<00:00,  6.98it/s]\n",
      "Train Epoch: [13/20], lr: 0.001000, Loss: 0.0026, Acc_Train: 0.9998: 100%|██████████| 66/66 [00:33<00:00,  1.96it/s]\n",
      "Val Epoch: [13/20], Loss: 0.3527, Acc_Val: 0.9032: 100%|██████████| 7/7 [00:01<00:00,  6.72it/s]\n",
      "Train Epoch: [14/20], lr: 0.001000, Loss: 0.0046, Acc_Train: 0.9995: 100%|██████████| 66/66 [00:33<00:00,  1.97it/s]\n",
      "Val Epoch: [14/20], Loss: 0.3749, Acc_Val: 0.9042: 100%|██████████| 7/7 [00:00<00:00,  7.04it/s]\n",
      "Train Epoch: [15/20], lr: 0.001000, Loss: 0.0084, Acc_Train: 0.9987: 100%|██████████| 66/66 [00:33<00:00,  1.96it/s]\n",
      "Val Epoch: [15/20], Loss: 0.3569, Acc_Val: 0.9034: 100%|██████████| 7/7 [00:00<00:00,  7.01it/s]\n",
      "Train Epoch: [16/20], lr: 0.001000, Loss: 0.0032, Acc_Train: 1.0000: 100%|██████████| 66/66 [00:33<00:00,  1.96it/s]\n",
      "Val Epoch: [16/20], Loss: 0.3771, Acc_Val: 0.9020: 100%|██████████| 7/7 [00:00<00:00,  7.03it/s]\n",
      "Train Epoch: [17/20], lr: 0.001000, Loss: 0.0251, Acc_Train: 0.9937: 100%|██████████| 66/66 [00:33<00:00,  1.97it/s]\n",
      "Val Epoch: [17/20], Loss: 0.4934, Acc_Val: 0.8780: 100%|██████████| 7/7 [00:00<00:00,  7.07it/s]\n",
      "Train Epoch: [18/20], lr: 0.001000, Loss: 0.0357, Acc_Train: 0.9897: 100%|██████████| 66/66 [00:33<00:00,  1.96it/s]\n",
      "Val Epoch: [18/20], Loss: 0.4504, Acc_Val: 0.8844: 100%|██████████| 7/7 [00:00<00:00,  7.02it/s]\n",
      "Train Epoch: [19/20], lr: 0.001000, Loss: 0.0243, Acc_Train: 0.9933: 100%|██████████| 66/66 [00:33<00:00,  1.96it/s]\n",
      "Val Epoch: [19/20], Loss: 0.4718, Acc_Val: 0.8772: 100%|██████████| 7/7 [00:01<00:00,  6.95it/s]\n",
      "Train Epoch: [20/20], lr: 0.001000, Loss: 0.0090, Acc_Train: 0.9983: 100%|██████████| 66/66 [00:33<00:00,  1.97it/s]\n",
      "Val Epoch: [20/20], Loss: 0.3555, Acc_Val: 0.9064: 100%|██████████| 7/7 [00:01<00:00,  6.99it/s]\n",
      "Train Epoch: [21/20], lr: 0.001000, Loss: 0.0030, Acc_Train: 0.9999: 100%|██████████| 66/66 [00:33<00:00,  1.96it/s]\n",
      "Val Epoch: [21/20], Loss: 0.3547, Acc_Val: 0.9126: 100%|██████████| 7/7 [00:01<00:00,  6.98it/s]\n",
      "Train Epoch: [22/20], lr: 0.001000, Loss: 0.0013, Acc_Train: 1.0000: 100%|██████████| 66/66 [00:33<00:00,  1.96it/s]\n",
      "Val Epoch: [22/20], Loss: 0.3466, Acc_Val: 0.9150: 100%|██████████| 7/7 [00:00<00:00,  7.07it/s]\n",
      "Train Epoch: [23/20], lr: 0.001000, Loss: 0.0017, Acc_Train: 1.0000: 100%|██████████| 66/66 [00:33<00:00,  1.96it/s]\n",
      "Val Epoch: [23/20], Loss: 0.3589, Acc_Val: 0.9098: 100%|██████████| 7/7 [00:00<00:00,  7.03it/s]\n",
      "Train Epoch: [24/20], lr: 0.001000, Loss: 0.0122, Acc_Train: 0.9969: 100%|██████████| 66/66 [00:33<00:00,  1.96it/s]\n",
      "Val Epoch: [24/20], Loss: 0.4364, Acc_Val: 0.8876: 100%|██████████| 7/7 [00:01<00:00,  6.69it/s]\n",
      "Train Epoch: [25/20], lr: 0.001000, Loss: 0.0027, Acc_Train: 0.9998: 100%|██████████| 66/66 [00:33<00:00,  1.96it/s]\n",
      "Val Epoch: [25/20], Loss: 0.3738, Acc_Val: 0.9092: 100%|██████████| 7/7 [00:00<00:00,  7.07it/s]\n",
      "Train Epoch: [26/20], lr: 0.001000, Loss: 0.0028, Acc_Train: 0.9996: 100%|██████████| 66/66 [00:33<00:00,  1.97it/s]\n",
      "Val Epoch: [26/20], Loss: 0.3757, Acc_Val: 0.9066: 100%|██████████| 7/7 [00:00<00:00,  7.03it/s]\n",
      "Train Epoch: [27/20], lr: 0.001000, Loss: 0.0011, Acc_Train: 1.0000: 100%|██████████| 66/66 [00:33<00:00,  1.96it/s]\n",
      "Val Epoch: [27/20], Loss: 0.3565, Acc_Val: 0.9128: 100%|██████████| 7/7 [00:01<00:00,  6.94it/s]\n",
      "Train Epoch: [28/20], lr: 0.001000, Loss: 0.0008, Acc_Train: 1.0000: 100%|██████████| 66/66 [00:33<00:00,  1.96it/s]\n",
      "Val Epoch: [28/20], Loss: 0.3484, Acc_Val: 0.9128: 100%|██████████| 7/7 [00:01<00:00,  6.76it/s]\n",
      "Train Epoch: [29/20], lr: 0.001000, Loss: 0.0037, Acc_Train: 0.9992: 100%|██████████| 66/66 [00:33<00:00,  1.95it/s]\n",
      "Val Epoch: [29/20], Loss: 0.4160, Acc_Val: 0.8984: 100%|██████████| 7/7 [00:00<00:00,  7.06it/s]\n",
      "Train Epoch: [30/20], lr: 0.001000, Loss: 0.0105, Acc_Train: 0.9975: 100%|██████████| 66/66 [00:33<00:00,  1.96it/s]\n",
      "Val Epoch: [30/20], Loss: 0.4342, Acc_Val: 0.8952: 100%|██████████| 7/7 [00:00<00:00,  7.08it/s]\n",
      "Train Epoch: [31/20], lr: 0.001000, Loss: 0.0151, Acc_Train: 0.9958: 100%|██████████| 66/66 [00:33<00:00,  1.96it/s]\n",
      "Val Epoch: [31/20], Loss: 0.4499, Acc_Val: 0.8918: 100%|██████████| 7/7 [00:01<00:00,  6.73it/s]\n",
      "Train Epoch: [32/20], lr: 0.001000, Loss: 0.0107, Acc_Train: 0.9971: 100%|██████████| 66/66 [00:33<00:00,  1.96it/s]\n",
      "Val Epoch: [32/20], Loss: 0.4491, Acc_Val: 0.8934: 100%|██████████| 7/7 [00:00<00:00,  7.04it/s]\n",
      "Train Epoch: [33/20], lr: 0.001000, Loss: 0.0072, Acc_Train: 0.9982: 100%|██████████| 66/66 [00:33<00:00,  1.96it/s]\n",
      "Val Epoch: [33/20], Loss: 0.4102, Acc_Val: 0.8998: 100%|██████████| 7/7 [00:01<00:00,  7.00it/s]\n",
      "Train Epoch: [34/20], lr: 0.001000, Loss: 0.0045, Acc_Train: 0.9989: 100%|██████████| 66/66 [00:33<00:00,  1.96it/s]\n",
      "Val Epoch: [34/20], Loss: 0.4071, Acc_Val: 0.9024: 100%|██████████| 7/7 [00:01<00:00,  6.99it/s]\n",
      "Train Epoch: [35/20], lr: 0.001000, Loss: 0.0036, Acc_Train: 0.9994: 100%|██████████| 66/66 [00:33<00:00,  1.96it/s]\n",
      "Val Epoch: [35/20], Loss: 0.4144, Acc_Val: 0.9038: 100%|██████████| 7/7 [00:00<00:00,  7.08it/s]\n",
      "Train Epoch: [36/20], lr: 0.001000, Loss: 0.0010, Acc_Train: 0.9999: 100%|██████████| 66/66 [00:33<00:00,  1.96it/s]\n",
      "Val Epoch: [36/20], Loss: 0.3700, Acc_Val: 0.9110: 100%|██████████| 7/7 [00:01<00:00,  6.73it/s]\n",
      "Train Epoch: [37/20], lr: 0.001000, Loss: 0.0006, Acc_Train: 1.0000: 100%|██████████| 66/66 [00:33<00:00,  1.96it/s]\n",
      "Val Epoch: [37/20], Loss: 0.3646, Acc_Val: 0.9134: 100%|██████████| 7/7 [00:00<00:00,  7.01it/s]\n"
     ]
    },
    {
     "name": "stderr",
     "output_type": "stream",
     "text": [
      "Train Epoch: [38/20], lr: 0.001000, Loss: 0.0008, Acc_Train: 0.9999: 100%|██████████| 66/66 [00:33<00:00,  1.96it/s]\n",
      "Val Epoch: [38/20], Loss: 0.3724, Acc_Val: 0.9094: 100%|██████████| 7/7 [00:01<00:00,  6.94it/s]\n",
      "Train Epoch: [39/20], lr: 0.001000, Loss: 0.0005, Acc_Train: 1.0000: 100%|██████████| 66/66 [00:33<00:00,  1.96it/s]\n",
      "Val Epoch: [39/20], Loss: 0.3665, Acc_Val: 0.9106: 100%|██████████| 7/7 [00:00<00:00,  7.02it/s]\n",
      "Train Epoch: [40/20], lr: 0.001000, Loss: 0.0004, Acc_Train: 1.0000: 100%|██████████| 66/66 [00:33<00:00,  1.96it/s]\n",
      "Val Epoch: [40/20], Loss: 0.3648, Acc_Val: 0.9120: 100%|██████████| 7/7 [00:01<00:00,  6.95it/s]\n",
      "Train Epoch: [41/20], lr: 0.001000, Loss: 0.0010, Acc_Train: 0.9999: 100%|██████████| 66/66 [00:33<00:00,  1.96it/s]\n",
      "Val Epoch: [41/20], Loss: 0.4059, Acc_Val: 0.9088: 100%|██████████| 7/7 [00:01<00:00,  6.97it/s]\n",
      "Train Epoch: [42/20], lr: 0.001000, Loss: 0.0081, Acc_Train: 0.9979: 100%|██████████| 66/66 [00:33<00:00,  1.96it/s]\n",
      "Val Epoch: [42/20], Loss: 0.5301, Acc_Val: 0.8828: 100%|██████████| 7/7 [00:01<00:00,  6.97it/s]\n",
      "Train Epoch: [43/20], lr: 0.001000, Loss: 0.0565, Acc_Train: 0.9821: 100%|██████████| 66/66 [00:33<00:00,  1.96it/s]\n",
      "Val Epoch: [43/20], Loss: 0.4973, Acc_Val: 0.8730: 100%|██████████| 7/7 [00:01<00:00,  6.91it/s]\n",
      "Train Epoch: [44/20], lr: 0.001000, Loss: 0.0353, Acc_Train: 0.9893: 100%|██████████| 66/66 [00:33<00:00,  1.96it/s]\n",
      "Val Epoch: [44/20], Loss: 0.4490, Acc_Val: 0.8834: 100%|██████████| 7/7 [00:00<00:00,  7.01it/s]\n",
      "Train Epoch: [45/20], lr: 0.001000, Loss: 0.0420, Acc_Train: 0.9868: 100%|██████████| 66/66 [00:33<00:00,  1.96it/s]\n",
      "Val Epoch: [45/20], Loss: 0.3931, Acc_Val: 0.8938: 100%|██████████| 7/7 [00:00<00:00,  7.01it/s]\n",
      "Train Epoch: [46/20], lr: 0.001000, Loss: 0.0174, Acc_Train: 0.9952:  65%|██████▌   | 43/66 [00:22<00:12,  1.89it/s]\n"
     ]
    },
    {
     "ename": "KeyboardInterrupt",
     "evalue": "",
     "output_type": "error",
     "traceback": [
      "\u001b[0;31m---------------------------------------------------------------------------\u001b[0m",
      "\u001b[0;31mKeyboardInterrupt\u001b[0m                         Traceback (most recent call last)",
      "\u001b[0;32m<ipython-input-32-29ae12818abe>\u001b[0m in \u001b[0;36m<module>\u001b[0;34m\u001b[0m\n\u001b[1;32m     21\u001b[0m \u001b[0mmodel\u001b[0m\u001b[0;34m.\u001b[0m\u001b[0mswitch\u001b[0m \u001b[0;34m=\u001b[0m \u001b[0;32mTrue\u001b[0m\u001b[0;34m\u001b[0m\u001b[0;34m\u001b[0m\u001b[0m\n\u001b[1;32m     22\u001b[0m \u001b[0;32mfor\u001b[0m \u001b[0mepoch\u001b[0m \u001b[0;32min\u001b[0m \u001b[0mrange\u001b[0m\u001b[0;34m(\u001b[0m\u001b[0;36m50\u001b[0m\u001b[0;34m)\u001b[0m\u001b[0;34m:\u001b[0m\u001b[0;34m\u001b[0m\u001b[0;34m\u001b[0m\u001b[0m\n\u001b[0;32m---> 23\u001b[0;31m     \u001b[0mtrain_loss\u001b[0m\u001b[0;34m,\u001b[0m \u001b[0mtrain_acc\u001b[0m \u001b[0;34m=\u001b[0m \u001b[0mlet\u001b[0m\u001b[0;34m.\u001b[0m\u001b[0mtrain_lr\u001b[0m\u001b[0;34m(\u001b[0m\u001b[0mtrain_loader_nonaug\u001b[0m\u001b[0;34m,\u001b[0m \u001b[0mmodel\u001b[0m\u001b[0;34m,\u001b[0m \u001b[0mcriterion\u001b[0m\u001b[0;34m,\u001b[0m \u001b[0moptimizer\u001b[0m\u001b[0;34m,\u001b[0m \u001b[0mepoch\u001b[0m\u001b[0;34m,\u001b[0m \u001b[0margs\u001b[0m\u001b[0;34m.\u001b[0m\u001b[0mepochs\u001b[0m\u001b[0;34m,\u001b[0m \u001b[0margs\u001b[0m\u001b[0;34m)\u001b[0m\u001b[0;34m\u001b[0m\u001b[0;34m\u001b[0m\u001b[0m\n\u001b[0m\u001b[1;32m     24\u001b[0m     \u001b[0mval_loss\u001b[0m\u001b[0;34m,\u001b[0m \u001b[0mval_acc\u001b[0m \u001b[0;34m=\u001b[0m \u001b[0mlet\u001b[0m\u001b[0;34m.\u001b[0m\u001b[0mtest_lr\u001b[0m\u001b[0;34m(\u001b[0m\u001b[0mval_loader\u001b[0m\u001b[0;34m,\u001b[0m \u001b[0mmodel\u001b[0m\u001b[0;34m,\u001b[0m \u001b[0mcriterion\u001b[0m\u001b[0;34m,\u001b[0m \u001b[0mepoch\u001b[0m\u001b[0;34m,\u001b[0m \u001b[0margs\u001b[0m\u001b[0;34m.\u001b[0m\u001b[0mepochs\u001b[0m\u001b[0;34m,\u001b[0m \u001b[0margs\u001b[0m\u001b[0;34m)\u001b[0m\u001b[0;34m\u001b[0m\u001b[0;34m\u001b[0m\u001b[0m\n\u001b[1;32m     25\u001b[0m     \u001b[0mtrain_losses\u001b[0m\u001b[0;34m.\u001b[0m\u001b[0mappend\u001b[0m\u001b[0;34m(\u001b[0m\u001b[0mtrain_loss\u001b[0m\u001b[0;34m)\u001b[0m\u001b[0;34m\u001b[0m\u001b[0;34m\u001b[0m\u001b[0m\n",
      "\u001b[0;32m~/selfsupervised/modules/evaluation/lin_eval_testmoduls.py\u001b[0m in \u001b[0;36mtrain_lr\u001b[0;34m(loader, model, criterion, optimizer, epoch, maxepochs, args)\u001b[0m\n\u001b[1;32m    126\u001b[0m         \u001b[0moptimizer\u001b[0m\u001b[0;34m.\u001b[0m\u001b[0mstep\u001b[0m\u001b[0;34m(\u001b[0m\u001b[0;34m)\u001b[0m\u001b[0;34m\u001b[0m\u001b[0;34m\u001b[0m\u001b[0m\n\u001b[1;32m    127\u001b[0m \u001b[0;34m\u001b[0m\u001b[0m\n\u001b[0;32m--> 128\u001b[0;31m         \u001b[0mepoch_loss\u001b[0m\u001b[0;34m.\u001b[0m\u001b[0mappend\u001b[0m\u001b[0;34m(\u001b[0m\u001b[0mloss\u001b[0m\u001b[0;34m.\u001b[0m\u001b[0mitem\u001b[0m\u001b[0;34m(\u001b[0m\u001b[0;34m)\u001b[0m\u001b[0;34m)\u001b[0m\u001b[0;34m\u001b[0m\u001b[0;34m\u001b[0m\u001b[0m\n\u001b[0m\u001b[1;32m    129\u001b[0m \u001b[0;34m\u001b[0m\u001b[0m\n\u001b[1;32m    130\u001b[0m         train_bar.set_description('Train Epoch: [{}/{}], lr: {:.6f}, Loss: {:.4f}, Acc_Train: {:.4f}'.format(epoch, maxepochs, optimizer.param_groups[0]['lr'], \n",
      "\u001b[0;31mKeyboardInterrupt\u001b[0m: "
     ]
    },
    {
     "name": "stderr",
     "output_type": "stream",
     "text": [
      "Traceback (most recent call last):\n",
      "Traceback (most recent call last):\n",
      "  File \"/home/dustin/.conda/envs/usl/lib/python3.8/multiprocessing/queues.py\", line 245, in _feed\n",
      "    send_bytes(obj)\n",
      "  File \"/home/dustin/.conda/envs/usl/lib/python3.8/multiprocessing/connection.py\", line 200, in send_bytes\n",
      "    self._send_bytes(m[offset:offset + size])\n",
      "  File \"/home/dustin/.conda/envs/usl/lib/python3.8/multiprocessing/connection.py\", line 411, in _send_bytes\n",
      "    self._send(header + buf)\n",
      "  File \"/home/dustin/.conda/envs/usl/lib/python3.8/multiprocessing/connection.py\", line 368, in _send\n",
      "    n = write(self._handle, buf)\n",
      "BrokenPipeError: [Errno 32] Broken pipe\n",
      "  File \"/home/dustin/.conda/envs/usl/lib/python3.8/multiprocessing/queues.py\", line 245, in _feed\n",
      "    send_bytes(obj)\n",
      "  File \"/home/dustin/.conda/envs/usl/lib/python3.8/multiprocessing/connection.py\", line 200, in send_bytes\n",
      "    self._send_bytes(m[offset:offset + size])\n",
      "  File \"/home/dustin/.conda/envs/usl/lib/python3.8/multiprocessing/connection.py\", line 411, in _send_bytes\n",
      "    self._send(header + buf)\n",
      "  File \"/home/dustin/.conda/envs/usl/lib/python3.8/multiprocessing/connection.py\", line 368, in _send\n",
      "    n = write(self._handle, buf)\n",
      "BrokenPipeError: [Errno 32] Broken pipe\n"
     ]
    }
   ],
   "source": [
    "# Start training\n",
    "train_losses =[]\n",
    "val_losses = []\n",
    "train_accs = []\n",
    "val_accs = []\n",
    "\n",
    "\"\"\"\n",
    "for epoch in range(epoch_start, args.epochs + 1):\n",
    "    train_loss, neg_sim, pos_sim, lr = smtr.train(model, train_loader, optimizer, epoch, args)\n",
    "    if (epoch % 1) == 0:\n",
    "        model.module.switch = True\n",
    "        for _ in range(1):\n",
    "            train_loss, train_acc = let.train_lr(train_loader_nonaug, model, criterion, optimizer, epoch, args.epochs, args)\n",
    "            val_loss, val_acc = let.test_lr(val_loader, model, criterion, epoch, args.epochs, args)\n",
    "            train_losses.append(train_loss)\n",
    "            train_accs.append(train_acc)\n",
    "            val_losses.append(val_loss)\n",
    "            val_accs.append(val_acc)\n",
    "        model.module.switch = False\n",
    "\"\"\"       \n",
    "model.switch = True\n",
    "for epoch in range(50):\n",
    "    train_loss, train_acc = let.train_lr(train_loader_nonaug, model, criterion, optimizer, epoch, args.epochs, args)\n",
    "    val_loss, val_acc = let.test_lr(val_loader, model, criterion, epoch, args.epochs, args)\n",
    "    train_losses.append(train_loss)\n",
    "    train_accs.append(train_acc)\n",
    "    val_losses.append(val_loss)\n",
    "    val_accs.append(val_acc)"
   ]
  },
  {
   "cell_type": "code",
   "execution_count": 33,
   "metadata": {},
   "outputs": [
    {
     "data": {
      "image/png": "[encoded data removed]",
      "text/plain": [
       "<Figure size 432x288 with 1 Axes>"
      ]
     },
     "metadata": {},
     "output_type": "display_data"
    },
    {
     "name": "stdout",
     "output_type": "stream",
     "text": [
      "Best Loss-Value for Validation: 0.3156998668398176 at Epoch 8\n"
     ]
    },
    {
     "data": {
      "image/png": "[encoded data removed]",
      "text/plain": [
       "<Figure size 432x288 with 1 Axes>"
      ]
     },
     "metadata": {},
     "output_type": "display_data"
    },
    {
     "name": "stdout",
     "output_type": "stream",
     "text": [
      "Best Accuracy for Validation: 0.915 at Epoch 23\n"
     ]
    }
   ],
   "source": [
    "min_value = min(val_losses)\n",
    "min_index = val_losses.index(min_value)+1\n",
    "\n",
    "plot(\"Loss vs Epoch\", \"Loss\", train_losses, val_losses, yscale='linear', save_path=None, \n",
    "         extra_pt=(min_index, min_value), extra_pt_label=\"Best Model\")\n",
    "print(f\"Best Loss-Value for Validation: {min_value} at Epoch {min_index}\")\n",
    "\n",
    "max_value = max(val_accs)\n",
    "max_index = val_accs.index(max_value)+1\n",
    "plot(\"Acc vs Epoch\", \"Accuracy\", train_accs, val_accs, yscale='linear', save_path=None, \n",
    "         extra_pt=(max_index, max_value), extra_pt_label=\"Best Model\")\n",
    "print(f\"Best Accuracy for Validation: {max_value} at Epoch {max_index}\")"
   ]
  },
  {
   "cell_type": "code",
   "execution_count": 34,
   "metadata": {},
   "outputs": [],
   "source": [
    "args.labels = \"10%\""
   ]
  },
  {
   "cell_type": "code",
   "execution_count": 35,
   "metadata": {},
   "outputs": [
    {
     "name": "stdout",
     "output_type": "stream",
     "text": [
      "Files already downloaded and verified\n",
      "Files already downloaded and verified\n"
     ]
    }
   ],
   "source": [
    "# Set Reporting up\n",
    "#writer_train, writer_val, mkdirpath = report.setReportingUp_trainingSimclr(args)\n",
    "# Get Data\n",
    "train_loader, train_loader_nonaug, val_loader = get.data_trainingSimclr(args)\n",
    "# Get encoder\n",
    "encoder = get.encoder(args)\n",
    "args.featureDim, args.numberClasses, epoch_start = encoder.fc.in_features, get.numberClasses(args), 1\n",
    "# Choose Model\n",
    "model = sm.modelSIMCLR(encoder, args.featureDim, lf.contrastive_loss_cosine_extra, dim=args.dim, T=args.t)\n",
    "# Get Optimizer\n",
    "optimizer = get.optimizer_training(model, args)\n",
    "# Check Reload\n",
    "checkpoint = torch.load(\"saved_models/selfsupervised/cifar10/100ep_256AVG/checkpoint_100.tar\", map_location=args.device.type)\n",
    "model = model.cuda()\n",
    "model.load_state_dict(checkpoint['model_state_dict'])\n",
    "optimizer.load_state_dict(checkpoint['optimizer_state_dict'])\n",
    "epoch_start = checkpoint['epoch']+1\n",
    "    \n",
    "criterion = nn.CrossEntropyLoss()"
   ]
  },
  {
   "cell_type": "code",
   "execution_count": 36,
   "metadata": {},
   "outputs": [],
   "source": [
    "trainedEncoder = model.encoder_f\n",
    "trainedEncoder.fc = torch.nn.Linear(512,10)\n",
    "model = trainedEncoder.cuda()"
   ]
  },
  {
   "cell_type": "code",
   "execution_count": 37,
   "metadata": {},
   "outputs": [
    {
     "name": "stderr",
     "output_type": "stream",
     "text": [
      "Train Epoch: [0/20], lr: 0.001000, Loss: 2.2257, Acc_Train: 0.1794: 100%|██████████| 7/7 [00:03<00:00,  1.99it/s]\n",
      "Val Epoch: [0/20], Loss: 1.9469, Acc_Val: 0.4168: 100%|██████████| 7/7 [00:00<00:00,  7.10it/s]\n",
      "Train Epoch: [1/20], lr: 0.001000, Loss: 1.6966, Acc_Train: 0.5638: 100%|██████████| 7/7 [00:03<00:00,  2.01it/s]\n",
      "Val Epoch: [1/20], Loss: 1.2802, Acc_Val: 0.6168: 100%|██████████| 7/7 [00:00<00:00,  7.01it/s]\n",
      "Train Epoch: [2/20], lr: 0.001000, Loss: 1.1911, Acc_Train: 0.7144: 100%|██████████| 7/7 [00:03<00:00,  2.01it/s]\n",
      "Val Epoch: [2/20], Loss: 0.9782, Acc_Val: 0.6696: 100%|██████████| 7/7 [00:00<00:00,  7.06it/s]\n",
      "Train Epoch: [3/20], lr: 0.001000, Loss: 0.8826, Acc_Train: 0.7748: 100%|██████████| 7/7 [00:03<00:00,  2.00it/s]\n",
      "Val Epoch: [3/20], Loss: 0.7686, Acc_Val: 0.7460: 100%|██████████| 7/7 [00:00<00:00,  7.13it/s]\n",
      "Train Epoch: [4/20], lr: 0.001000, Loss: 0.6846, Acc_Train: 0.8216: 100%|██████████| 7/7 [00:03<00:00,  2.00it/s]\n",
      "Val Epoch: [4/20], Loss: 0.6741, Acc_Val: 0.7896: 100%|██████████| 7/7 [00:01<00:00,  6.94it/s]\n",
      "Train Epoch: [5/20], lr: 0.001000, Loss: 0.5319, Acc_Train: 0.8560: 100%|██████████| 7/7 [00:03<00:00,  2.00it/s]\n",
      "Val Epoch: [5/20], Loss: 0.6645, Acc_Val: 0.8048: 100%|██████████| 7/7 [00:00<00:00,  7.03it/s]\n",
      "Train Epoch: [6/20], lr: 0.001000, Loss: 0.4120, Acc_Train: 0.8952: 100%|██████████| 7/7 [00:03<00:00,  1.99it/s]\n",
      "Val Epoch: [6/20], Loss: 0.6377, Acc_Val: 0.8172: 100%|██████████| 7/7 [00:01<00:00,  6.96it/s]\n",
      "Train Epoch: [7/20], lr: 0.001000, Loss: 0.3157, Acc_Train: 0.9300: 100%|██████████| 7/7 [00:03<00:00,  1.99it/s]\n",
      "Val Epoch: [7/20], Loss: 0.5968, Acc_Val: 0.8326: 100%|██████████| 7/7 [00:01<00:00,  6.97it/s]\n",
      "Train Epoch: [8/20], lr: 0.001000, Loss: 0.2309, Acc_Train: 0.9560: 100%|██████████| 7/7 [00:03<00:00,  2.00it/s]\n",
      "Val Epoch: [8/20], Loss: 0.5586, Acc_Val: 0.8374: 100%|██████████| 7/7 [00:01<00:00,  6.96it/s]\n",
      "Train Epoch: [9/20], lr: 0.001000, Loss: 0.1662, Acc_Train: 0.9768: 100%|██████████| 7/7 [00:03<00:00,  1.99it/s]\n",
      "Val Epoch: [9/20], Loss: 0.5345, Acc_Val: 0.8400: 100%|██████████| 7/7 [00:00<00:00,  7.01it/s]\n",
      "Train Epoch: [10/20], lr: 0.001000, Loss: 0.1135, Acc_Train: 0.9886: 100%|██████████| 7/7 [00:03<00:00,  1.98it/s]\n",
      "Val Epoch: [10/20], Loss: 0.5231, Acc_Val: 0.8414: 100%|██████████| 7/7 [00:01<00:00,  6.94it/s]\n",
      "Train Epoch: [11/20], lr: 0.001000, Loss: 0.0785, Acc_Train: 0.9950: 100%|██████████| 7/7 [00:03<00:00,  1.96it/s]\n",
      "Val Epoch: [11/20], Loss: 0.5102, Acc_Val: 0.8408: 100%|██████████| 7/7 [00:01<00:00,  6.93it/s]\n",
      "Train Epoch: [12/20], lr: 0.001000, Loss: 0.0552, Acc_Train: 0.9974: 100%|██████████| 7/7 [00:03<00:00,  1.98it/s]\n",
      "Val Epoch: [12/20], Loss: 0.5135, Acc_Val: 0.8384: 100%|██████████| 7/7 [00:00<00:00,  7.00it/s]\n",
      "Train Epoch: [13/20], lr: 0.001000, Loss: 0.0421, Acc_Train: 0.9982: 100%|██████████| 7/7 [00:03<00:00,  1.95it/s]\n",
      "Val Epoch: [13/20], Loss: 0.5003, Acc_Val: 0.8410: 100%|██████████| 7/7 [00:01<00:00,  6.96it/s]\n",
      "Train Epoch: [14/20], lr: 0.001000, Loss: 0.0332, Acc_Train: 0.9990: 100%|██████████| 7/7 [00:03<00:00,  1.98it/s]\n",
      "Val Epoch: [14/20], Loss: 0.5036, Acc_Val: 0.8416: 100%|██████████| 7/7 [00:01<00:00,  6.94it/s]\n",
      "Train Epoch: [15/20], lr: 0.001000, Loss: 0.0271, Acc_Train: 0.9990: 100%|██████████| 7/7 [00:03<00:00,  1.98it/s]\n",
      "Val Epoch: [15/20], Loss: 0.4992, Acc_Val: 0.8426: 100%|██████████| 7/7 [00:01<00:00,  6.79it/s]\n",
      "Train Epoch: [16/20], lr: 0.001000, Loss: 0.0225, Acc_Train: 0.9992: 100%|██████████| 7/7 [00:03<00:00,  1.98it/s]\n",
      "Val Epoch: [16/20], Loss: 0.5018, Acc_Val: 0.8382: 100%|██████████| 7/7 [00:00<00:00,  7.02it/s]\n",
      "Train Epoch: [17/20], lr: 0.001000, Loss: 0.0198, Acc_Train: 0.9996: 100%|██████████| 7/7 [00:03<00:00,  1.98it/s]\n",
      "Val Epoch: [17/20], Loss: 0.5042, Acc_Val: 0.8414: 100%|██████████| 7/7 [00:01<00:00,  6.95it/s]\n",
      "Train Epoch: [18/20], lr: 0.001000, Loss: 0.0175, Acc_Train: 0.9998: 100%|██████████| 7/7 [00:03<00:00,  1.98it/s]\n",
      "Val Epoch: [18/20], Loss: 0.5049, Acc_Val: 0.8416: 100%|██████████| 7/7 [00:01<00:00,  6.94it/s]\n",
      "Train Epoch: [19/20], lr: 0.001000, Loss: 0.0153, Acc_Train: 0.9998: 100%|██████████| 7/7 [00:03<00:00,  1.97it/s]\n",
      "Val Epoch: [19/20], Loss: 0.5098, Acc_Val: 0.8402: 100%|██████████| 7/7 [00:01<00:00,  6.97it/s]\n",
      "Train Epoch: [20/20], lr: 0.001000, Loss: 0.0139, Acc_Train: 0.9998: 100%|██████████| 7/7 [00:03<00:00,  1.99it/s]\n",
      "Val Epoch: [20/20], Loss: 0.5067, Acc_Val: 0.8398: 100%|██████████| 7/7 [00:01<00:00,  6.98it/s]\n",
      "Train Epoch: [21/20], lr: 0.001000, Loss: 0.0132, Acc_Train: 0.9998: 100%|██████████| 7/7 [00:03<00:00,  1.99it/s]\n",
      "Val Epoch: [21/20], Loss: 0.5130, Acc_Val: 0.8380: 100%|██████████| 7/7 [00:00<00:00,  7.02it/s]\n",
      "Train Epoch: [22/20], lr: 0.001000, Loss: 0.0126, Acc_Train: 0.9998: 100%|██████████| 7/7 [00:03<00:00,  1.99it/s]\n",
      "Val Epoch: [22/20], Loss: 0.5179, Acc_Val: 0.8382: 100%|██████████| 7/7 [00:00<00:00,  7.01it/s]\n",
      "Train Epoch: [23/20], lr: 0.001000, Loss: 0.0112, Acc_Train: 1.0000: 100%|██████████| 7/7 [00:03<00:00,  1.98it/s]\n",
      "Val Epoch: [23/20], Loss: 0.5128, Acc_Val: 0.8396: 100%|██████████| 7/7 [00:00<00:00,  7.03it/s]\n",
      "Train Epoch: [24/20], lr: 0.001000, Loss: 0.0102, Acc_Train: 1.0000: 100%|██████████| 7/7 [00:03<00:00,  1.98it/s]\n",
      "Val Epoch: [24/20], Loss: 0.5131, Acc_Val: 0.8396: 100%|██████████| 7/7 [00:00<00:00,  7.06it/s]\n",
      "Train Epoch: [25/20], lr: 0.001000, Loss: 0.0095, Acc_Train: 1.0000: 100%|██████████| 7/7 [00:03<00:00,  1.99it/s]\n",
      "Val Epoch: [25/20], Loss: 0.5108, Acc_Val: 0.8372: 100%|██████████| 7/7 [00:00<00:00,  7.04it/s]\n",
      "Train Epoch: [26/20], lr: 0.001000, Loss: 0.0089, Acc_Train: 1.0000: 100%|██████████| 7/7 [00:03<00:00,  1.99it/s]\n",
      "Val Epoch: [26/20], Loss: 0.5168, Acc_Val: 0.8420: 100%|██████████| 7/7 [00:00<00:00,  7.00it/s]\n",
      "Train Epoch: [27/20], lr: 0.001000, Loss: 0.0085, Acc_Train: 1.0000: 100%|██████████| 7/7 [00:03<00:00,  1.99it/s]\n",
      "Val Epoch: [27/20], Loss: 0.5178, Acc_Val: 0.8402: 100%|██████████| 7/7 [00:01<00:00,  6.92it/s]\n",
      "Train Epoch: [28/20], lr: 0.001000, Loss: 0.0082, Acc_Train: 1.0000: 100%|██████████| 7/7 [00:03<00:00,  1.99it/s]\n",
      "Val Epoch: [28/20], Loss: 0.5190, Acc_Val: 0.8412: 100%|██████████| 7/7 [00:01<00:00,  6.96it/s]\n",
      "Train Epoch: [29/20], lr: 0.001000, Loss: 0.0078, Acc_Train: 1.0000: 100%|██████████| 7/7 [00:03<00:00,  2.00it/s]\n",
      "Val Epoch: [29/20], Loss: 0.5146, Acc_Val: 0.8392: 100%|██████████| 7/7 [00:00<00:00,  7.00it/s]\n",
      "Train Epoch: [30/20], lr: 0.001000, Loss: 0.0076, Acc_Train: 1.0000: 100%|██████████| 7/7 [00:03<00:00,  1.99it/s]\n",
      "Val Epoch: [30/20], Loss: 0.5238, Acc_Val: 0.8400: 100%|██████████| 7/7 [00:01<00:00,  6.80it/s]\n",
      "Train Epoch: [31/20], lr: 0.001000, Loss: 0.0074, Acc_Train: 1.0000: 100%|██████████| 7/7 [00:03<00:00,  1.97it/s]\n",
      "Val Epoch: [31/20], Loss: 0.5238, Acc_Val: 0.8410: 100%|██████████| 7/7 [00:01<00:00,  6.98it/s]\n",
      "Train Epoch: [32/20], lr: 0.001000, Loss: 0.0069, Acc_Train: 1.0000: 100%|██████████| 7/7 [00:03<00:00,  1.98it/s]\n",
      "Val Epoch: [32/20], Loss: 0.5186, Acc_Val: 0.8396: 100%|██████████| 7/7 [00:01<00:00,  7.00it/s]\n",
      "Train Epoch: [33/20], lr: 0.001000, Loss: 0.0067, Acc_Train: 1.0000: 100%|██████████| 7/7 [00:03<00:00,  1.99it/s]\n",
      "Val Epoch: [33/20], Loss: 0.5268, Acc_Val: 0.8406: 100%|██████████| 7/7 [00:01<00:00,  7.00it/s]\n",
      "Train Epoch: [34/20], lr: 0.001000, Loss: 0.0063, Acc_Train: 1.0000: 100%|██████████| 7/7 [00:03<00:00,  1.99it/s]\n",
      "Val Epoch: [34/20], Loss: 0.5223, Acc_Val: 0.8394: 100%|██████████| 7/7 [00:01<00:00,  6.97it/s]\n",
      "Train Epoch: [35/20], lr: 0.001000, Loss: 0.0060, Acc_Train: 1.0000: 100%|██████████| 7/7 [00:03<00:00,  1.99it/s]\n",
      "Val Epoch: [35/20], Loss: 0.5230, Acc_Val: 0.8386: 100%|██████████| 7/7 [00:01<00:00,  6.61it/s]\n",
      "Train Epoch: [36/20], lr: 0.001000, Loss: 0.0058, Acc_Train: 1.0000: 100%|██████████| 7/7 [00:03<00:00,  1.88it/s]\n",
      "Val Epoch: [36/20], Loss: 0.5333, Acc_Val: 0.8384: 100%|██████████| 7/7 [00:01<00:00,  7.00it/s]\n",
      "Train Epoch: [37/20], lr: 0.001000, Loss: 0.0058, Acc_Train: 1.0000: 100%|██████████| 7/7 [00:03<00:00,  1.99it/s]\n",
      "Val Epoch: [37/20], Loss: 0.5300, Acc_Val: 0.8382: 100%|██████████| 7/7 [00:01<00:00,  6.94it/s]\n",
      "Train Epoch: [38/20], lr: 0.001000, Loss: 0.0055, Acc_Train: 1.0000: 100%|██████████| 7/7 [00:03<00:00,  2.00it/s]\n"
     ]
    },
    {
     "name": "stderr",
     "output_type": "stream",
     "text": [
      "Val Epoch: [38/20], Loss: 0.5270, Acc_Val: 0.8378: 100%|██████████| 7/7 [00:00<00:00,  7.00it/s]\n",
      "Train Epoch: [39/20], lr: 0.001000, Loss: 0.0053, Acc_Train: 1.0000: 100%|██████████| 7/7 [00:03<00:00,  1.99it/s]\n",
      "Val Epoch: [39/20], Loss: 0.5306, Acc_Val: 0.8386: 100%|██████████| 7/7 [00:01<00:00,  6.99it/s]\n",
      "Train Epoch: [40/20], lr: 0.001000, Loss: 0.0050, Acc_Train: 1.0000: 100%|██████████| 7/7 [00:03<00:00,  1.99it/s]\n",
      "Val Epoch: [40/20], Loss: 0.5298, Acc_Val: 0.8386: 100%|██████████| 7/7 [00:01<00:00,  6.99it/s]\n",
      "Train Epoch: [41/20], lr: 0.001000, Loss: 0.0051, Acc_Train: 1.0000: 100%|██████████| 7/7 [00:03<00:00,  1.99it/s]\n",
      "Val Epoch: [41/20], Loss: 0.5316, Acc_Val: 0.8386: 100%|██████████| 7/7 [00:01<00:00,  6.99it/s]\n",
      "Train Epoch: [42/20], lr: 0.001000, Loss: 0.0049, Acc_Train: 1.0000: 100%|██████████| 7/7 [00:03<00:00,  2.00it/s]\n",
      "Val Epoch: [42/20], Loss: 0.5331, Acc_Val: 0.8384: 100%|██████████| 7/7 [00:01<00:00,  6.70it/s]\n",
      "Train Epoch: [43/20], lr: 0.001000, Loss: 0.0047, Acc_Train: 1.0000: 100%|██████████| 7/7 [00:03<00:00,  1.99it/s]\n",
      "Val Epoch: [43/20], Loss: 0.5385, Acc_Val: 0.8370: 100%|██████████| 7/7 [00:00<00:00,  7.05it/s]\n",
      "Train Epoch: [44/20], lr: 0.001000, Loss: 0.0045, Acc_Train: 1.0000: 100%|██████████| 7/7 [00:03<00:00,  1.94it/s]\n",
      "Val Epoch: [44/20], Loss: 0.5310, Acc_Val: 0.8374: 100%|██████████| 7/7 [00:01<00:00,  6.97it/s]\n",
      "Train Epoch: [45/20], lr: 0.001000, Loss: 0.0046, Acc_Train: 1.0000: 100%|██████████| 7/7 [00:03<00:00,  1.99it/s]\n",
      "Val Epoch: [45/20], Loss: 0.5271, Acc_Val: 0.8392: 100%|██████████| 7/7 [00:01<00:00,  6.89it/s]\n",
      "Train Epoch: [46/20], lr: 0.001000, Loss: 0.0044, Acc_Train: 1.0000: 100%|██████████| 7/7 [00:03<00:00,  1.99it/s]\n",
      "Val Epoch: [46/20], Loss: 0.5335, Acc_Val: 0.8396: 100%|██████████| 7/7 [00:01<00:00,  6.77it/s]\n",
      "Train Epoch: [47/20], lr: 0.001000, Loss: 0.0042, Acc_Train: 1.0000: 100%|██████████| 7/7 [00:03<00:00,  1.83it/s]\n",
      "Val Epoch: [47/20], Loss: 0.5400, Acc_Val: 0.8388: 100%|██████████| 7/7 [00:01<00:00,  6.96it/s]\n",
      "Train Epoch: [48/20], lr: 0.001000, Loss: 0.0041, Acc_Train: 1.0000: 100%|██████████| 7/7 [00:03<00:00,  1.99it/s]\n",
      "Val Epoch: [48/20], Loss: 0.5286, Acc_Val: 0.8380: 100%|██████████| 7/7 [00:01<00:00,  6.94it/s]\n",
      "Train Epoch: [49/20], lr: 0.001000, Loss: 0.0040, Acc_Train: 1.0000: 100%|██████████| 7/7 [00:03<00:00,  1.99it/s]\n",
      "Val Epoch: [49/20], Loss: 0.5360, Acc_Val: 0.8388: 100%|██████████| 7/7 [00:00<00:00,  7.02it/s]\n"
     ]
    }
   ],
   "source": [
    "# Start training\n",
    "train_losses =[]\n",
    "val_losses = []\n",
    "train_accs = []\n",
    "val_accs = []\n",
    "\n",
    "\"\"\"\n",
    "for epoch in range(epoch_start, args.epochs + 1):\n",
    "    train_loss, neg_sim, pos_sim, lr = smtr.train(model, train_loader, optimizer, epoch, args)\n",
    "    if (epoch % 1) == 0:\n",
    "        model.module.switch = True\n",
    "        for _ in range(1):\n",
    "            train_loss, train_acc = let.train_lr(train_loader_nonaug, model, criterion, optimizer, epoch, args.epochs, args)\n",
    "            val_loss, val_acc = let.test_lr(val_loader, model, criterion, epoch, args.epochs, args)\n",
    "            train_losses.append(train_loss)\n",
    "            train_accs.append(train_acc)\n",
    "            val_losses.append(val_loss)\n",
    "            val_accs.append(val_acc)\n",
    "        model.module.switch = False\n",
    "\"\"\"       \n",
    "model.switch = True\n",
    "for epoch in range(50):\n",
    "    train_loss, train_acc = let.train_lr(train_loader_nonaug, model, criterion, optimizer, epoch, args.epochs, args)\n",
    "    val_loss, val_acc = let.test_lr(val_loader, model, criterion, epoch, args.epochs, args)\n",
    "    train_losses.append(train_loss)\n",
    "    train_accs.append(train_acc)\n",
    "    val_losses.append(val_loss)\n",
    "    val_accs.append(val_acc)"
   ]
  },
  {
   "cell_type": "code",
   "execution_count": 38,
   "metadata": {},
   "outputs": [
    {
     "data": {
      "image/png": "[encoded data removed]",
      "text/plain": [
       "<Figure size 432x288 with 1 Axes>"
      ]
     },
     "metadata": {},
     "output_type": "display_data"
    },
    {
     "name": "stdout",
     "output_type": "stream",
     "text": [
      "Best Loss-Value for Validation: 0.49922804747309 at Epoch 16\n"
     ]
    },
    {
     "data": {
      "image/png": "[encoded data removed]",
      "text/plain": [
       "<Figure size 432x288 with 1 Axes>"
      ]
     },
     "metadata": {},
     "output_type": "display_data"
    },
    {
     "name": "stdout",
     "output_type": "stream",
     "text": [
      "Best Accuracy for Validation: 0.8426 at Epoch 16\n"
     ]
    }
   ],
   "source": [
    "min_value = min(val_losses)\n",
    "min_index = val_losses.index(min_value)+1\n",
    "\n",
    "plot(\"Loss vs Epoch\", \"Loss\", train_losses, val_losses, yscale='linear', save_path=None, \n",
    "         extra_pt=(min_index, min_value), extra_pt_label=\"Best Model\")\n",
    "print(f\"Best Loss-Value for Validation: {min_value} at Epoch {min_index}\")\n",
    "\n",
    "max_value = max(val_accs)\n",
    "max_index = val_accs.index(max_value)+1\n",
    "plot(\"Acc vs Epoch\", \"Accuracy\", train_accs, val_accs, yscale='linear', save_path=None, \n",
    "         extra_pt=(max_index, max_value), extra_pt_label=\"Best Model\")\n",
    "print(f\"Best Accuracy for Validation: {max_value} at Epoch {max_index}\")"
   ]
  },
  {
   "cell_type": "code",
   "execution_count": 39,
   "metadata": {},
   "outputs": [],
   "source": [
    "args.labels = \"1%\""
   ]
  },
  {
   "cell_type": "code",
   "execution_count": 40,
   "metadata": {},
   "outputs": [
    {
     "name": "stdout",
     "output_type": "stream",
     "text": [
      "Files already downloaded and verified\n",
      "Files already downloaded and verified\n"
     ]
    }
   ],
   "source": [
    "# Set Reporting up\n",
    "#writer_train, writer_val, mkdirpath = report.setReportingUp_trainingSimclr(args)\n",
    "# Get Data\n",
    "train_loader, train_loader_nonaug, val_loader = get.data_trainingSimclr(args)\n",
    "# Get encoder\n",
    "encoder = get.encoder(args)\n",
    "args.featureDim, args.numberClasses, epoch_start = encoder.fc.in_features, get.numberClasses(args), 1\n",
    "# Choose Model\n",
    "model = sm.modelSIMCLR(encoder, args.featureDim, lf.contrastive_loss_cosine_extra, dim=args.dim, T=args.t)\n",
    "# Get Optimizer\n",
    "optimizer = get.optimizer_training(model, args)\n",
    "# Check Reload\n",
    "checkpoint = torch.load(\"saved_models/selfsupervised/cifar10/100ep_256AVG/checkpoint_100.tar\", map_location=args.device.type)\n",
    "model = model.cuda()\n",
    "model.load_state_dict(checkpoint['model_state_dict'])\n",
    "optimizer.load_state_dict(checkpoint['optimizer_state_dict'])\n",
    "epoch_start = checkpoint['epoch']+1\n",
    "    \n",
    "criterion = nn.CrossEntropyLoss()"
   ]
  },
  {
   "cell_type": "code",
   "execution_count": 41,
   "metadata": {},
   "outputs": [],
   "source": [
    "trainedEncoder = model.encoder_f\n",
    "trainedEncoder.fc = torch.nn.Linear(512,10)\n",
    "model = trainedEncoder.cuda()"
   ]
  },
  {
   "cell_type": "code",
   "execution_count": 42,
   "metadata": {},
   "outputs": [
    {
     "name": "stderr",
     "output_type": "stream",
     "text": [
      "Train Epoch: [0/20], lr: 0.001000, Loss: 2.4124, Acc_Train: 0.0940: 100%|██████████| 1/1 [00:00<00:00,  1.86it/s]\n",
      "Val Epoch: [0/20], Loss: 2.3787, Acc_Val: 0.1124: 100%|██████████| 7/7 [00:00<00:00,  7.03it/s]\n",
      "Train Epoch: [1/20], lr: 0.001000, Loss: 2.3891, Acc_Train: 0.1060: 100%|██████████| 1/1 [00:00<00:00,  2.01it/s]\n",
      "Val Epoch: [1/20], Loss: 2.3442, Acc_Val: 0.1240: 100%|██████████| 7/7 [00:01<00:00,  6.85it/s]\n",
      "Train Epoch: [2/20], lr: 0.001000, Loss: 2.3459, Acc_Train: 0.1400: 100%|██████████| 1/1 [00:00<00:00,  2.04it/s]\n",
      "Val Epoch: [2/20], Loss: 2.2979, Acc_Val: 0.1520: 100%|██████████| 7/7 [00:00<00:00,  7.10it/s]\n",
      "Train Epoch: [3/20], lr: 0.001000, Loss: 2.2865, Acc_Train: 0.1760: 100%|██████████| 1/1 [00:00<00:00,  2.01it/s]\n",
      "Val Epoch: [3/20], Loss: 2.2434, Acc_Val: 0.2054: 100%|██████████| 7/7 [00:00<00:00,  7.06it/s]\n",
      "Train Epoch: [4/20], lr: 0.001000, Loss: 2.2143, Acc_Train: 0.2500: 100%|██████████| 1/1 [00:00<00:00,  1.99it/s]\n",
      "Val Epoch: [4/20], Loss: 2.1809, Acc_Val: 0.2806: 100%|██████████| 7/7 [00:00<00:00,  7.13it/s]\n",
      "Train Epoch: [5/20], lr: 0.001000, Loss: 2.1324, Acc_Train: 0.3420: 100%|██████████| 1/1 [00:00<00:00,  2.01it/s]\n",
      "Val Epoch: [5/20], Loss: 2.1175, Acc_Val: 0.3728: 100%|██████████| 7/7 [00:00<00:00,  7.02it/s]\n",
      "Train Epoch: [6/20], lr: 0.001000, Loss: 2.0432, Acc_Train: 0.4680: 100%|██████████| 1/1 [00:00<00:00,  2.04it/s]\n",
      "Val Epoch: [6/20], Loss: 2.0448, Acc_Val: 0.4462: 100%|██████████| 7/7 [00:00<00:00,  7.08it/s]\n",
      "Train Epoch: [7/20], lr: 0.001000, Loss: 1.9483, Acc_Train: 0.5820: 100%|██████████| 1/1 [00:00<00:00,  2.01it/s]\n",
      "Val Epoch: [7/20], Loss: 1.9697, Acc_Val: 0.5062: 100%|██████████| 7/7 [00:00<00:00,  7.09it/s]\n",
      "Train Epoch: [8/20], lr: 0.001000, Loss: 1.8486, Acc_Train: 0.6580: 100%|██████████| 1/1 [00:00<00:00,  2.05it/s]\n",
      "Val Epoch: [8/20], Loss: 1.8828, Acc_Val: 0.5516: 100%|██████████| 7/7 [00:00<00:00,  7.09it/s]\n",
      "Train Epoch: [9/20], lr: 0.001000, Loss: 1.7449, Acc_Train: 0.7200: 100%|██████████| 1/1 [00:00<00:00,  2.03it/s]\n",
      "Val Epoch: [9/20], Loss: 1.7937, Acc_Val: 0.5822: 100%|██████████| 7/7 [00:01<00:00,  6.96it/s]\n",
      "Train Epoch: [10/20], lr: 0.001000, Loss: 1.6377, Acc_Train: 0.7500: 100%|██████████| 1/1 [00:00<00:00,  2.02it/s]\n",
      "Val Epoch: [10/20], Loss: 1.6914, Acc_Val: 0.6094: 100%|██████████| 7/7 [00:01<00:00,  6.96it/s]\n",
      "Train Epoch: [11/20], lr: 0.001000, Loss: 1.5282, Acc_Train: 0.7840: 100%|██████████| 1/1 [00:00<00:00,  2.03it/s]\n",
      "Val Epoch: [11/20], Loss: 1.5850, Acc_Val: 0.6290: 100%|██████████| 7/7 [00:00<00:00,  7.03it/s]\n",
      "Train Epoch: [12/20], lr: 0.001000, Loss: 1.4188, Acc_Train: 0.8080: 100%|██████████| 1/1 [00:00<00:00,  2.01it/s]\n",
      "Val Epoch: [12/20], Loss: 1.4806, Acc_Val: 0.6462: 100%|██████████| 7/7 [00:01<00:00,  6.97it/s]\n",
      "Train Epoch: [13/20], lr: 0.001000, Loss: 1.3124, Acc_Train: 0.8260: 100%|██████████| 1/1 [00:00<00:00,  2.03it/s]\n",
      "Val Epoch: [13/20], Loss: 1.3763, Acc_Val: 0.6624: 100%|██████████| 7/7 [00:01<00:00,  6.99it/s]\n",
      "Train Epoch: [14/20], lr: 0.001000, Loss: 1.2118, Acc_Train: 0.8480: 100%|██████████| 1/1 [00:00<00:00,  2.04it/s]\n",
      "Val Epoch: [14/20], Loss: 1.2816, Acc_Val: 0.6704: 100%|██████████| 7/7 [00:00<00:00,  7.03it/s]\n",
      "Train Epoch: [15/20], lr: 0.001000, Loss: 1.1189, Acc_Train: 0.8580: 100%|██████████| 1/1 [00:00<00:00,  2.02it/s]\n",
      "Val Epoch: [15/20], Loss: 1.1974, Acc_Val: 0.6762: 100%|██████████| 7/7 [00:00<00:00,  7.02it/s]\n",
      "Train Epoch: [16/20], lr: 0.001000, Loss: 1.0339, Acc_Train: 0.8620: 100%|██████████| 1/1 [00:00<00:00,  2.03it/s]\n",
      "Val Epoch: [16/20], Loss: 1.1334, Acc_Val: 0.6812: 100%|██████████| 7/7 [00:00<00:00,  7.03it/s]\n",
      "Train Epoch: [17/20], lr: 0.001000, Loss: 0.9559, Acc_Train: 0.8660: 100%|██████████| 1/1 [00:00<00:00,  2.02it/s]\n",
      "Val Epoch: [17/20], Loss: 1.0797, Acc_Val: 0.6852: 100%|██████████| 7/7 [00:01<00:00,  6.98it/s]\n",
      "Train Epoch: [18/20], lr: 0.001000, Loss: 0.8838, Acc_Train: 0.8680: 100%|██████████| 1/1 [00:00<00:00,  2.00it/s]\n",
      "Val Epoch: [18/20], Loss: 1.0444, Acc_Val: 0.6886: 100%|██████████| 7/7 [00:01<00:00,  6.98it/s]\n",
      "Train Epoch: [19/20], lr: 0.001000, Loss: 0.8165, Acc_Train: 0.8740: 100%|██████████| 1/1 [00:00<00:00,  1.99it/s]\n",
      "Val Epoch: [19/20], Loss: 1.0030, Acc_Val: 0.6946: 100%|██████████| 7/7 [00:01<00:00,  6.98it/s]\n",
      "Train Epoch: [20/20], lr: 0.001000, Loss: 0.7530, Acc_Train: 0.8900: 100%|██████████| 1/1 [00:00<00:00,  1.99it/s]\n",
      "Val Epoch: [20/20], Loss: 0.9764, Acc_Val: 0.7010: 100%|██████████| 7/7 [00:01<00:00,  6.94it/s]\n",
      "Train Epoch: [21/20], lr: 0.001000, Loss: 0.6929, Acc_Train: 0.9000: 100%|██████████| 1/1 [00:00<00:00,  2.02it/s]\n",
      "Val Epoch: [21/20], Loss: 0.9548, Acc_Val: 0.7076: 100%|██████████| 7/7 [00:00<00:00,  7.01it/s]\n",
      "Train Epoch: [22/20], lr: 0.001000, Loss: 0.6361, Acc_Train: 0.9160: 100%|██████████| 1/1 [00:00<00:00,  2.02it/s]\n",
      "Val Epoch: [22/20], Loss: 0.9331, Acc_Val: 0.7112: 100%|██████████| 7/7 [00:01<00:00,  6.97it/s]\n",
      "Train Epoch: [23/20], lr: 0.001000, Loss: 0.5826, Acc_Train: 0.9320: 100%|██████████| 1/1 [00:00<00:00,  2.03it/s]\n",
      "Val Epoch: [23/20], Loss: 0.9151, Acc_Val: 0.7170: 100%|██████████| 7/7 [00:00<00:00,  7.00it/s]\n",
      "Train Epoch: [24/20], lr: 0.001000, Loss: 0.5323, Acc_Train: 0.9360: 100%|██████████| 1/1 [00:00<00:00,  2.03it/s]\n",
      "Val Epoch: [24/20], Loss: 0.9010, Acc_Val: 0.7202: 100%|██████████| 7/7 [00:01<00:00,  7.00it/s]\n",
      "Train Epoch: [25/20], lr: 0.001000, Loss: 0.4854, Acc_Train: 0.9420: 100%|██████████| 1/1 [00:00<00:00,  2.03it/s]\n",
      "Val Epoch: [25/20], Loss: 0.8958, Acc_Val: 0.7208: 100%|██████████| 7/7 [00:00<00:00,  7.06it/s]\n",
      "Train Epoch: [26/20], lr: 0.001000, Loss: 0.4415, Acc_Train: 0.9540: 100%|██████████| 1/1 [00:00<00:00,  2.04it/s]\n",
      "Val Epoch: [26/20], Loss: 0.8887, Acc_Val: 0.7250: 100%|██████████| 7/7 [00:00<00:00,  7.03it/s]\n",
      "Train Epoch: [27/20], lr: 0.001000, Loss: 0.4007, Acc_Train: 0.9640: 100%|██████████| 1/1 [00:00<00:00,  2.03it/s]\n",
      "Val Epoch: [27/20], Loss: 0.8816, Acc_Val: 0.7274: 100%|██████████| 7/7 [00:01<00:00,  7.00it/s]\n",
      "Train Epoch: [28/20], lr: 0.001000, Loss: 0.3627, Acc_Train: 0.9720: 100%|██████████| 1/1 [00:00<00:00,  2.01it/s]\n",
      "Val Epoch: [28/20], Loss: 0.8778, Acc_Val: 0.7290: 100%|██████████| 7/7 [00:01<00:00,  6.87it/s]\n",
      "Train Epoch: [29/20], lr: 0.001000, Loss: 0.3276, Acc_Train: 0.9800: 100%|██████████| 1/1 [00:00<00:00,  2.05it/s]\n",
      "Val Epoch: [29/20], Loss: 0.8782, Acc_Val: 0.7278: 100%|██████████| 7/7 [00:01<00:00,  6.98it/s]\n",
      "Train Epoch: [30/20], lr: 0.001000, Loss: 0.2950, Acc_Train: 0.9840: 100%|██████████| 1/1 [00:00<00:00,  2.01it/s]\n",
      "Val Epoch: [30/20], Loss: 0.8740, Acc_Val: 0.7296: 100%|██████████| 7/7 [00:00<00:00,  7.01it/s]\n",
      "Train Epoch: [31/20], lr: 0.001000, Loss: 0.2651, Acc_Train: 0.9900: 100%|██████████| 1/1 [00:00<00:00,  1.99it/s]\n",
      "Val Epoch: [31/20], Loss: 0.8733, Acc_Val: 0.7310: 100%|██████████| 7/7 [00:01<00:00,  6.69it/s]\n",
      "Train Epoch: [32/20], lr: 0.001000, Loss: 0.2376, Acc_Train: 0.9920: 100%|██████████| 1/1 [00:00<00:00,  2.01it/s]\n",
      "Val Epoch: [32/20], Loss: 0.8735, Acc_Val: 0.7306: 100%|██████████| 7/7 [00:01<00:00,  6.95it/s]\n",
      "Train Epoch: [33/20], lr: 0.001000, Loss: 0.2126, Acc_Train: 0.9940: 100%|██████████| 1/1 [00:00<00:00,  1.97it/s]\n",
      "Val Epoch: [33/20], Loss: 0.8793, Acc_Val: 0.7288: 100%|██████████| 7/7 [00:01<00:00,  6.75it/s]\n",
      "Train Epoch: [34/20], lr: 0.001000, Loss: 0.1900, Acc_Train: 0.9940: 100%|██████████| 1/1 [00:00<00:00,  1.98it/s]\n",
      "Val Epoch: [34/20], Loss: 0.8786, Acc_Val: 0.7288: 100%|██████████| 7/7 [00:01<00:00,  6.97it/s]\n",
      "Train Epoch: [35/20], lr: 0.001000, Loss: 0.1697, Acc_Train: 0.9940: 100%|██████████| 1/1 [00:00<00:00,  1.97it/s]\n",
      "Val Epoch: [35/20], Loss: 0.8775, Acc_Val: 0.7306: 100%|██████████| 7/7 [00:01<00:00,  6.69it/s]\n",
      "Train Epoch: [36/20], lr: 0.001000, Loss: 0.1515, Acc_Train: 0.9940: 100%|██████████| 1/1 [00:00<00:00,  2.01it/s]\n",
      "Val Epoch: [36/20], Loss: 0.8639, Acc_Val: 0.7318: 100%|██████████| 7/7 [00:00<00:00,  7.03it/s]\n",
      "Train Epoch: [37/20], lr: 0.001000, Loss: 0.1353, Acc_Train: 0.9960: 100%|██████████| 1/1 [00:00<00:00,  1.98it/s]\n",
      "Val Epoch: [37/20], Loss: 0.8713, Acc_Val: 0.7334: 100%|██████████| 7/7 [00:01<00:00,  6.92it/s]\n",
      "Train Epoch: [38/20], lr: 0.001000, Loss: 0.1209, Acc_Train: 1.0000: 100%|██████████| 1/1 [00:00<00:00,  1.99it/s]\n"
     ]
    },
    {
     "name": "stderr",
     "output_type": "stream",
     "text": [
      "Val Epoch: [38/20], Loss: 0.8646, Acc_Val: 0.7340: 100%|██████████| 7/7 [00:00<00:00,  7.02it/s]\n",
      "Train Epoch: [39/20], lr: 0.001000, Loss: 0.1082, Acc_Train: 1.0000: 100%|██████████| 1/1 [00:00<00:00,  2.02it/s]\n",
      "Val Epoch: [39/20], Loss: 0.8556, Acc_Val: 0.7356: 100%|██████████| 7/7 [00:00<00:00,  7.03it/s]\n",
      "Train Epoch: [40/20], lr: 0.001000, Loss: 0.0971, Acc_Train: 1.0000: 100%|██████████| 1/1 [00:00<00:00,  2.00it/s]\n",
      "Val Epoch: [40/20], Loss: 0.8497, Acc_Val: 0.7364: 100%|██████████| 7/7 [00:01<00:00,  6.60it/s]\n",
      "Train Epoch: [41/20], lr: 0.001000, Loss: 0.0873, Acc_Train: 1.0000: 100%|██████████| 1/1 [00:00<00:00,  2.00it/s]\n",
      "Val Epoch: [41/20], Loss: 0.8435, Acc_Val: 0.7390: 100%|██████████| 7/7 [00:00<00:00,  7.06it/s]\n",
      "Train Epoch: [42/20], lr: 0.001000, Loss: 0.0788, Acc_Train: 1.0000: 100%|██████████| 1/1 [00:00<00:00,  2.01it/s]\n",
      "Val Epoch: [42/20], Loss: 0.8444, Acc_Val: 0.7408: 100%|██████████| 7/7 [00:01<00:00,  6.96it/s]\n",
      "Train Epoch: [43/20], lr: 0.001000, Loss: 0.0714, Acc_Train: 1.0000: 100%|██████████| 1/1 [00:00<00:00,  1.98it/s]\n",
      "Val Epoch: [43/20], Loss: 0.8399, Acc_Val: 0.7402: 100%|██████████| 7/7 [00:01<00:00,  6.89it/s]\n",
      "Train Epoch: [44/20], lr: 0.001000, Loss: 0.0650, Acc_Train: 1.0000: 100%|██████████| 1/1 [00:00<00:00,  2.00it/s]\n",
      "Val Epoch: [44/20], Loss: 0.8325, Acc_Val: 0.7414: 100%|██████████| 7/7 [00:01<00:00,  6.70it/s]\n",
      "Train Epoch: [45/20], lr: 0.001000, Loss: 0.0595, Acc_Train: 1.0000: 100%|██████████| 1/1 [00:00<00:00,  1.96it/s]\n",
      "Val Epoch: [45/20], Loss: 0.8323, Acc_Val: 0.7420: 100%|██████████| 7/7 [00:00<00:00,  7.00it/s]\n",
      "Train Epoch: [46/20], lr: 0.001000, Loss: 0.0548, Acc_Train: 1.0000: 100%|██████████| 1/1 [00:00<00:00,  2.01it/s]\n",
      "Val Epoch: [46/20], Loss: 0.8338, Acc_Val: 0.7420: 100%|██████████| 7/7 [00:00<00:00,  7.01it/s]\n",
      "Train Epoch: [47/20], lr: 0.001000, Loss: 0.0507, Acc_Train: 1.0000: 100%|██████████| 1/1 [00:00<00:00,  2.00it/s]\n",
      "Val Epoch: [47/20], Loss: 0.8326, Acc_Val: 0.7414: 100%|██████████| 7/7 [00:01<00:00,  6.59it/s]\n",
      "Train Epoch: [48/20], lr: 0.001000, Loss: 0.0472, Acc_Train: 1.0000: 100%|██████████| 1/1 [00:00<00:00,  2.02it/s]\n",
      "Val Epoch: [48/20], Loss: 0.8346, Acc_Val: 0.7408: 100%|██████████| 7/7 [00:00<00:00,  7.03it/s]\n",
      "Train Epoch: [49/20], lr: 0.001000, Loss: 0.0442, Acc_Train: 1.0000: 100%|██████████| 1/1 [00:00<00:00,  1.96it/s]\n",
      "Val Epoch: [49/20], Loss: 0.8306, Acc_Val: 0.7398: 100%|██████████| 7/7 [00:01<00:00,  6.63it/s]\n"
     ]
    }
   ],
   "source": [
    "# Start training\n",
    "train_losses =[]\n",
    "val_losses = []\n",
    "train_accs = []\n",
    "val_accs = []\n",
    "\n",
    "\"\"\"\n",
    "for epoch in range(epoch_start, args.epochs + 1):\n",
    "    train_loss, neg_sim, pos_sim, lr = smtr.train(model, train_loader, optimizer, epoch, args)\n",
    "    if (epoch % 1) == 0:\n",
    "        model.module.switch = True\n",
    "        for _ in range(1):\n",
    "            train_loss, train_acc = let.train_lr(train_loader_nonaug, model, criterion, optimizer, epoch, args.epochs, args)\n",
    "            val_loss, val_acc = let.test_lr(val_loader, model, criterion, epoch, args.epochs, args)\n",
    "            train_losses.append(train_loss)\n",
    "            train_accs.append(train_acc)\n",
    "            val_losses.append(val_loss)\n",
    "            val_accs.append(val_acc)\n",
    "        model.module.switch = False\n",
    "\"\"\"       \n",
    "model.switch = True\n",
    "for epoch in range(50):\n",
    "    train_loss, train_acc = let.train_lr(train_loader_nonaug, model, criterion, optimizer, epoch, args.epochs, args)\n",
    "    val_loss, val_acc = let.test_lr(val_loader, model, criterion, epoch, args.epochs, args)\n",
    "    train_losses.append(train_loss)\n",
    "    train_accs.append(train_acc)\n",
    "    val_losses.append(val_loss)\n",
    "    val_accs.append(val_acc)"
   ]
  },
  {
   "cell_type": "code",
   "execution_count": 43,
   "metadata": {},
   "outputs": [
    {
     "data": {
      "image/png": "[encoded data removed]",
      "text/plain": [
       "<Figure size 432x288 with 1 Axes>"
      ]
     },
     "metadata": {},
     "output_type": "display_data"
    },
    {
     "name": "stdout",
     "output_type": "stream",
     "text": [
      "Best Loss-Value for Validation: 0.8306214213371277 at Epoch 50\n"
     ]
    },
    {
     "data": {
      "image/png": "[encoded data removed]",
      "text/plain": [
       "<Figure size 432x288 with 1 Axes>"
      ]
     },
     "metadata": {},
     "output_type": "display_data"
    },
    {
     "name": "stdout",
     "output_type": "stream",
     "text": [
      "Best Accuracy for Validation: 0.742 at Epoch 46\n"
     ]
    }
   ],
   "source": [
    "min_value = min(val_losses)\n",
    "min_index = val_losses.index(min_value)+1\n",
    "\n",
    "plot(\"Loss vs Epoch\", \"Loss\", train_losses, val_losses, yscale='linear', save_path=None, \n",
    "         extra_pt=(min_index, min_value), extra_pt_label=\"Best Model\")\n",
    "print(f\"Best Loss-Value for Validation: {min_value} at Epoch {min_index}\")\n",
    "\n",
    "max_value = max(val_accs)\n",
    "max_index = val_accs.index(max_value)+1\n",
    "plot(\"Acc vs Epoch\", \"Accuracy\", train_accs, val_accs, yscale='linear', save_path=None, \n",
    "         extra_pt=(max_index, max_value), extra_pt_label=\"Best Model\")\n",
    "print(f\"Best Accuracy for Validation: {max_value} at Epoch {max_index}\")"
   ]
  },
  {
   "cell_type": "code",
   "execution_count": null,
   "metadata": {},
   "outputs": [],
   "source": []
  }
 ],
 "metadata": {
  "kernelspec": {
   "display_name": "Python 3",
   "language": "python",
   "name": "python3"
  },
  "language_info": {
   "codemirror_mode": {
    "name": "ipython",
    "version": 3
   },
   "file_extension": ".py",
   "mimetype": "text/x-python",
   "name": "python",
   "nbconvert_exporter": "python",
   "pygments_lexer": "ipython3",
   "version": "3.8.2"
  }
 },
 "nbformat": 4,
 "nbformat_minor": 4
}
